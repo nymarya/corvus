{
 "cells": [
  {
   "cell_type": "code",
   "execution_count": 1,
   "metadata": {
    "colab": {
     "base_uri": "https://localhost:8080/",
     "height": 309
    },
    "colab_type": "code",
    "executionInfo": {
     "elapsed": 5255,
     "status": "ok",
     "timestamp": 1566668571407,
     "user": {
      "displayName": "MAYRA DANTAS",
      "photoUrl": "https://lh3.googleusercontent.com/a-/AAuE7mC1Nk3Cdh9E0tWxPoHxnjsDZc7rkChaMFPbhtGo=s64",
      "userId": "09389505834223807513"
     },
     "user_tz": 180
    },
    "id": "T-BHdQT7wDdU",
    "outputId": "2738c1ec-b128-4b29-d52b-80b1af8be165"
   },
   "outputs": [
    {
     "name": "stdout",
     "output_type": "stream",
     "text": [
      "Requirement already satisfied: prf_api in /home/mayra/workspace/brazilian-roads-api (0.1.11)\n",
      "Collecting Click>=6.0 (from prf_api)\n",
      "  Using cached https://files.pythonhosted.org/packages/fa/37/45185cb5abbc30d7257104c434fe0b07e5a195a6847506c074527aa599ec/Click-7.0-py2.py3-none-any.whl\n",
      "Collecting requests==2.22.0 (from prf_api)\n",
      "  Using cached https://files.pythonhosted.org/packages/51/bd/23c926cd341ea6b7dd0b2a00aba99ae0f828be89d72b2190f27c11d4b7fb/requests-2.22.0-py2.py3-none-any.whl\n",
      "Collecting pandas==0.24.2 (from prf_api)\n",
      "\u001b[?25l  Downloading https://files.pythonhosted.org/packages/19/74/e50234bc82c553fecdbd566d8650801e3fe2d6d8c8d940638e3d8a7c5522/pandas-0.24.2-cp36-cp36m-manylinux1_x86_64.whl (10.1MB)\n",
      "\u001b[K     |████████████████████████████████| 10.1MB 672kB/s \n",
      "\u001b[?25hRequirement already satisfied: rarfile==3.0 in /usr/local/lib/python3.6/dist-packages (from prf_api) (3.0)\n",
      "Collecting beautifulsoup4==4.7.1 (from prf_api)\n",
      "\u001b[?25l  Downloading https://files.pythonhosted.org/packages/1d/5d/3260694a59df0ec52f8b4883f5d23b130bc237602a1411fa670eae12351e/beautifulsoup4-4.7.1-py3-none-any.whl (94kB)\n",
      "\u001b[K     |████████████████████████████████| 102kB 580kB/s \n",
      "\u001b[?25hCollecting unrar==0.3 (from prf_api)\n",
      "  Downloading https://files.pythonhosted.org/packages/bc/cb/2e9dcc0632ea96c3618b47d30ec1d8bcb55e0f45137690c9f2dae4ece762/unrar-0.3.tar.gz\n",
      "Requirement already satisfied: certifi>=2017.4.17 in /usr/lib/python3/dist-packages (from requests==2.22.0->prf_api) (2018.1.18)\n",
      "Requirement already satisfied: chardet<3.1.0,>=3.0.2 in /usr/lib/python3/dist-packages (from requests==2.22.0->prf_api) (3.0.4)\n",
      "Requirement already satisfied: idna<2.9,>=2.5 in /usr/lib/python3/dist-packages (from requests==2.22.0->prf_api) (2.6)\n",
      "Requirement already satisfied: urllib3!=1.25.0,!=1.25.1,<1.26,>=1.21.1 in /usr/lib/python3/dist-packages (from requests==2.22.0->prf_api) (1.22)\n",
      "Requirement already satisfied: python-dateutil>=2.5.0 in /home/mayra/.local/lib/python3.6/site-packages (from pandas==0.24.2->prf_api) (2.7.5)\n",
      "Requirement already satisfied: numpy>=1.12.0 in /home/mayra/.local/lib/python3.6/site-packages (from pandas==0.24.2->prf_api) (1.15.4)\n",
      "Requirement already satisfied: pytz>=2011k in /usr/lib/python3/dist-packages (from pandas==0.24.2->prf_api) (2018.3)\n",
      "Requirement already satisfied: soupsieve>=1.2 in /usr/local/lib/python3.6/dist-packages (from beautifulsoup4==4.7.1->prf_api) (1.9.2)\n",
      "Requirement already satisfied: six>=1.5 in /home/mayra/.local/lib/python3.6/site-packages (from python-dateutil>=2.5.0->pandas==0.24.2->prf_api) (1.11.0)\n",
      "Building wheels for collected packages: unrar\n",
      "  Building wheel for unrar (setup.py) ... \u001b[?25ldone\n",
      "\u001b[?25h  Created wheel for unrar: filename=unrar-0.3-cp36-none-any.whl size=9807 sha256=fb82e0ea3fe8add9be064ae6211442ce46e060f07b7d125dfaaccf1546158dfa\n",
      "  Stored in directory: /home/mayra/.cache/pip/wheels/c7/a9/1a/c5a381df313452ec2a000c9eae2188a2963df5f2f940073a5f\n",
      "Successfully built unrar\n",
      "Installing collected packages: Click, requests, pandas, beautifulsoup4, unrar\n",
      "\u001b[31mERROR: Could not install packages due to an EnvironmentError: [Errno 13] Permission denied: '/usr/local/lib/python3.6/dist-packages/click'\n",
      "Consider using the `--user` option or check the permissions.\n",
      "\u001b[0m\n",
      "\u001b[33mWARNING: You are using pip version 19.2.2, however version 19.2.3 is available.\n",
      "You should consider upgrading via the 'pip install --upgrade pip' command.\u001b[0m\n"
     ]
    }
   ],
   "source": [
    "!pip install prf_api"
   ]
  },
  {
   "cell_type": "code",
   "execution_count": 2,
   "metadata": {
    "colab": {},
    "colab_type": "code",
    "id": "vmkF2G9IwO5K"
   },
   "outputs": [],
   "source": [
    "from prf_api.prf_api import PRFApi\n",
    "\n",
    "import pandas as pd\n",
    "import numpy as np"
   ]
  },
  {
   "cell_type": "markdown",
   "metadata": {
    "colab_type": "text",
    "id": "4Fx0A7v5wlyw"
   },
   "source": [
    "## Getting the data"
   ]
  },
  {
   "cell_type": "code",
   "execution_count": 14,
   "metadata": {
    "colab": {},
    "colab_type": "code",
    "id": "FWobNnDpwi1X"
   },
   "outputs": [],
   "source": [
    "data = PRFApi()"
   ]
  },
  {
   "cell_type": "code",
   "execution_count": 19,
   "metadata": {},
   "outputs": [
    {
     "name": "stdout",
     "output_type": "stream",
     "text": [
      "Buscando datasets de infracoes para o ano 2015...\n",
      "\u001b[94m>> Baixando 2015/fev.csv\u001b[0m\n",
      "\u001b[94m>> Baixando 2015/jan.csv\u001b[0m\n",
      "\u001b[94m>> Baixando 2015/jul.csv\u001b[0m\n",
      "\u001b[94m>> Baixando 2015/jun.csv\u001b[0m\n",
      "\u001b[94m>> Baixando 2015/mai.csv\u001b[0m\n",
      "\u001b[94m>> Baixando 2015/mar.csv\u001b[0m\n",
      "\u001b[94m>> Baixando 2015/nov.csv\u001b[0m\n",
      "\u001b[94m>> Baixando 2015/out.csv\u001b[0m\n",
      "\u001b[94m>> Baixando 2015/set.csv\u001b[0m\n",
      "\u001b[94m>> Baixando 2015/abr.csv\u001b[0m\n",
      "\u001b[94m>> Baixando 2015/ago.csv\u001b[0m\n",
      "\u001b[94m>> Baixando 2015/dez.csv\u001b[0m\n",
      "Buscando datasets de infracoes para o ano 2016...\n",
      "\u001b[94m>> Baixando 2016/jun.csv\u001b[0m\n",
      "\u001b[94m>> Baixando 2016/mai.csv\u001b[0m\n",
      "\u001b[94m>> Baixando 2016/mar.csv\u001b[0m\n",
      "\u001b[94m>> Baixando 2016/nov.csv\u001b[0m\n",
      "\u001b[94m>> Baixando 2016/out.csv\u001b[0m\n",
      "\u001b[94m>> Baixando 2016/set.csv\u001b[0m\n",
      "\u001b[94m>> Baixando 2016/abr.csv\u001b[0m\n",
      "\u001b[94m>> Baixando 2016/ago.csv\u001b[0m\n",
      "\u001b[94m>> Baixando 2016/dez.csv\u001b[0m\n",
      "\u001b[94m>> Baixando 2016/fev.csv\u001b[0m\n",
      "\u001b[94m>> Baixando 2016/jan.csv\u001b[0m\n",
      "\u001b[94m>> Baixando 2016/jul.csv\u001b[0m\n",
      "Buscando datasets de infracoes para o ano 2017...\n",
      "\u001b[94m>> Baixando 2017/ago.csv\u001b[0m\n",
      "\u001b[94m>> Baixando 2017/dez.csv\u001b[0m\n",
      "\u001b[94m>> Baixando 2017/fev.csv\u001b[0m\n",
      "\u001b[94m>> Baixando 2017/jan.csv\u001b[0m\n",
      "\u001b[94m>> Baixando 2017/jul.csv\u001b[0m\n",
      "\u001b[94m>> Baixando 2017/jun.csv\u001b[0m\n",
      "\u001b[94m>> Baixando 2017/mai.csv\u001b[0m\n",
      "\u001b[94m>> Baixando 2017/mar.csv\u001b[0m\n",
      "\u001b[94m>> Baixando 2017/nov.csv\u001b[0m\n",
      "\u001b[94m>> Baixando 2017/out.csv\u001b[0m\n",
      "\u001b[94m>> Baixando 2017/set.csv\u001b[0m\n",
      "\u001b[94m>> Baixando 2017/abr.csv\u001b[0m\n",
      "Buscando datasets de infracoes para o ano 2018...\n",
      "\u001b[94m>> Baixando 2018/abr.csv\u001b[0m\n",
      "\u001b[94m>> Baixando 2018/ago.csv\u001b[0m\n",
      "\u001b[94m>> Baixando 2018/dez.csv\u001b[0m\n",
      "\u001b[94m>> Baixando 2018/fev.csv\u001b[0m\n",
      "\u001b[94m>> Baixando 2018/jan.csv\u001b[0m\n",
      "\u001b[94m>> Baixando 2018/jul.csv\u001b[0m\n",
      "\u001b[94m>> Baixando 2018/jun.csv\u001b[0m\n",
      "\u001b[94m>> Baixando 2018/mai.csv\u001b[0m\n",
      "\u001b[94m>> Baixando 2018/mar.csv\u001b[0m\n",
      "\u001b[94m>> Baixando 2018/nov.csv\u001b[0m\n",
      "\u001b[94m>> Baixando 2018/out.csv\u001b[0m\n",
      "\u001b[94m>> Baixando 2018/set.csv\u001b[0m\n"
     ]
    }
   ],
   "source": [
    "data.baixar('infracoes', anos=list(range(2015, 2019)), caminho='../data/raw')"
   ]
  },
  {
   "cell_type": "code",
   "execution_count": 15,
   "metadata": {
    "colab": {
     "base_uri": "https://localhost:8080/",
     "height": 445
    },
    "colab_type": "code",
    "executionInfo": {
     "elapsed": 311062,
     "status": "ok",
     "timestamp": 1566673058465,
     "user": {
      "displayName": "MAYRA DANTAS",
      "photoUrl": "https://lh3.googleusercontent.com/a-/AAuE7mC1Nk3Cdh9E0tWxPoHxnjsDZc7rkChaMFPbhtGo=s64",
      "userId": "09389505834223807513"
     },
     "user_tz": 180
    },
    "id": "ntktEwlMwk-Z",
    "outputId": "479d36d1-8f8f-4724-efe9-1fa776025533"
   },
   "outputs": [
    {
     "name": "stdout",
     "output_type": "stream",
     "text": [
      ">>> Criando dataframe com ano 2007...\n",
      ">>> Criando dataframe com ano 2008...\n"
     ]
    },
    {
     "ename": "KeyboardInterrupt",
     "evalue": "",
     "output_type": "error",
     "traceback": [
      "\u001b[0;31m--------------------------------------------------------\u001b[0m",
      "\u001b[0;31mKeyboardInterrupt\u001b[0m      Traceback (most recent call last)",
      "\u001b[0;32m<ipython-input-15-eaac6cf68bc5>\u001b[0m in \u001b[0;36m<module>\u001b[0;34m\u001b[0m\n\u001b[0;32m----> 1\u001b[0;31m \u001b[0minfracoes_df\u001b[0m \u001b[0;34m=\u001b[0m \u001b[0mdata\u001b[0m\u001b[0;34m.\u001b[0m\u001b[0mdataframe\u001b[0m\u001b[0;34m(\u001b[0m\u001b[0;34m'infracoes'\u001b[0m\u001b[0;34m,\u001b[0m \u001b[0mestado\u001b[0m\u001b[0;34m=\u001b[0m\u001b[0;34m'RN'\u001b[0m\u001b[0;34m,\u001b[0m \u001b[0manos\u001b[0m\u001b[0;34m=\u001b[0m\u001b[0mlist\u001b[0m\u001b[0;34m(\u001b[0m\u001b[0mrange\u001b[0m\u001b[0;34m(\u001b[0m\u001b[0;36m2007\u001b[0m\u001b[0;34m,\u001b[0m \u001b[0;36m2019\u001b[0m\u001b[0;34m)\u001b[0m\u001b[0;34m)\u001b[0m\u001b[0;34m,\u001b[0m \u001b[0mcaminho\u001b[0m\u001b[0;34m=\u001b[0m\u001b[0;34m'../data/raw'\u001b[0m\u001b[0;34m)\u001b[0m\u001b[0;34m\u001b[0m\u001b[0;34m\u001b[0m\u001b[0m\n\u001b[0m",
      "\u001b[0;32m~/workspace/brazilian-roads-api/prf_api/prf_api.py\u001b[0m in \u001b[0;36mdataframe\u001b[0;34m(self, tipo, anos, caminho, estado, regiao)\u001b[0m\n\u001b[1;32m    239\u001b[0m                 \u001b[0mcaminho_arquivo\u001b[0m \u001b[0;34m=\u001b[0m \u001b[0;34m'{}/{}'\u001b[0m\u001b[0;34m.\u001b[0m\u001b[0mformat\u001b[0m\u001b[0;34m(\u001b[0m\u001b[0mpasta\u001b[0m\u001b[0;34m,\u001b[0m \u001b[0marquivo\u001b[0m\u001b[0;34m)\u001b[0m\u001b[0;34m\u001b[0m\u001b[0;34m\u001b[0m\u001b[0m\n\u001b[1;32m    240\u001b[0m                 \u001b[0;32mtry\u001b[0m\u001b[0;34m:\u001b[0m\u001b[0;34m\u001b[0m\u001b[0;34m\u001b[0m\u001b[0m\n\u001b[0;32m--> 241\u001b[0;31m                     \u001b[0mdf\u001b[0m \u001b[0;34m=\u001b[0m \u001b[0mpd\u001b[0m\u001b[0;34m.\u001b[0m\u001b[0mread_csv\u001b[0m\u001b[0;34m(\u001b[0m\u001b[0mcaminho_arquivo\u001b[0m\u001b[0;34m,\u001b[0m \u001b[0mencoding\u001b[0m\u001b[0;34m=\u001b[0m\u001b[0;34m'latin1'\u001b[0m\u001b[0;34m)\u001b[0m\u001b[0;34m\u001b[0m\u001b[0;34m\u001b[0m\u001b[0m\n\u001b[0m\u001b[1;32m    242\u001b[0m                 \u001b[0;32mexcept\u001b[0m \u001b[0mpd\u001b[0m\u001b[0;34m.\u001b[0m\u001b[0merrors\u001b[0m\u001b[0;34m.\u001b[0m\u001b[0mParserError\u001b[0m\u001b[0;34m:\u001b[0m\u001b[0;34m\u001b[0m\u001b[0;34m\u001b[0m\u001b[0m\n\u001b[1;32m    243\u001b[0m                     \u001b[0;31m# Checa se o csv foi separado corretamente\u001b[0m\u001b[0;34m\u001b[0m\u001b[0;34m\u001b[0m\u001b[0;34m\u001b[0m\u001b[0m\n",
      "\u001b[0;32m/usr/local/lib/python3.6/dist-packages/pandas/io/parsers.py\u001b[0m in \u001b[0;36mparser_f\u001b[0;34m(filepath_or_buffer, sep, delimiter, header, names, index_col, usecols, squeeze, prefix, mangle_dupe_cols, dtype, engine, converters, true_values, false_values, skipinitialspace, skiprows, nrows, na_values, keep_default_na, na_filter, verbose, skip_blank_lines, parse_dates, infer_datetime_format, keep_date_col, date_parser, dayfirst, iterator, chunksize, compression, thousands, decimal, lineterminator, quotechar, quoting, escapechar, comment, encoding, dialect, tupleize_cols, error_bad_lines, warn_bad_lines, skipfooter, doublequote, delim_whitespace, low_memory, memory_map, float_precision)\u001b[0m\n\u001b[1;32m    676\u001b[0m                     skip_blank_lines=skip_blank_lines)\n\u001b[1;32m    677\u001b[0m \u001b[0;34m\u001b[0m\u001b[0m\n\u001b[0;32m--> 678\u001b[0;31m         \u001b[0;32mreturn\u001b[0m \u001b[0m_read\u001b[0m\u001b[0;34m(\u001b[0m\u001b[0mfilepath_or_buffer\u001b[0m\u001b[0;34m,\u001b[0m \u001b[0mkwds\u001b[0m\u001b[0;34m)\u001b[0m\u001b[0;34m\u001b[0m\u001b[0;34m\u001b[0m\u001b[0m\n\u001b[0m\u001b[1;32m    679\u001b[0m \u001b[0;34m\u001b[0m\u001b[0m\n\u001b[1;32m    680\u001b[0m     \u001b[0mparser_f\u001b[0m\u001b[0;34m.\u001b[0m\u001b[0m__name__\u001b[0m \u001b[0;34m=\u001b[0m \u001b[0mname\u001b[0m\u001b[0;34m\u001b[0m\u001b[0;34m\u001b[0m\u001b[0m\n",
      "\u001b[0;32m/usr/local/lib/python3.6/dist-packages/pandas/io/parsers.py\u001b[0m in \u001b[0;36m_read\u001b[0;34m(filepath_or_buffer, kwds)\u001b[0m\n\u001b[1;32m    444\u001b[0m \u001b[0;34m\u001b[0m\u001b[0m\n\u001b[1;32m    445\u001b[0m     \u001b[0;32mtry\u001b[0m\u001b[0;34m:\u001b[0m\u001b[0;34m\u001b[0m\u001b[0;34m\u001b[0m\u001b[0m\n\u001b[0;32m--> 446\u001b[0;31m         \u001b[0mdata\u001b[0m \u001b[0;34m=\u001b[0m \u001b[0mparser\u001b[0m\u001b[0;34m.\u001b[0m\u001b[0mread\u001b[0m\u001b[0;34m(\u001b[0m\u001b[0mnrows\u001b[0m\u001b[0;34m)\u001b[0m\u001b[0;34m\u001b[0m\u001b[0;34m\u001b[0m\u001b[0m\n\u001b[0m\u001b[1;32m    447\u001b[0m     \u001b[0;32mfinally\u001b[0m\u001b[0;34m:\u001b[0m\u001b[0;34m\u001b[0m\u001b[0;34m\u001b[0m\u001b[0m\n\u001b[1;32m    448\u001b[0m         \u001b[0mparser\u001b[0m\u001b[0;34m.\u001b[0m\u001b[0mclose\u001b[0m\u001b[0;34m(\u001b[0m\u001b[0;34m)\u001b[0m\u001b[0;34m\u001b[0m\u001b[0;34m\u001b[0m\u001b[0m\n",
      "\u001b[0;32m/usr/local/lib/python3.6/dist-packages/pandas/io/parsers.py\u001b[0m in \u001b[0;36mread\u001b[0;34m(self, nrows)\u001b[0m\n\u001b[1;32m   1034\u001b[0m                 \u001b[0;32mraise\u001b[0m \u001b[0mValueError\u001b[0m\u001b[0;34m(\u001b[0m\u001b[0;34m'skipfooter not supported for iteration'\u001b[0m\u001b[0;34m)\u001b[0m\u001b[0;34m\u001b[0m\u001b[0;34m\u001b[0m\u001b[0m\n\u001b[1;32m   1035\u001b[0m \u001b[0;34m\u001b[0m\u001b[0m\n\u001b[0;32m-> 1036\u001b[0;31m         \u001b[0mret\u001b[0m \u001b[0;34m=\u001b[0m \u001b[0mself\u001b[0m\u001b[0;34m.\u001b[0m\u001b[0m_engine\u001b[0m\u001b[0;34m.\u001b[0m\u001b[0mread\u001b[0m\u001b[0;34m(\u001b[0m\u001b[0mnrows\u001b[0m\u001b[0;34m)\u001b[0m\u001b[0;34m\u001b[0m\u001b[0;34m\u001b[0m\u001b[0m\n\u001b[0m\u001b[1;32m   1037\u001b[0m \u001b[0;34m\u001b[0m\u001b[0m\n\u001b[1;32m   1038\u001b[0m         \u001b[0;31m# May alter columns / col_dict\u001b[0m\u001b[0;34m\u001b[0m\u001b[0;34m\u001b[0m\u001b[0;34m\u001b[0m\u001b[0m\n",
      "\u001b[0;32m/usr/local/lib/python3.6/dist-packages/pandas/io/parsers.py\u001b[0m in \u001b[0;36mread\u001b[0;34m(self, nrows)\u001b[0m\n\u001b[1;32m   1846\u001b[0m     \u001b[0;32mdef\u001b[0m \u001b[0mread\u001b[0m\u001b[0;34m(\u001b[0m\u001b[0mself\u001b[0m\u001b[0;34m,\u001b[0m \u001b[0mnrows\u001b[0m\u001b[0;34m=\u001b[0m\u001b[0;32mNone\u001b[0m\u001b[0;34m)\u001b[0m\u001b[0;34m:\u001b[0m\u001b[0;34m\u001b[0m\u001b[0;34m\u001b[0m\u001b[0m\n\u001b[1;32m   1847\u001b[0m         \u001b[0;32mtry\u001b[0m\u001b[0;34m:\u001b[0m\u001b[0;34m\u001b[0m\u001b[0;34m\u001b[0m\u001b[0m\n\u001b[0;32m-> 1848\u001b[0;31m             \u001b[0mdata\u001b[0m \u001b[0;34m=\u001b[0m \u001b[0mself\u001b[0m\u001b[0;34m.\u001b[0m\u001b[0m_reader\u001b[0m\u001b[0;34m.\u001b[0m\u001b[0mread\u001b[0m\u001b[0;34m(\u001b[0m\u001b[0mnrows\u001b[0m\u001b[0;34m)\u001b[0m\u001b[0;34m\u001b[0m\u001b[0;34m\u001b[0m\u001b[0m\n\u001b[0m\u001b[1;32m   1849\u001b[0m         \u001b[0;32mexcept\u001b[0m \u001b[0mStopIteration\u001b[0m\u001b[0;34m:\u001b[0m\u001b[0;34m\u001b[0m\u001b[0;34m\u001b[0m\u001b[0m\n\u001b[1;32m   1850\u001b[0m             \u001b[0;32mif\u001b[0m \u001b[0mself\u001b[0m\u001b[0;34m.\u001b[0m\u001b[0m_first_chunk\u001b[0m\u001b[0;34m:\u001b[0m\u001b[0;34m\u001b[0m\u001b[0;34m\u001b[0m\u001b[0m\n",
      "\u001b[0;32mpandas/_libs/parsers.pyx\u001b[0m in \u001b[0;36mpandas._libs.parsers.TextReader.read\u001b[0;34m()\u001b[0m\n",
      "\u001b[0;32mpandas/_libs/parsers.pyx\u001b[0m in \u001b[0;36mpandas._libs.parsers.TextReader._read_low_memory\u001b[0;34m()\u001b[0m\n",
      "\u001b[0;32mpandas/_libs/parsers.pyx\u001b[0m in \u001b[0;36mpandas._libs.parsers.TextReader._read_rows\u001b[0;34m()\u001b[0m\n",
      "\u001b[0;32mpandas/_libs/parsers.pyx\u001b[0m in \u001b[0;36mpandas._libs.parsers.TextReader._convert_column_data\u001b[0;34m()\u001b[0m\n",
      "\u001b[0;32mpandas/_libs/parsers.pyx\u001b[0m in \u001b[0;36mpandas._libs.parsers.TextReader._convert_tokens\u001b[0;34m()\u001b[0m\n",
      "\u001b[0;32mpandas/_libs/parsers.pyx\u001b[0m in \u001b[0;36mpandas._libs.parsers.TextReader._convert_with_dtype\u001b[0;34m()\u001b[0m\n",
      "\u001b[0;32m/usr/local/lib/python3.6/dist-packages/pandas/core/dtypes/common.py\u001b[0m in \u001b[0;36mis_integer_dtype\u001b[0;34m(arr_or_dtype)\u001b[0m\n\u001b[1;32m    809\u001b[0m \u001b[0;34m\u001b[0m\u001b[0m\n\u001b[1;32m    810\u001b[0m \u001b[0;34m\u001b[0m\u001b[0m\n\u001b[0;32m--> 811\u001b[0;31m \u001b[0;32mdef\u001b[0m \u001b[0mis_integer_dtype\u001b[0m\u001b[0;34m(\u001b[0m\u001b[0marr_or_dtype\u001b[0m\u001b[0;34m)\u001b[0m\u001b[0;34m:\u001b[0m\u001b[0;34m\u001b[0m\u001b[0;34m\u001b[0m\u001b[0m\n\u001b[0m\u001b[1;32m    812\u001b[0m     \"\"\"\n\u001b[1;32m    813\u001b[0m     \u001b[0mCheck\u001b[0m \u001b[0mwhether\u001b[0m \u001b[0mthe\u001b[0m \u001b[0mprovided\u001b[0m \u001b[0marray\u001b[0m \u001b[0;32mor\u001b[0m \u001b[0mdtype\u001b[0m \u001b[0;32mis\u001b[0m \u001b[0mof\u001b[0m \u001b[0man\u001b[0m \u001b[0minteger\u001b[0m \u001b[0mdtype\u001b[0m\u001b[0;34m.\u001b[0m\u001b[0;34m\u001b[0m\u001b[0;34m\u001b[0m\u001b[0m\n",
      "\u001b[0;31mKeyboardInterrupt\u001b[0m: "
     ]
    }
   ],
   "source": [
    "infracoes_df = data.dataframe('infracoes', estado='RN', anos=list(range(2007, 2019)), caminho='../data/raw')"
   ]
  },
  {
   "cell_type": "markdown",
   "metadata": {
    "colab_type": "text",
    "id": "DlsJe98eKpzW"
   },
   "source": [
    "### Analisando o dataset\n",
    "\n",
    "Nesta seção, são feitas observações mais superficiais do dataset, buscando pontos de melhoria e inconsistências"
   ]
  },
  {
   "cell_type": "code",
   "execution_count": 6,
   "metadata": {
    "colab": {
     "base_uri": "https://localhost:8080/",
     "height": 476
    },
    "colab_type": "code",
    "executionInfo": {
     "elapsed": 1363,
     "status": "ok",
     "timestamp": 1566673222787,
     "user": {
      "displayName": "MAYRA DANTAS",
      "photoUrl": "https://lh3.googleusercontent.com/a-/AAuE7mC1Nk3Cdh9E0tWxPoHxnjsDZc7rkChaMFPbhtGo=s64",
      "userId": "09389505834223807513"
     },
     "user_tz": 180
    },
    "id": "7ORSJE3bw1PI",
    "outputId": "d2f74345-7ac2-4317-b4b3-d8acb3daf910"
   },
   "outputs": [
    {
     "name": "stdout",
     "output_type": "stream",
     "text": [
      "<class 'pandas.core.frame.DataFrame'>\n",
      "RangeIndex: 361109 entries, 0 to 361108\n",
      "Data columns (total 20 columns):\n",
      "dat_infracao               361109 non-null object\n",
      "tip_abordagem              361109 non-null object\n",
      "ind_assinou_auto           120427 non-null object\n",
      "ind_veiculo_estrangeiro    361109 non-null object\n",
      "ind_sentido_trafego        300534 non-null object\n",
      "uf_placa                   360798 non-null object\n",
      "uf_infracao                361109 non-null object\n",
      "num_br_infracao            361109 non-null float64\n",
      "num_km_infracao            361109 non-null int64\n",
      "nom_municipio              361108 non-null object\n",
      "descricao_abreviada        361109 non-null object\n",
      "enquadramento              361109 non-null object\n",
      "data_inicio_vigencia       361109 non-null object\n",
      "data_fim_vigencia          360641 non-null object\n",
      "med_realizada              75179 non-null float64\n",
      "med_considerada            75178 non-null float64\n",
      "exc_verificado             66670 non-null float64\n",
      "especie                    360405 non-null object\n",
      "nome_veiculo_marca         300528 non-null object\n",
      "nom_modelo_veiculo         323226 non-null object\n",
      "dtypes: float64(4), int64(1), object(15)\n",
      "memory usage: 55.1+ MB\n"
     ]
    }
   ],
   "source": [
    "infracoes_df.info()"
   ]
  },
  {
   "cell_type": "markdown",
   "metadata": {
    "colab_type": "text",
    "id": "nWOBCSAQK5Xa"
   },
   "source": [
    "Alguns pontos foram observados:\n",
    "\n",
    "- O campo `dat_infracao`, `data_inicio_vigencia` e `data_fim_vigencia` devem ser campos datetime\n",
    "- Campos importantes como `hora`, `uf_infracao`, `cod_infracao`,  `tip_abordagem`, entre outros, apresentam poucos dados faltantes (which is nice)\n",
    "- `ind_assinou_auto`, `uf_placa`, `ind_sentido_trafego`, `especie` podem ser características relevantes , mas possuem uma porcentagem de dados faltantes\n",
    "- `hora` deveria ser timestamp"
   ]
  },
  {
   "cell_type": "code",
   "execution_count": 7,
   "metadata": {
    "colab": {
     "base_uri": "https://localhost:8080/",
     "height": 297
    },
    "colab_type": "code",
    "executionInfo": {
     "elapsed": 728,
     "status": "ok",
     "timestamp": 1566673224603,
     "user": {
      "displayName": "MAYRA DANTAS",
      "photoUrl": "https://lh3.googleusercontent.com/a-/AAuE7mC1Nk3Cdh9E0tWxPoHxnjsDZc7rkChaMFPbhtGo=s64",
      "userId": "09389505834223807513"
     },
     "user_tz": 180
    },
    "id": "hvTku8GCO2GV",
    "outputId": "e162a0ae-0ee6-4fe3-8991-d05ff316e5ad"
   },
   "outputs": [
    {
     "data": {
      "text/html": [
       "<div>\n",
       "<style scoped>\n",
       "    .dataframe tbody tr th:only-of-type {\n",
       "        vertical-align: middle;\n",
       "    }\n",
       "\n",
       "    .dataframe tbody tr th {\n",
       "        vertical-align: top;\n",
       "    }\n",
       "\n",
       "    .dataframe thead th {\n",
       "        text-align: right;\n",
       "    }\n",
       "</style>\n",
       "<table border=\"1\" class=\"dataframe\">\n",
       "  <thead>\n",
       "    <tr style=\"text-align: right;\">\n",
       "      <th></th>\n",
       "      <th>num_br_infracao</th>\n",
       "      <th>num_km_infracao</th>\n",
       "      <th>med_realizada</th>\n",
       "      <th>med_considerada</th>\n",
       "      <th>exc_verificado</th>\n",
       "    </tr>\n",
       "  </thead>\n",
       "  <tbody>\n",
       "    <tr>\n",
       "      <th>count</th>\n",
       "      <td>361109.000000</td>\n",
       "      <td>361109.000000</td>\n",
       "      <td>7.517900e+04</td>\n",
       "      <td>7.517800e+04</td>\n",
       "      <td>66670.000000</td>\n",
       "    </tr>\n",
       "    <tr>\n",
       "      <th>mean</th>\n",
       "      <td>233.606321</td>\n",
       "      <td>106.274095</td>\n",
       "      <td>1.249643e+03</td>\n",
       "      <td>1.217823e+03</td>\n",
       "      <td>182.157991</td>\n",
       "    </tr>\n",
       "    <tr>\n",
       "      <th>std</th>\n",
       "      <td>118.946852</td>\n",
       "      <td>71.723058</td>\n",
       "      <td>1.422626e+04</td>\n",
       "      <td>1.312822e+04</td>\n",
       "      <td>3372.982023</td>\n",
       "    </tr>\n",
       "    <tr>\n",
       "      <th>min</th>\n",
       "      <td>0.000000</td>\n",
       "      <td>0.000000</td>\n",
       "      <td>0.000000e+00</td>\n",
       "      <td>-3.000000e-02</td>\n",
       "      <td>-11000.000000</td>\n",
       "    </tr>\n",
       "    <tr>\n",
       "      <th>25%</th>\n",
       "      <td>101.000000</td>\n",
       "      <td>49.000000</td>\n",
       "      <td>8.900000e+01</td>\n",
       "      <td>8.200000e+01</td>\n",
       "      <td>2.000000</td>\n",
       "    </tr>\n",
       "    <tr>\n",
       "      <th>50%</th>\n",
       "      <td>226.000000</td>\n",
       "      <td>99.000000</td>\n",
       "      <td>9.300000e+01</td>\n",
       "      <td>8.600000e+01</td>\n",
       "      <td>6.000000</td>\n",
       "    </tr>\n",
       "    <tr>\n",
       "      <th>75%</th>\n",
       "      <td>304.000000</td>\n",
       "      <td>130.000000</td>\n",
       "      <td>1.010000e+02</td>\n",
       "      <td>9.400000e+01</td>\n",
       "      <td>14.000000</td>\n",
       "    </tr>\n",
       "    <tr>\n",
       "      <th>max</th>\n",
       "      <td>427.000000</td>\n",
       "      <td>3205.000000</td>\n",
       "      <td>3.065910e+06</td>\n",
       "      <td>3.065910e+06</td>\n",
       "      <td>815910.000000</td>\n",
       "    </tr>\n",
       "  </tbody>\n",
       "</table>\n",
       "</div>"
      ],
      "text/plain": [
       "       num_br_infracao  num_km_infracao  med_realizada  med_considerada  \\\n",
       "count    361109.000000    361109.000000   7.517900e+04     7.517800e+04   \n",
       "mean        233.606321       106.274095   1.249643e+03     1.217823e+03   \n",
       "std         118.946852        71.723058   1.422626e+04     1.312822e+04   \n",
       "min           0.000000         0.000000   0.000000e+00    -3.000000e-02   \n",
       "25%         101.000000        49.000000   8.900000e+01     8.200000e+01   \n",
       "50%         226.000000        99.000000   9.300000e+01     8.600000e+01   \n",
       "75%         304.000000       130.000000   1.010000e+02     9.400000e+01   \n",
       "max         427.000000      3205.000000   3.065910e+06     3.065910e+06   \n",
       "\n",
       "       exc_verificado  \n",
       "count    66670.000000  \n",
       "mean       182.157991  \n",
       "std       3372.982023  \n",
       "min     -11000.000000  \n",
       "25%          2.000000  \n",
       "50%          6.000000  \n",
       "75%         14.000000  \n",
       "max     815910.000000  "
      ]
     },
     "execution_count": 7,
     "metadata": {},
     "output_type": "execute_result"
    }
   ],
   "source": [
    "infracoes_df.describe()"
   ]
  },
  {
   "cell_type": "markdown",
   "metadata": {
    "colab_type": "text",
    "id": "GIe5iaSDPpDz"
   },
   "source": [
    "O único campo que gerou estranheza foi o `num_br_infracao`, visto que o maior número possível de BR é 610 e a menor é 010, mas no dataset aparecem apenas aqueles entre 101 e 427."
   ]
  },
  {
   "cell_type": "code",
   "execution_count": 8,
   "metadata": {
    "colab": {
     "base_uri": "https://localhost:8080/",
     "height": 360
    },
    "colab_type": "code",
    "executionInfo": {
     "elapsed": 715,
     "status": "ok",
     "timestamp": 1566673228447,
     "user": {
      "displayName": "MAYRA DANTAS",
      "photoUrl": "https://lh3.googleusercontent.com/a-/AAuE7mC1Nk3Cdh9E0tWxPoHxnjsDZc7rkChaMFPbhtGo=s64",
      "userId": "09389505834223807513"
     },
     "user_tz": 180
    },
    "id": "BAQgUkO4O7Ud",
    "outputId": "93e896c2-5a5d-479e-80e5-36f0ceff8266"
   },
   "outputs": [
    {
     "data": {
      "text/html": [
       "<div>\n",
       "<style scoped>\n",
       "    .dataframe tbody tr th:only-of-type {\n",
       "        vertical-align: middle;\n",
       "    }\n",
       "\n",
       "    .dataframe tbody tr th {\n",
       "        vertical-align: top;\n",
       "    }\n",
       "\n",
       "    .dataframe thead th {\n",
       "        text-align: right;\n",
       "    }\n",
       "</style>\n",
       "<table border=\"1\" class=\"dataframe\">\n",
       "  <thead>\n",
       "    <tr style=\"text-align: right;\">\n",
       "      <th></th>\n",
       "      <th>dat_infracao</th>\n",
       "      <th>tip_abordagem</th>\n",
       "      <th>ind_assinou_auto</th>\n",
       "      <th>ind_veiculo_estrangeiro</th>\n",
       "      <th>ind_sentido_trafego</th>\n",
       "      <th>uf_placa</th>\n",
       "      <th>uf_infracao</th>\n",
       "      <th>num_br_infracao</th>\n",
       "      <th>num_km_infracao</th>\n",
       "      <th>nom_municipio</th>\n",
       "      <th>descricao_abreviada</th>\n",
       "      <th>enquadramento</th>\n",
       "      <th>data_inicio_vigencia</th>\n",
       "      <th>data_fim_vigencia</th>\n",
       "      <th>med_realizada</th>\n",
       "      <th>med_considerada</th>\n",
       "      <th>exc_verificado</th>\n",
       "      <th>especie</th>\n",
       "      <th>nome_veiculo_marca</th>\n",
       "      <th>nom_modelo_veiculo</th>\n",
       "    </tr>\n",
       "  </thead>\n",
       "  <tbody>\n",
       "    <tr>\n",
       "      <th>0</th>\n",
       "      <td>2007-09-01</td>\n",
       "      <td>S</td>\n",
       "      <td>NaN</td>\n",
       "      <td>N</td>\n",
       "      <td>C</td>\n",
       "      <td>PB</td>\n",
       "      <td>RN</td>\n",
       "      <td>304.0</td>\n",
       "      <td>230</td>\n",
       "      <td>RIACHUELO</td>\n",
       "      <td>Ultrapassar pela contramÃ£o linha de divisÃ£o ...</td>\n",
       "      <td>203 V</td>\n",
       "      <td>2000-01-01</td>\n",
       "      <td>2014-10-31</td>\n",
       "      <td>NaN</td>\n",
       "      <td>NaN</td>\n",
       "      <td>NaN</td>\n",
       "      <td>TRAÃÃO</td>\n",
       "      <td>VOLVO</td>\n",
       "      <td>NaN</td>\n",
       "    </tr>\n",
       "    <tr>\n",
       "      <th>1</th>\n",
       "      <td>2007-09-01</td>\n",
       "      <td>C</td>\n",
       "      <td>S</td>\n",
       "      <td>N</td>\n",
       "      <td>D</td>\n",
       "      <td>PB</td>\n",
       "      <td>RN</td>\n",
       "      <td>101.0</td>\n",
       "      <td>100</td>\n",
       "      <td>PARNAMIRIM</td>\n",
       "      <td>Deixar de indicar c/ antec, med gesto de braÃ§...</td>\n",
       "      <td>196</td>\n",
       "      <td>2000-01-01</td>\n",
       "      <td>2016-10-31</td>\n",
       "      <td>NaN</td>\n",
       "      <td>NaN</td>\n",
       "      <td>NaN</td>\n",
       "      <td>CARGA</td>\n",
       "      <td>FORD</td>\n",
       "      <td>NaN</td>\n",
       "    </tr>\n",
       "    <tr>\n",
       "      <th>2</th>\n",
       "      <td>2007-09-01</td>\n",
       "      <td>S</td>\n",
       "      <td>NaN</td>\n",
       "      <td>N</td>\n",
       "      <td>C</td>\n",
       "      <td>RN</td>\n",
       "      <td>RN</td>\n",
       "      <td>226.0</td>\n",
       "      <td>69</td>\n",
       "      <td>SERRA CAIADA</td>\n",
       "      <td>Conduzir motocicleta, motoneta e ciclomotor se...</td>\n",
       "      <td>244 I</td>\n",
       "      <td>2000-01-01</td>\n",
       "      <td>2016-02-01</td>\n",
       "      <td>NaN</td>\n",
       "      <td>NaN</td>\n",
       "      <td>NaN</td>\n",
       "      <td>PASSAGEIRO</td>\n",
       "      <td>HONDA</td>\n",
       "      <td>NaN</td>\n",
       "    </tr>\n",
       "    <tr>\n",
       "      <th>3</th>\n",
       "      <td>2007-09-01</td>\n",
       "      <td>S</td>\n",
       "      <td>NaN</td>\n",
       "      <td>N</td>\n",
       "      <td>C</td>\n",
       "      <td>RN</td>\n",
       "      <td>RN</td>\n",
       "      <td>226.0</td>\n",
       "      <td>69</td>\n",
       "      <td>SERRA CAIADA</td>\n",
       "      <td>Conduzir motocicleta, motoneta e ciclomotor tr...</td>\n",
       "      <td>244 II</td>\n",
       "      <td>2000-01-01</td>\n",
       "      <td>2016-10-31</td>\n",
       "      <td>NaN</td>\n",
       "      <td>NaN</td>\n",
       "      <td>NaN</td>\n",
       "      <td>PASSAGEIRO</td>\n",
       "      <td>HONDA</td>\n",
       "      <td>NaN</td>\n",
       "    </tr>\n",
       "    <tr>\n",
       "      <th>4</th>\n",
       "      <td>2007-09-01</td>\n",
       "      <td>C</td>\n",
       "      <td>S</td>\n",
       "      <td>N</td>\n",
       "      <td>C</td>\n",
       "      <td>RN</td>\n",
       "      <td>RN</td>\n",
       "      <td>304.0</td>\n",
       "      <td>35</td>\n",
       "      <td>MOSSORO</td>\n",
       "      <td>Dirigir sob a influÃªncia de Ã¡lcool</td>\n",
       "      <td>165</td>\n",
       "      <td>2000-01-01</td>\n",
       "      <td>2012-12-20</td>\n",
       "      <td>0.94</td>\n",
       "      <td>0.86</td>\n",
       "      <td>0.57</td>\n",
       "      <td>MISTO</td>\n",
       "      <td>FORD</td>\n",
       "      <td>NaN</td>\n",
       "    </tr>\n",
       "  </tbody>\n",
       "</table>\n",
       "</div>"
      ],
      "text/plain": [
       "  dat_infracao tip_abordagem ind_assinou_auto ind_veiculo_estrangeiro  \\\n",
       "0   2007-09-01             S              NaN                       N   \n",
       "1   2007-09-01             C                S                       N   \n",
       "2   2007-09-01             S              NaN                       N   \n",
       "3   2007-09-01             S              NaN                       N   \n",
       "4   2007-09-01             C                S                       N   \n",
       "\n",
       "  ind_sentido_trafego uf_placa uf_infracao  num_br_infracao  num_km_infracao  \\\n",
       "0                   C       PB          RN            304.0              230   \n",
       "1                   D       PB          RN            101.0              100   \n",
       "2                   C       RN          RN            226.0               69   \n",
       "3                   C       RN          RN            226.0               69   \n",
       "4                   C       RN          RN            304.0               35   \n",
       "\n",
       "  nom_municipio                                descricao_abreviada  \\\n",
       "0     RIACHUELO  Ultrapassar pela contramÃ£o linha de divisÃ£o ...   \n",
       "1    PARNAMIRIM  Deixar de indicar c/ antec, med gesto de braÃ§...   \n",
       "2  SERRA CAIADA  Conduzir motocicleta, motoneta e ciclomotor se...   \n",
       "3  SERRA CAIADA  Conduzir motocicleta, motoneta e ciclomotor tr...   \n",
       "4       MOSSORO               Dirigir sob a influÃªncia de Ã¡lcool   \n",
       "\n",
       "  enquadramento data_inicio_vigencia data_fim_vigencia  med_realizada  \\\n",
       "0         203 V           2000-01-01        2014-10-31            NaN   \n",
       "1           196           2000-01-01        2016-10-31            NaN   \n",
       "2         244 I           2000-01-01        2016-02-01            NaN   \n",
       "3        244 II           2000-01-01        2016-10-31            NaN   \n",
       "4           165           2000-01-01        2012-12-20           0.94   \n",
       "\n",
       "   med_considerada  exc_verificado     especie nome_veiculo_marca  \\\n",
       "0              NaN             NaN    TRAÃÃO              VOLVO   \n",
       "1              NaN             NaN       CARGA               FORD   \n",
       "2              NaN             NaN  PASSAGEIRO              HONDA   \n",
       "3              NaN             NaN  PASSAGEIRO              HONDA   \n",
       "4             0.86            0.57       MISTO               FORD   \n",
       "\n",
       "  nom_modelo_veiculo  \n",
       "0                NaN  \n",
       "1                NaN  \n",
       "2                NaN  \n",
       "3                NaN  \n",
       "4                NaN  "
      ]
     },
     "execution_count": 8,
     "metadata": {},
     "output_type": "execute_result"
    }
   ],
   "source": [
    "infracoes_df.head()"
   ]
  },
  {
   "cell_type": "code",
   "execution_count": 9,
   "metadata": {
    "colab": {
     "base_uri": "https://localhost:8080/",
     "height": 617
    },
    "colab_type": "code",
    "executionInfo": {
     "elapsed": 713,
     "status": "ok",
     "timestamp": 1566673248382,
     "user": {
      "displayName": "MAYRA DANTAS",
      "photoUrl": "https://lh3.googleusercontent.com/a-/AAuE7mC1Nk3Cdh9E0tWxPoHxnjsDZc7rkChaMFPbhtGo=s64",
      "userId": "09389505834223807513"
     },
     "user_tz": 180
    },
    "id": "Lun-SdUEfe9H",
    "outputId": "eccc5dc7-9968-49a6-ecf7-0b1fd7a433e3"
   },
   "outputs": [
    {
     "data": {
      "text/html": [
       "<div>\n",
       "<style scoped>\n",
       "    .dataframe tbody tr th:only-of-type {\n",
       "        vertical-align: middle;\n",
       "    }\n",
       "\n",
       "    .dataframe tbody tr th {\n",
       "        vertical-align: top;\n",
       "    }\n",
       "\n",
       "    .dataframe thead th {\n",
       "        text-align: right;\n",
       "    }\n",
       "</style>\n",
       "<table border=\"1\" class=\"dataframe\">\n",
       "  <thead>\n",
       "    <tr style=\"text-align: right;\">\n",
       "      <th></th>\n",
       "      <th>dat_infracao</th>\n",
       "      <th>tip_abordagem</th>\n",
       "      <th>ind_assinou_auto</th>\n",
       "      <th>ind_veiculo_estrangeiro</th>\n",
       "      <th>ind_sentido_trafego</th>\n",
       "      <th>uf_placa</th>\n",
       "      <th>uf_infracao</th>\n",
       "      <th>num_br_infracao</th>\n",
       "      <th>num_km_infracao</th>\n",
       "      <th>nom_municipio</th>\n",
       "      <th>descricao_abreviada</th>\n",
       "      <th>enquadramento</th>\n",
       "      <th>data_inicio_vigencia</th>\n",
       "      <th>data_fim_vigencia</th>\n",
       "      <th>med_realizada</th>\n",
       "      <th>med_considerada</th>\n",
       "      <th>exc_verificado</th>\n",
       "      <th>especie</th>\n",
       "      <th>nome_veiculo_marca</th>\n",
       "      <th>nom_modelo_veiculo</th>\n",
       "    </tr>\n",
       "  </thead>\n",
       "  <tbody>\n",
       "    <tr>\n",
       "      <th>3589</th>\n",
       "      <td>2007-10-19</td>\n",
       "      <td>S</td>\n",
       "      <td>NaN</td>\n",
       "      <td>N</td>\n",
       "      <td>C</td>\n",
       "      <td>RN</td>\n",
       "      <td>RN</td>\n",
       "      <td>101.0</td>\n",
       "      <td>105</td>\n",
       "      <td>PARELHAS</td>\n",
       "      <td>Parar na pista de rolamento das rodovias</td>\n",
       "      <td>182-V</td>\n",
       "      <td>2000-01-01</td>\n",
       "      <td>2016-10-31</td>\n",
       "      <td>NaN</td>\n",
       "      <td>NaN</td>\n",
       "      <td>NaN</td>\n",
       "      <td>PASSAGEIRO</td>\n",
       "      <td>GM</td>\n",
       "      <td>NaN</td>\n",
       "    </tr>\n",
       "    <tr>\n",
       "      <th>3590</th>\n",
       "      <td>2007-10-19</td>\n",
       "      <td>S</td>\n",
       "      <td>NaN</td>\n",
       "      <td>N</td>\n",
       "      <td>C</td>\n",
       "      <td>RN</td>\n",
       "      <td>RN</td>\n",
       "      <td>101.0</td>\n",
       "      <td>105</td>\n",
       "      <td>PARELHAS</td>\n",
       "      <td>Executar operaÃ§Ã£o de retorno em locais proib...</td>\n",
       "      <td>206 I</td>\n",
       "      <td>2000-01-01</td>\n",
       "      <td>2016-10-31</td>\n",
       "      <td>NaN</td>\n",
       "      <td>NaN</td>\n",
       "      <td>NaN</td>\n",
       "      <td>PASSAGEIRO</td>\n",
       "      <td>VW</td>\n",
       "      <td>NaN</td>\n",
       "    </tr>\n",
       "    <tr>\n",
       "      <th>3591</th>\n",
       "      <td>2007-10-19</td>\n",
       "      <td>S</td>\n",
       "      <td>NaN</td>\n",
       "      <td>N</td>\n",
       "      <td>C</td>\n",
       "      <td>RN</td>\n",
       "      <td>RN</td>\n",
       "      <td>101.0</td>\n",
       "      <td>105</td>\n",
       "      <td>PARELHAS</td>\n",
       "      <td>Executar operaÃ§Ã£o de retorno em locais proib...</td>\n",
       "      <td>206 I</td>\n",
       "      <td>2000-01-01</td>\n",
       "      <td>2016-10-31</td>\n",
       "      <td>NaN</td>\n",
       "      <td>NaN</td>\n",
       "      <td>NaN</td>\n",
       "      <td>PASSAGEIRO</td>\n",
       "      <td>FIAT</td>\n",
       "      <td>NaN</td>\n",
       "    </tr>\n",
       "    <tr>\n",
       "      <th>19335</th>\n",
       "      <td>2007-03-16</td>\n",
       "      <td>C</td>\n",
       "      <td>S</td>\n",
       "      <td>N</td>\n",
       "      <td>D</td>\n",
       "      <td>RN</td>\n",
       "      <td>RN</td>\n",
       "      <td>304.0</td>\n",
       "      <td>307</td>\n",
       "      <td>PARELHAS</td>\n",
       "      <td>Conduzir veÃ­culo sem os documentos de porte o...</td>\n",
       "      <td>232</td>\n",
       "      <td>2000-01-01</td>\n",
       "      <td>2016-10-31</td>\n",
       "      <td>NaN</td>\n",
       "      <td>NaN</td>\n",
       "      <td>NaN</td>\n",
       "      <td>PASSAGEIRO</td>\n",
       "      <td>HONDA</td>\n",
       "      <td>NaN</td>\n",
       "    </tr>\n",
       "    <tr>\n",
       "      <th>22199</th>\n",
       "      <td>2007-04-16</td>\n",
       "      <td>C</td>\n",
       "      <td>S</td>\n",
       "      <td>N</td>\n",
       "      <td>D</td>\n",
       "      <td>RN</td>\n",
       "      <td>RN</td>\n",
       "      <td>101.0</td>\n",
       "      <td>105</td>\n",
       "      <td>PARELHAS</td>\n",
       "      <td>Deixar de dar passagem pela esquerda quando so...</td>\n",
       "      <td>198</td>\n",
       "      <td>2000-01-01</td>\n",
       "      <td>2016-10-31</td>\n",
       "      <td>NaN</td>\n",
       "      <td>NaN</td>\n",
       "      <td>NaN</td>\n",
       "      <td>PASSAGEIRO</td>\n",
       "      <td>HONDA</td>\n",
       "      <td>NaN</td>\n",
       "    </tr>\n",
       "    <tr>\n",
       "      <th>26229</th>\n",
       "      <td>2007-01-26</td>\n",
       "      <td>C</td>\n",
       "      <td>S</td>\n",
       "      <td>N</td>\n",
       "      <td>C</td>\n",
       "      <td>PE</td>\n",
       "      <td>RN</td>\n",
       "      <td>101.0</td>\n",
       "      <td>108</td>\n",
       "      <td>PARELHAS</td>\n",
       "      <td>Conduzir o veÃ­culo transportando passageiros ...</td>\n",
       "      <td>230 II</td>\n",
       "      <td>2000-01-01</td>\n",
       "      <td>2016-10-31</td>\n",
       "      <td>NaN</td>\n",
       "      <td>NaN</td>\n",
       "      <td>NaN</td>\n",
       "      <td>CARGA</td>\n",
       "      <td>FORD</td>\n",
       "      <td>NaN</td>\n",
       "    </tr>\n",
       "    <tr>\n",
       "      <th>46792</th>\n",
       "      <td>2008-05-12</td>\n",
       "      <td>C</td>\n",
       "      <td>S</td>\n",
       "      <td>N</td>\n",
       "      <td>C</td>\n",
       "      <td>PE</td>\n",
       "      <td>RN</td>\n",
       "      <td>101.0</td>\n",
       "      <td>105</td>\n",
       "      <td>PARELHAS</td>\n",
       "      <td>NÃ£o lanÃ§ar no documento fiscal, as informaÃ§...</td>\n",
       "      <td>46 I c</td>\n",
       "      <td>2000-01-01</td>\n",
       "      <td>2012-12-31</td>\n",
       "      <td>NaN</td>\n",
       "      <td>NaN</td>\n",
       "      <td>NaN</td>\n",
       "      <td>CARGA</td>\n",
       "      <td>VW</td>\n",
       "      <td>23.220</td>\n",
       "    </tr>\n",
       "    <tr>\n",
       "      <th>68681</th>\n",
       "      <td>2009-09-08</td>\n",
       "      <td>C</td>\n",
       "      <td>S</td>\n",
       "      <td>N</td>\n",
       "      <td>C</td>\n",
       "      <td>RN</td>\n",
       "      <td>RN</td>\n",
       "      <td>101.0</td>\n",
       "      <td>101</td>\n",
       "      <td>PARELHAS</td>\n",
       "      <td>Conduzir o veÃ­culo c/ equip do sistema de ilu...</td>\n",
       "      <td>230 XIII</td>\n",
       "      <td>2000-01-01</td>\n",
       "      <td>2016-10-31</td>\n",
       "      <td>NaN</td>\n",
       "      <td>NaN</td>\n",
       "      <td>NaN</td>\n",
       "      <td>CARGA</td>\n",
       "      <td>TOYOTA</td>\n",
       "      <td>I/TOYOTA HILUX C</td>\n",
       "    </tr>\n",
       "    <tr>\n",
       "      <th>82938</th>\n",
       "      <td>2009-12-28</td>\n",
       "      <td>C</td>\n",
       "      <td>S</td>\n",
       "      <td>N</td>\n",
       "      <td>D</td>\n",
       "      <td>RN</td>\n",
       "      <td>RN</td>\n",
       "      <td>304.0</td>\n",
       "      <td>305</td>\n",
       "      <td>PARELHAS</td>\n",
       "      <td>Conduzir o veÃ­culo com qualquer uma das placa...</td>\n",
       "      <td>230 VI</td>\n",
       "      <td>2000-01-01</td>\n",
       "      <td>2016-10-31</td>\n",
       "      <td>NaN</td>\n",
       "      <td>NaN</td>\n",
       "      <td>NaN</td>\n",
       "      <td>PASSAGEIRO</td>\n",
       "      <td>GM</td>\n",
       "      <td>GM/ZAFIRA COMFOR</td>\n",
       "    </tr>\n",
       "  </tbody>\n",
       "</table>\n",
       "</div>"
      ],
      "text/plain": [
       "      dat_infracao tip_abordagem ind_assinou_auto ind_veiculo_estrangeiro  \\\n",
       "3589    2007-10-19             S              NaN                       N   \n",
       "3590    2007-10-19             S              NaN                       N   \n",
       "3591    2007-10-19             S              NaN                       N   \n",
       "19335   2007-03-16             C                S                       N   \n",
       "22199   2007-04-16             C                S                       N   \n",
       "26229   2007-01-26             C                S                       N   \n",
       "46792   2008-05-12             C                S                       N   \n",
       "68681   2009-09-08             C                S                       N   \n",
       "82938   2009-12-28             C                S                       N   \n",
       "\n",
       "      ind_sentido_trafego uf_placa uf_infracao  num_br_infracao  \\\n",
       "3589                    C       RN          RN            101.0   \n",
       "3590                    C       RN          RN            101.0   \n",
       "3591                    C       RN          RN            101.0   \n",
       "19335                   D       RN          RN            304.0   \n",
       "22199                   D       RN          RN            101.0   \n",
       "26229                   C       PE          RN            101.0   \n",
       "46792                   C       PE          RN            101.0   \n",
       "68681                   C       RN          RN            101.0   \n",
       "82938                   D       RN          RN            304.0   \n",
       "\n",
       "       num_km_infracao nom_municipio  \\\n",
       "3589               105      PARELHAS   \n",
       "3590               105      PARELHAS   \n",
       "3591               105      PARELHAS   \n",
       "19335              307      PARELHAS   \n",
       "22199              105      PARELHAS   \n",
       "26229              108      PARELHAS   \n",
       "46792              105      PARELHAS   \n",
       "68681              101      PARELHAS   \n",
       "82938              305      PARELHAS   \n",
       "\n",
       "                                     descricao_abreviada enquadramento  \\\n",
       "3589            Parar na pista de rolamento das rodovias         182-V   \n",
       "3590   Executar operaÃ§Ã£o de retorno em locais proib...         206 I   \n",
       "3591   Executar operaÃ§Ã£o de retorno em locais proib...         206 I   \n",
       "19335  Conduzir veÃ­culo sem os documentos de porte o...           232   \n",
       "22199  Deixar de dar passagem pela esquerda quando so...           198   \n",
       "26229  Conduzir o veÃ­culo transportando passageiros ...        230 II   \n",
       "46792  NÃ£o lanÃ§ar no documento fiscal, as informaÃ§...        46 I c   \n",
       "68681  Conduzir o veÃ­culo c/ equip do sistema de ilu...      230 XIII   \n",
       "82938  Conduzir o veÃ­culo com qualquer uma das placa...        230 VI   \n",
       "\n",
       "      data_inicio_vigencia data_fim_vigencia  med_realizada  med_considerada  \\\n",
       "3589            2000-01-01        2016-10-31            NaN              NaN   \n",
       "3590            2000-01-01        2016-10-31            NaN              NaN   \n",
       "3591            2000-01-01        2016-10-31            NaN              NaN   \n",
       "19335           2000-01-01        2016-10-31            NaN              NaN   \n",
       "22199           2000-01-01        2016-10-31            NaN              NaN   \n",
       "26229           2000-01-01        2016-10-31            NaN              NaN   \n",
       "46792           2000-01-01        2012-12-31            NaN              NaN   \n",
       "68681           2000-01-01        2016-10-31            NaN              NaN   \n",
       "82938           2000-01-01        2016-10-31            NaN              NaN   \n",
       "\n",
       "       exc_verificado     especie nome_veiculo_marca nom_modelo_veiculo  \n",
       "3589              NaN  PASSAGEIRO                 GM                NaN  \n",
       "3590              NaN  PASSAGEIRO                 VW                NaN  \n",
       "3591              NaN  PASSAGEIRO               FIAT                NaN  \n",
       "19335             NaN  PASSAGEIRO              HONDA                NaN  \n",
       "22199             NaN  PASSAGEIRO              HONDA                NaN  \n",
       "26229             NaN       CARGA               FORD                NaN  \n",
       "46792             NaN       CARGA                 VW             23.220  \n",
       "68681             NaN       CARGA             TOYOTA   I/TOYOTA HILUX C  \n",
       "82938             NaN  PASSAGEIRO                 GM   GM/ZAFIRA COMFOR  "
      ]
     },
     "execution_count": 9,
     "metadata": {},
     "output_type": "execute_result"
    }
   ],
   "source": [
    "infracoes_df.query('nom_municipio == \"PARELHAS\" ')"
   ]
  },
  {
   "cell_type": "markdown",
   "metadata": {
    "colab_type": "text",
    "id": "ArCV5Ahdg9Iy"
   },
   "source": [
    "## Tratando os dados\n",
    "\n",
    "O tratamento dos dados consistirá da correção dos  pontos vistos anteriormente\n"
   ]
  },
  {
   "cell_type": "code",
   "execution_count": 10,
   "metadata": {
    "colab": {},
    "colab_type": "code",
    "id": "QLCjtqUehIm1"
   },
   "outputs": [],
   "source": [
    "# Converte campos de data\n",
    "infracoes_df.dat_infracao = pd.to_datetime(infracoes_df.dat_infracao,\n",
    "                                           format='%Y-%m-%d')\n",
    "infracoes_df.data_fim_vigencia = pd.to_datetime(infracoes_df.data_fim_vigencia,\n",
    "                                                format='%Y-%m-%d')\n",
    "infracoes_df.data_inicio_vigencia = pd.to_datetime(infracoes_df.data_inicio_vigencia,\n",
    "                                                   format='%Y-%m-%d')\n"
   ]
  },
  {
   "cell_type": "code",
   "execution_count": 11,
   "metadata": {
    "colab": {
     "base_uri": "https://localhost:8080/",
     "height": 476
    },
    "colab_type": "code",
    "executionInfo": {
     "elapsed": 1294,
     "status": "ok",
     "timestamp": 1566673260015,
     "user": {
      "displayName": "MAYRA DANTAS",
      "photoUrl": "https://lh3.googleusercontent.com/a-/AAuE7mC1Nk3Cdh9E0tWxPoHxnjsDZc7rkChaMFPbhtGo=s64",
      "userId": "09389505834223807513"
     },
     "user_tz": 180
    },
    "id": "tJJAeeU8jOZl",
    "outputId": "a19b3e3a-4eb3-4d4d-b0d2-d3c853cf954b"
   },
   "outputs": [
    {
     "name": "stdout",
     "output_type": "stream",
     "text": [
      "<class 'pandas.core.frame.DataFrame'>\n",
      "RangeIndex: 361109 entries, 0 to 361108\n",
      "Data columns (total 20 columns):\n",
      "dat_infracao               361109 non-null datetime64[ns]\n",
      "tip_abordagem              361109 non-null object\n",
      "ind_assinou_auto           120427 non-null object\n",
      "ind_veiculo_estrangeiro    361109 non-null object\n",
      "ind_sentido_trafego        300534 non-null object\n",
      "uf_placa                   360798 non-null object\n",
      "uf_infracao                361109 non-null object\n",
      "num_br_infracao            361109 non-null float64\n",
      "num_km_infracao            361109 non-null int64\n",
      "nom_municipio              361108 non-null object\n",
      "descricao_abreviada        361109 non-null object\n",
      "enquadramento              361109 non-null object\n",
      "data_inicio_vigencia       361109 non-null datetime64[ns]\n",
      "data_fim_vigencia          360641 non-null datetime64[ns]\n",
      "med_realizada              75179 non-null float64\n",
      "med_considerada            75178 non-null float64\n",
      "exc_verificado             66670 non-null float64\n",
      "especie                    360405 non-null object\n",
      "nome_veiculo_marca         300528 non-null object\n",
      "nom_modelo_veiculo         323226 non-null object\n",
      "dtypes: datetime64[ns](3), float64(4), int64(1), object(12)\n",
      "memory usage: 55.1+ MB\n"
     ]
    }
   ],
   "source": [
    "infracoes_df.info()"
   ]
  },
  {
   "cell_type": "code",
   "execution_count": 12,
   "metadata": {
    "colab": {
     "base_uri": "https://localhost:8080/",
     "height": 119
    },
    "colab_type": "code",
    "executionInfo": {
     "elapsed": 866,
     "status": "ok",
     "timestamp": 1566673260016,
     "user": {
      "displayName": "MAYRA DANTAS",
      "photoUrl": "https://lh3.googleusercontent.com/a-/AAuE7mC1Nk3Cdh9E0tWxPoHxnjsDZc7rkChaMFPbhtGo=s64",
      "userId": "09389505834223807513"
     },
     "user_tz": 180
    },
    "id": "4i2EFAxWkIj2",
    "outputId": "7d7746c7-1c6a-48aa-d958-7da97a6abe45"
   },
   "outputs": [
    {
     "data": {
      "text/plain": [
       "0    Saturday\n",
       "1    Saturday\n",
       "2    Saturday\n",
       "3    Saturday\n",
       "4    Saturday\n",
       "Name: dat_infracao, dtype: object"
      ]
     },
     "execution_count": 12,
     "metadata": {},
     "output_type": "execute_result"
    }
   ],
   "source": [
    "# Testa a conversão para datas\n",
    "infracoes_df.dat_infracao.dt.weekday_name.head()"
   ]
  },
  {
   "cell_type": "markdown",
   "metadata": {
    "colab_type": "text",
    "id": "Xq-w2foZmiYb"
   },
   "source": [
    "Para lidar com os dados faltantes, serão removidos apenas as linhas que não possuem informação em algum dos atributos que foram tidos como os mais relevantes."
   ]
  },
  {
   "cell_type": "code",
   "execution_count": 13,
   "metadata": {
    "colab": {
     "base_uri": "https://localhost:8080/",
     "height": 34
    },
    "colab_type": "code",
    "executionInfo": {
     "elapsed": 1208,
     "status": "ok",
     "timestamp": 1566673261499,
     "user": {
      "displayName": "MAYRA DANTAS",
      "photoUrl": "https://lh3.googleusercontent.com/a-/AAuE7mC1Nk3Cdh9E0tWxPoHxnjsDZc7rkChaMFPbhtGo=s64",
      "userId": "09389505834223807513"
     },
     "user_tz": 180
    },
    "id": "ETXi2-1tnopv",
    "outputId": "e94f7c87-c79b-4878-98fa-8675e1d529df"
   },
   "outputs": [
    {
     "ename": "KeyError",
     "evalue": "['hora']",
     "output_type": "error",
     "traceback": [
      "\u001b[0;31m--------------------------------------------------------\u001b[0m",
      "\u001b[0;31mKeyError\u001b[0m               Traceback (most recent call last)",
      "\u001b[0;32m<ipython-input-13-1276d6402b57>\u001b[0m in \u001b[0;36m<module>\u001b[0;34m\u001b[0m\n\u001b[1;32m      1\u001b[0m \u001b[0;31m# Remove linhas\u001b[0m\u001b[0;34m\u001b[0m\u001b[0;34m\u001b[0m\u001b[0;34m\u001b[0m\u001b[0m\n\u001b[1;32m      2\u001b[0m infracoes_df.dropna(axis=0, subset=['hora', 'ind_sentido_trafego', 'uf_placa', \n\u001b[0;32m----> 3\u001b[0;31m                                     'nom_modelo_veiculo'], how='any', inplace=True)\n\u001b[0m\u001b[1;32m      4\u001b[0m \u001b[0;34m\u001b[0m\u001b[0m\n\u001b[1;32m      5\u001b[0m \u001b[0;31m# Visualiza novo tamanho do dataset\u001b[0m\u001b[0;34m\u001b[0m\u001b[0;34m\u001b[0m\u001b[0;34m\u001b[0m\u001b[0m\n",
      "\u001b[0;32m/usr/local/lib/python3.6/dist-packages/pandas/core/frame.py\u001b[0m in \u001b[0;36mdropna\u001b[0;34m(self, axis, how, thresh, subset, inplace)\u001b[0m\n\u001b[1;32m   4283\u001b[0m                 \u001b[0mcheck\u001b[0m \u001b[0;34m=\u001b[0m \u001b[0mindices\u001b[0m \u001b[0;34m==\u001b[0m \u001b[0;34m-\u001b[0m\u001b[0;36m1\u001b[0m\u001b[0;34m\u001b[0m\u001b[0;34m\u001b[0m\u001b[0m\n\u001b[1;32m   4284\u001b[0m                 \u001b[0;32mif\u001b[0m \u001b[0mcheck\u001b[0m\u001b[0;34m.\u001b[0m\u001b[0many\u001b[0m\u001b[0;34m(\u001b[0m\u001b[0;34m)\u001b[0m\u001b[0;34m:\u001b[0m\u001b[0;34m\u001b[0m\u001b[0;34m\u001b[0m\u001b[0m\n\u001b[0;32m-> 4285\u001b[0;31m                     \u001b[0;32mraise\u001b[0m \u001b[0mKeyError\u001b[0m\u001b[0;34m(\u001b[0m\u001b[0mlist\u001b[0m\u001b[0;34m(\u001b[0m\u001b[0mnp\u001b[0m\u001b[0;34m.\u001b[0m\u001b[0mcompress\u001b[0m\u001b[0;34m(\u001b[0m\u001b[0mcheck\u001b[0m\u001b[0;34m,\u001b[0m \u001b[0msubset\u001b[0m\u001b[0;34m)\u001b[0m\u001b[0;34m)\u001b[0m\u001b[0;34m)\u001b[0m\u001b[0;34m\u001b[0m\u001b[0;34m\u001b[0m\u001b[0m\n\u001b[0m\u001b[1;32m   4286\u001b[0m                 \u001b[0magg_obj\u001b[0m \u001b[0;34m=\u001b[0m \u001b[0mself\u001b[0m\u001b[0;34m.\u001b[0m\u001b[0mtake\u001b[0m\u001b[0;34m(\u001b[0m\u001b[0mindices\u001b[0m\u001b[0;34m,\u001b[0m \u001b[0maxis\u001b[0m\u001b[0;34m=\u001b[0m\u001b[0magg_axis\u001b[0m\u001b[0;34m)\u001b[0m\u001b[0;34m\u001b[0m\u001b[0;34m\u001b[0m\u001b[0m\n\u001b[1;32m   4287\u001b[0m \u001b[0;34m\u001b[0m\u001b[0m\n",
      "\u001b[0;31mKeyError\u001b[0m: ['hora']"
     ]
    }
   ],
   "source": [
    "# Remove linhas\n",
    "infracoes_df.dropna(axis=0, subset=['hora', 'ind_sentido_trafego', 'uf_placa', \n",
    "                                    'nom_modelo_veiculo'], how='any', inplace=True)\n",
    "\n",
    "# Visualiza novo tamanho do dataset\n",
    "infracoes_df.shape"
   ]
  },
  {
   "cell_type": "markdown",
   "metadata": {
    "colab_type": "text",
    "id": "UksUy_nGyvK5"
   },
   "source": [
    "Outro tratamento importante é categorizar o horário do dia. Dividiremos em:\n",
    "- Manhã\n",
    "- Tarde\n",
    "- Noite\n",
    "- Madrugada"
   ]
  },
  {
   "cell_type": "code",
   "execution_count": null,
   "metadata": {
    "colab": {},
    "colab_type": "code",
    "id": "hB00CfDByuGh"
   },
   "outputs": [],
   "source": [
    "def categoriza_horario(row):\n",
    "  hora = row['hora']\n",
    "  if hora >= '05:00' and hora < '12:00':\n",
    "    return 'MANHÃ'\n",
    "  elif hora >= '12:00' and hora < '17:59':\n",
    "    return 'TARDE'\n",
    "  elif hora >= '18:00' and hora < '23:59':\n",
    "    return 'NOITE'\n",
    "  else:\n",
    "    return 'MADRUGADA'\n",
    "\n",
    "infracoes_df['horario'] = infracoes_df.apply(categoriza_horario, axis=1)"
   ]
  }
 ],
 "metadata": {
  "colab": {
   "name": "1.0 - driving violations cleaning.ipynb",
   "provenance": [],
   "version": "0.3.2"
  },
  "kernelspec": {
   "display_name": "Python 3",
   "language": "python",
   "name": "python3"
  },
  "language_info": {
   "codemirror_mode": {
    "name": "ipython",
    "version": 3
   },
   "file_extension": ".py",
   "mimetype": "text/x-python",
   "name": "python",
   "nbconvert_exporter": "python",
   "pygments_lexer": "ipython3",
   "version": "3.6.8"
  }
 },
 "nbformat": 4,
 "nbformat_minor": 2
}
