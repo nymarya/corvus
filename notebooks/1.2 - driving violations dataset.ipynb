{
 "cells": [
  {
   "cell_type": "code",
   "execution_count": 1,
   "metadata": {
    "colab": {},
    "colab_type": "code",
    "id": "AT9kuWxpsI9I"
   },
   "outputs": [],
   "source": [
    "import pandas as pd"
   ]
  },
  {
   "cell_type": "markdown",
   "metadata": {
    "colab_type": "text",
    "id": "LlQ7ZjXFsl2o"
   },
   "source": [
    "## Getting the data\n",
    "\n",
    "We will recover the dataset cleaned and group it by `km`, `br` and date."
   ]
  },
  {
   "cell_type": "code",
   "execution_count": 3,
   "metadata": {
    "colab": {
     "base_uri": "https://localhost:8080/",
     "height": 1000
    },
    "colab_type": "code",
    "executionInfo": {
     "elapsed": 813662,
     "status": "ok",
     "timestamp": 1566765282487,
     "user": {
      "displayName": "MAYRA DANTAS",
      "photoUrl": "https://lh3.googleusercontent.com/a-/AAuE7mC1Nk3Cdh9E0tWxPoHxnjsDZc7rkChaMFPbhtGo=s64",
      "userId": "09389505834223807513"
     },
     "user_tz": 180
    },
    "id": "n4X5mzV9sk4e",
    "outputId": "14b7651b-455d-4a5e-e10b-eb403c4e8ec8"
   },
   "outputs": [
    {
     "name": "stderr",
     "output_type": "stream",
     "text": [
      "/home/mayra/workspace/corvusenv/lib/python3.6/site-packages/IPython/core/interactiveshell.py:3058: DtypeWarning: Columns (3) have mixed types. Specify dtype option on import or set low_memory=False.\n",
      "  interactivity=interactivity, compiler=compiler, result=result)\n"
     ]
    }
   ],
   "source": [
    "violations_df = pd.read_csv('../data/processed/violations.csv', sep=';')"
   ]
  },
  {
   "cell_type": "markdown",
   "metadata": {
    "colab_type": "text",
    "id": "2UFPRKU74Qa4"
   },
   "source": [
    "## Counting the violations\n",
    "\n",
    "In order to aggregate the information to the accidents dataset, we must count the number of the most commons violations commited in each km of the road.\n",
    "\n",
    "The most commited violations are 250 I b, 162 I, 230 * V, 203 V, 167."
   ]
  },
  {
   "cell_type": "code",
   "execution_count": 4,
   "metadata": {
    "colab": {},
    "colab_type": "code",
    "id": "CNrIGrtX4Zvm"
   },
   "outputs": [],
   "source": [
    "violations = ['250 I b', '162 I', '230 * V', '203 V', '167']\n",
    "groupped = violations_df.query(\"enquadramento in ['250 I b', '162 I', '230 * V',\\\n",
    "                               '203 V', '167']\").groupby(['dat_infracao','num_km_infracao', \n",
    "                                                         'num_br_infracao'])['cod_infracao'].agg('count')"
   ]
  },
  {
   "cell_type": "code",
   "execution_count": null,
   "metadata": {
    "colab": {
     "base_uri": "https://localhost:8080/",
     "height": 1000
    },
    "colab_type": "code",
    "executionInfo": {
     "elapsed": 814046,
     "status": "ok",
     "timestamp": 1566765282883,
     "user": {
      "displayName": "MAYRA DANTAS",
      "photoUrl": "https://lh3.googleusercontent.com/a-/AAuE7mC1Nk3Cdh9E0tWxPoHxnjsDZc7rkChaMFPbhtGo=s64",
      "userId": "09389505834223807513"
     },
     "user_tz": 180
    },
    "id": "516X9oZo6vns",
    "outputId": "bb4ab3d5-288c-4c86-83d2-f7491ae8c2e7"
   },
   "outputs": [],
   "source": [
    "groupped"
   ]
  },
  {
   "cell_type": "code",
   "execution_count": null,
   "metadata": {
    "colab": {
     "base_uri": "https://localhost:8080/",
     "height": 71
    },
    "colab_type": "code",
    "executionInfo": {
     "elapsed": 814381,
     "status": "ok",
     "timestamp": 1566765283227,
     "user": {
      "displayName": "MAYRA DANTAS",
      "photoUrl": "https://lh3.googleusercontent.com/a-/AAuE7mC1Nk3Cdh9E0tWxPoHxnjsDZc7rkChaMFPbhtGo=s64",
      "userId": "09389505834223807513"
     },
     "user_tz": 180
    },
    "id": "qBKxoizHBZ1o",
    "outputId": "07656f49-69b0-4c7f-a45b-126336affc8e"
   },
   "outputs": [],
   "source": [
    "groupped.to_csv('./data/processed/violations_count.csv', sep=';')"
   ]
  }
 ],
 "metadata": {
  "colab": {
   "name": "1.2 - driving violations dataset.ipynb",
   "provenance": [],
   "toc_visible": true,
   "version": "0.3.2"
  },
  "kernelspec": {
   "display_name": "Python 3",
   "language": "python",
   "name": "python3"
  },
  "language_info": {
   "codemirror_mode": {
    "name": "ipython",
    "version": 3
   },
   "file_extension": ".py",
   "mimetype": "text/x-python",
   "name": "python",
   "nbconvert_exporter": "python",
   "pygments_lexer": "ipython3",
   "version": "3.6.8"
  }
 },
 "nbformat": 4,
 "nbformat_minor": 4
}
