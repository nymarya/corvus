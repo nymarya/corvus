{
 "cells": [
  {
   "cell_type": "code",
   "execution_count": 2,
   "metadata": {
    "colab": {},
    "colab_type": "code",
    "id": "vmkF2G9IwO5K"
   },
   "outputs": [],
   "source": [
    "from prf_api.prf_api import PRFApi\n",
    "\n",
    "import pandas as pd\n",
    "import numpy as np"
   ]
  },
  {
   "cell_type": "markdown",
   "metadata": {
    "colab_type": "text",
    "id": "4Fx0A7v5wlyw"
   },
   "source": [
    "## Getting the data"
   ]
  },
  {
   "cell_type": "code",
   "execution_count": 3,
   "metadata": {
    "colab": {},
    "colab_type": "code",
    "id": "FWobNnDpwi1X"
   },
   "outputs": [],
   "source": [
    "data = PRFApi()"
   ]
  },
  {
   "cell_type": "code",
   "execution_count": 4,
   "metadata": {
    "colab": {
     "base_uri": "https://localhost:8080/",
     "height": 445
    },
    "colab_type": "code",
    "executionInfo": {
     "elapsed": 311062,
     "status": "ok",
     "timestamp": 1566673058465,
     "user": {
      "displayName": "MAYRA DANTAS",
      "photoUrl": "https://lh3.googleusercontent.com/a-/AAuE7mC1Nk3Cdh9E0tWxPoHxnjsDZc7rkChaMFPbhtGo=s64",
      "userId": "09389505834223807513"
     },
     "user_tz": 180
    },
    "id": "ntktEwlMwk-Z",
    "outputId": "479d36d1-8f8f-4724-efe9-1fa776025533"
   },
   "outputs": [
    {
     "name": "stdout",
     "output_type": "stream",
     "text": [
      ">>> Criando dataframe com ano 2007...\n",
      ">>> Criando dataframe com ano 2008...\n",
      ">>> Criando dataframe com ano 2009...\n",
      ">>> Criando dataframe com ano 2010...\n",
      ">>> Criando dataframe com ano 2011...\n",
      ">>> Criando dataframe com ano 2012...\n",
      ">>> Criando dataframe com ano 2013...\n",
      ">>> Criando dataframe com ano 2014...\n",
      ">>> Criando dataframe com ano 2015...\n"
     ]
    },
    {
     "name": "stderr",
     "output_type": "stream",
     "text": [
      "/home/mayra/workspace/corvusenv/lib/python3.6/site-packages/pandas/core/frame.py:6692: FutureWarning: Sorting because non-concatenation axis is not aligned. A future version\n",
      "of pandas will change to not sort by default.\n",
      "\n",
      "To accept the future behavior, pass 'sort=False'.\n",
      "\n",
      "To retain the current behavior and silence the warning, pass 'sort=True'.\n",
      "\n",
      "  sort=sort)\n"
     ]
    },
    {
     "name": "stdout",
     "output_type": "stream",
     "text": [
      ">>> Criando dataframe com ano 2016...\n"
     ]
    },
    {
     "name": "stderr",
     "output_type": "stream",
     "text": [
      "/home/mayra/workspace/corvusenv/lib/python3.6/site-packages/IPython/core/interactiveshell.py:3249: DtypeWarning: Columns (13) have mixed types. Specify dtype option on import or set low_memory=False.\n",
      "  if (await self.run_code(code, result,  async_=asy)):\n"
     ]
    },
    {
     "name": "stdout",
     "output_type": "stream",
     "text": [
      ">>> Criando dataframe com ano 2017...\n",
      ">>> Criando dataframe com ano 2018...\n"
     ]
    },
    {
     "name": "stderr",
     "output_type": "stream",
     "text": [
      "/home/mayra/workspace/corvusenv/lib/python3.6/site-packages/IPython/core/interactiveshell.py:3249: DtypeWarning: Columns (14) have mixed types. Specify dtype option on import or set low_memory=False.\n",
      "  if (await self.run_code(code, result,  async_=asy)):\n"
     ]
    }
   ],
   "source": [
    "infracoes_df = data.dataframe('infracoes', estado='RN', anos=list(range(2007, 2019)),\n",
    "                              caminho='../data/raw')"
   ]
  },
  {
   "cell_type": "markdown",
   "metadata": {
    "colab_type": "text",
    "id": "DlsJe98eKpzW"
   },
   "source": [
    "### Analyzing o dataset\n",
    "\n",
    "In this section, superficial observation are made over the dataset, searching for improvement points and inconsistencies."
   ]
  },
  {
   "cell_type": "code",
   "execution_count": 5,
   "metadata": {
    "colab": {
     "base_uri": "https://localhost:8080/",
     "height": 476
    },
    "colab_type": "code",
    "executionInfo": {
     "elapsed": 1363,
     "status": "ok",
     "timestamp": 1566673222787,
     "user": {
      "displayName": "MAYRA DANTAS",
      "photoUrl": "https://lh3.googleusercontent.com/a-/AAuE7mC1Nk3Cdh9E0tWxPoHxnjsDZc7rkChaMFPbhtGo=s64",
      "userId": "09389505834223807513"
     },
     "user_tz": 180
    },
    "id": "7ORSJE3bw1PI",
    "outputId": "d2f74345-7ac2-4317-b4b3-d8acb3daf910"
   },
   "outputs": [
    {
     "name": "stdout",
     "output_type": "stream",
     "text": [
      "<class 'pandas.core.frame.DataFrame'>\n",
      "RangeIndex: 641908 entries, 0 to 641907\n",
      "Data columns (total 22 columns):\n",
      "cod_infracao               141782 non-null float64\n",
      "dat_infracao               641908 non-null object\n",
      "data_fim_vigencia          486313 non-null object\n",
      "data_inicio_vigencia       641908 non-null object\n",
      "descricao_abreviada        641908 non-null object\n",
      "enquadramento              641908 non-null object\n",
      "especie                    626005 non-null object\n",
      "exc_verificado             273502 non-null float64\n",
      "hora                       280798 non-null object\n",
      "ind_assinou_auto           129681 non-null object\n",
      "ind_sentido_trafego        513466 non-null object\n",
      "ind_veiculo_estrangeiro    641908 non-null object\n",
      "med_considerada            282002 non-null float64\n",
      "med_realizada              282003 non-null float64\n",
      "nom_modelo_veiculo         603485 non-null object\n",
      "nom_municipio              641907 non-null object\n",
      "nome_veiculo_marca         513460 non-null object\n",
      "num_br_infracao            641908 non-null float64\n",
      "num_km_infracao            641908 non-null int64\n",
      "tip_abordagem              641908 non-null object\n",
      "uf_infracao                641908 non-null object\n",
      "uf_placa                   641158 non-null object\n",
      "dtypes: float64(5), int64(1), object(16)\n",
      "memory usage: 107.7+ MB\n"
     ]
    }
   ],
   "source": [
    "infracoes_df.info()"
   ]
  },
  {
   "cell_type": "markdown",
   "metadata": {
    "colab_type": "text",
    "id": "nWOBCSAQK5Xa"
   },
   "source": [
    "Notes:\n",
    "\n",
    "- The field `dat_infracao`, `data_inicio_vigencia` e `data_fim_vigencia` must be datetime;\n",
    "- Important columns such as `hora`, `uf_infracao`, `cod_infracao`,  `tip_abordagem`, etc, present few missing data (which is nice)\n",
    "- `ind_assinou_auto`, `uf_placa`, `ind_sentido_trafego`, `especie` could contain relevant information, but there are a relevant amount of a missing data\n",
    "- `hora` should be timestamp"
   ]
  },
  {
   "cell_type": "code",
   "execution_count": 6,
   "metadata": {
    "colab": {
     "base_uri": "https://localhost:8080/",
     "height": 297
    },
    "colab_type": "code",
    "executionInfo": {
     "elapsed": 728,
     "status": "ok",
     "timestamp": 1566673224603,
     "user": {
      "displayName": "MAYRA DANTAS",
      "photoUrl": "https://lh3.googleusercontent.com/a-/AAuE7mC1Nk3Cdh9E0tWxPoHxnjsDZc7rkChaMFPbhtGo=s64",
      "userId": "09389505834223807513"
     },
     "user_tz": 180
    },
    "id": "hvTku8GCO2GV",
    "outputId": "e162a0ae-0ee6-4fe3-8991-d05ff316e5ad"
   },
   "outputs": [
    {
     "data": {
      "text/html": [
       "<div>\n",
       "<style scoped>\n",
       "    .dataframe tbody tr th:only-of-type {\n",
       "        vertical-align: middle;\n",
       "    }\n",
       "\n",
       "    .dataframe tbody tr th {\n",
       "        vertical-align: top;\n",
       "    }\n",
       "\n",
       "    .dataframe thead th {\n",
       "        text-align: right;\n",
       "    }\n",
       "</style>\n",
       "<table border=\"1\" class=\"dataframe\">\n",
       "  <thead>\n",
       "    <tr style=\"text-align: right;\">\n",
       "      <th></th>\n",
       "      <th>cod_infracao</th>\n",
       "      <th>exc_verificado</th>\n",
       "      <th>med_considerada</th>\n",
       "      <th>med_realizada</th>\n",
       "      <th>num_br_infracao</th>\n",
       "      <th>num_km_infracao</th>\n",
       "    </tr>\n",
       "  </thead>\n",
       "  <tbody>\n",
       "    <tr>\n",
       "      <th>count</th>\n",
       "      <td>141782.000000</td>\n",
       "      <td>273502.000000</td>\n",
       "      <td>2.820020e+05</td>\n",
       "      <td>2.820030e+05</td>\n",
       "      <td>641908.000000</td>\n",
       "      <td>641908.000000</td>\n",
       "    </tr>\n",
       "    <tr>\n",
       "      <th>mean</th>\n",
       "      <td>64196.989688</td>\n",
       "      <td>73.902882</td>\n",
       "      <td>5.644966e+02</td>\n",
       "      <td>5.740050e+02</td>\n",
       "      <td>245.313684</td>\n",
       "      <td>115.780006</td>\n",
       "    </tr>\n",
       "    <tr>\n",
       "      <th>std</th>\n",
       "      <td>8695.124776</td>\n",
       "      <td>1797.338828</td>\n",
       "      <td>7.598502e+03</td>\n",
       "      <td>8.095999e+03</td>\n",
       "      <td>116.999887</td>\n",
       "      <td>78.430009</td>\n",
       "    </tr>\n",
       "    <tr>\n",
       "      <th>min</th>\n",
       "      <td>50100.000000</td>\n",
       "      <td>-11000.000000</td>\n",
       "      <td>-3.000000e-02</td>\n",
       "      <td>0.000000e+00</td>\n",
       "      <td>0.000000</td>\n",
       "      <td>0.000000</td>\n",
       "    </tr>\n",
       "    <tr>\n",
       "      <th>25%</th>\n",
       "      <td>57970.000000</td>\n",
       "      <td>0.000000</td>\n",
       "      <td>0.000000e+00</td>\n",
       "      <td>0.000000e+00</td>\n",
       "      <td>101.000000</td>\n",
       "      <td>66.000000</td>\n",
       "    </tr>\n",
       "    <tr>\n",
       "      <th>50%</th>\n",
       "      <td>66102.000000</td>\n",
       "      <td>0.000000</td>\n",
       "      <td>2.750000e-01</td>\n",
       "      <td>3.200000e-01</td>\n",
       "      <td>304.000000</td>\n",
       "      <td>102.000000</td>\n",
       "    </tr>\n",
       "    <tr>\n",
       "      <th>75%</th>\n",
       "      <td>72422.000000</td>\n",
       "      <td>8.000000</td>\n",
       "      <td>8.900000e+01</td>\n",
       "      <td>9.600000e+01</td>\n",
       "      <td>304.000000</td>\n",
       "      <td>146.000000</td>\n",
       "    </tr>\n",
       "    <tr>\n",
       "      <th>max</th>\n",
       "      <td>76332.000000</td>\n",
       "      <td>815910.000000</td>\n",
       "      <td>3.065910e+06</td>\n",
       "      <td>3.065910e+06</td>\n",
       "      <td>427.000000</td>\n",
       "      <td>3205.000000</td>\n",
       "    </tr>\n",
       "  </tbody>\n",
       "</table>\n",
       "</div>"
      ],
      "text/plain": [
       "        cod_infracao  exc_verificado  med_considerada  med_realizada  \\\n",
       "count  141782.000000   273502.000000     2.820020e+05   2.820030e+05   \n",
       "mean    64196.989688       73.902882     5.644966e+02   5.740050e+02   \n",
       "std      8695.124776     1797.338828     7.598502e+03   8.095999e+03   \n",
       "min     50100.000000   -11000.000000    -3.000000e-02   0.000000e+00   \n",
       "25%     57970.000000        0.000000     0.000000e+00   0.000000e+00   \n",
       "50%     66102.000000        0.000000     2.750000e-01   3.200000e-01   \n",
       "75%     72422.000000        8.000000     8.900000e+01   9.600000e+01   \n",
       "max     76332.000000   815910.000000     3.065910e+06   3.065910e+06   \n",
       "\n",
       "       num_br_infracao  num_km_infracao  \n",
       "count    641908.000000    641908.000000  \n",
       "mean        245.313684       115.780006  \n",
       "std         116.999887        78.430009  \n",
       "min           0.000000         0.000000  \n",
       "25%         101.000000        66.000000  \n",
       "50%         304.000000       102.000000  \n",
       "75%         304.000000       146.000000  \n",
       "max         427.000000      3205.000000  "
      ]
     },
     "execution_count": 6,
     "metadata": {},
     "output_type": "execute_result"
    }
   ],
   "source": [
    "infracoes_df.describe()"
   ]
  },
  {
   "cell_type": "markdown",
   "metadata": {
    "colab_type": "text",
    "id": "GIe5iaSDPpDz"
   },
   "source": [
    "The only field containg weird data id `num_br_infracao`, since the higher road number possible is 610 and the lower is 010, but the numbers found in the dataset are between 101 and 427."
   ]
  },
  {
   "cell_type": "code",
   "execution_count": 7,
   "metadata": {
    "colab": {
     "base_uri": "https://localhost:8080/",
     "height": 360
    },
    "colab_type": "code",
    "executionInfo": {
     "elapsed": 715,
     "status": "ok",
     "timestamp": 1566673228447,
     "user": {
      "displayName": "MAYRA DANTAS",
      "photoUrl": "https://lh3.googleusercontent.com/a-/AAuE7mC1Nk3Cdh9E0tWxPoHxnjsDZc7rkChaMFPbhtGo=s64",
      "userId": "09389505834223807513"
     },
     "user_tz": 180
    },
    "id": "BAQgUkO4O7Ud",
    "outputId": "93e896c2-5a5d-479e-80e5-36f0ceff8266"
   },
   "outputs": [
    {
     "data": {
      "text/html": [
       "<div>\n",
       "<style scoped>\n",
       "    .dataframe tbody tr th:only-of-type {\n",
       "        vertical-align: middle;\n",
       "    }\n",
       "\n",
       "    .dataframe tbody tr th {\n",
       "        vertical-align: top;\n",
       "    }\n",
       "\n",
       "    .dataframe thead th {\n",
       "        text-align: right;\n",
       "    }\n",
       "</style>\n",
       "<table border=\"1\" class=\"dataframe\">\n",
       "  <thead>\n",
       "    <tr style=\"text-align: right;\">\n",
       "      <th></th>\n",
       "      <th>cod_infracao</th>\n",
       "      <th>dat_infracao</th>\n",
       "      <th>data_fim_vigencia</th>\n",
       "      <th>data_inicio_vigencia</th>\n",
       "      <th>descricao_abreviada</th>\n",
       "      <th>enquadramento</th>\n",
       "      <th>especie</th>\n",
       "      <th>exc_verificado</th>\n",
       "      <th>hora</th>\n",
       "      <th>ind_assinou_auto</th>\n",
       "      <th>...</th>\n",
       "      <th>med_considerada</th>\n",
       "      <th>med_realizada</th>\n",
       "      <th>nom_modelo_veiculo</th>\n",
       "      <th>nom_municipio</th>\n",
       "      <th>nome_veiculo_marca</th>\n",
       "      <th>num_br_infracao</th>\n",
       "      <th>num_km_infracao</th>\n",
       "      <th>tip_abordagem</th>\n",
       "      <th>uf_infracao</th>\n",
       "      <th>uf_placa</th>\n",
       "    </tr>\n",
       "  </thead>\n",
       "  <tbody>\n",
       "    <tr>\n",
       "      <th>0</th>\n",
       "      <td>NaN</td>\n",
       "      <td>2007-09-01</td>\n",
       "      <td>2014-10-31</td>\n",
       "      <td>2000-01-01</td>\n",
       "      <td>Ultrapassar pela contramÃ£o linha de divisÃ£o ...</td>\n",
       "      <td>203 V</td>\n",
       "      <td>TRAÃÃO</td>\n",
       "      <td>NaN</td>\n",
       "      <td>NaN</td>\n",
       "      <td>NaN</td>\n",
       "      <td>...</td>\n",
       "      <td>NaN</td>\n",
       "      <td>NaN</td>\n",
       "      <td>NaN</td>\n",
       "      <td>RIACHUELO</td>\n",
       "      <td>VOLVO</td>\n",
       "      <td>304.0</td>\n",
       "      <td>230</td>\n",
       "      <td>S</td>\n",
       "      <td>RN</td>\n",
       "      <td>PB</td>\n",
       "    </tr>\n",
       "    <tr>\n",
       "      <th>1</th>\n",
       "      <td>NaN</td>\n",
       "      <td>2007-09-01</td>\n",
       "      <td>2016-10-31</td>\n",
       "      <td>2000-01-01</td>\n",
       "      <td>Deixar de indicar c/ antec, med gesto de braÃ§...</td>\n",
       "      <td>196</td>\n",
       "      <td>CARGA</td>\n",
       "      <td>NaN</td>\n",
       "      <td>NaN</td>\n",
       "      <td>S</td>\n",
       "      <td>...</td>\n",
       "      <td>NaN</td>\n",
       "      <td>NaN</td>\n",
       "      <td>NaN</td>\n",
       "      <td>PARNAMIRIM</td>\n",
       "      <td>FORD</td>\n",
       "      <td>101.0</td>\n",
       "      <td>100</td>\n",
       "      <td>C</td>\n",
       "      <td>RN</td>\n",
       "      <td>PB</td>\n",
       "    </tr>\n",
       "    <tr>\n",
       "      <th>2</th>\n",
       "      <td>NaN</td>\n",
       "      <td>2007-09-01</td>\n",
       "      <td>2016-02-01</td>\n",
       "      <td>2000-01-01</td>\n",
       "      <td>Conduzir motocicleta, motoneta e ciclomotor se...</td>\n",
       "      <td>244 I</td>\n",
       "      <td>PASSAGEIRO</td>\n",
       "      <td>NaN</td>\n",
       "      <td>NaN</td>\n",
       "      <td>NaN</td>\n",
       "      <td>...</td>\n",
       "      <td>NaN</td>\n",
       "      <td>NaN</td>\n",
       "      <td>NaN</td>\n",
       "      <td>SERRA CAIADA</td>\n",
       "      <td>HONDA</td>\n",
       "      <td>226.0</td>\n",
       "      <td>69</td>\n",
       "      <td>S</td>\n",
       "      <td>RN</td>\n",
       "      <td>RN</td>\n",
       "    </tr>\n",
       "    <tr>\n",
       "      <th>3</th>\n",
       "      <td>NaN</td>\n",
       "      <td>2007-09-01</td>\n",
       "      <td>2016-10-31</td>\n",
       "      <td>2000-01-01</td>\n",
       "      <td>Conduzir motocicleta, motoneta e ciclomotor tr...</td>\n",
       "      <td>244 II</td>\n",
       "      <td>PASSAGEIRO</td>\n",
       "      <td>NaN</td>\n",
       "      <td>NaN</td>\n",
       "      <td>NaN</td>\n",
       "      <td>...</td>\n",
       "      <td>NaN</td>\n",
       "      <td>NaN</td>\n",
       "      <td>NaN</td>\n",
       "      <td>SERRA CAIADA</td>\n",
       "      <td>HONDA</td>\n",
       "      <td>226.0</td>\n",
       "      <td>69</td>\n",
       "      <td>S</td>\n",
       "      <td>RN</td>\n",
       "      <td>RN</td>\n",
       "    </tr>\n",
       "    <tr>\n",
       "      <th>4</th>\n",
       "      <td>NaN</td>\n",
       "      <td>2007-09-01</td>\n",
       "      <td>2012-12-20</td>\n",
       "      <td>2000-01-01</td>\n",
       "      <td>Dirigir sob a influÃªncia de Ã¡lcool</td>\n",
       "      <td>165</td>\n",
       "      <td>MISTO</td>\n",
       "      <td>0.57</td>\n",
       "      <td>NaN</td>\n",
       "      <td>S</td>\n",
       "      <td>...</td>\n",
       "      <td>0.86</td>\n",
       "      <td>0.94</td>\n",
       "      <td>NaN</td>\n",
       "      <td>MOSSORO</td>\n",
       "      <td>FORD</td>\n",
       "      <td>304.0</td>\n",
       "      <td>35</td>\n",
       "      <td>C</td>\n",
       "      <td>RN</td>\n",
       "      <td>RN</td>\n",
       "    </tr>\n",
       "  </tbody>\n",
       "</table>\n",
       "<p>5 rows × 22 columns</p>\n",
       "</div>"
      ],
      "text/plain": [
       "   cod_infracao dat_infracao data_fim_vigencia data_inicio_vigencia  \\\n",
       "0           NaN   2007-09-01        2014-10-31           2000-01-01   \n",
       "1           NaN   2007-09-01        2016-10-31           2000-01-01   \n",
       "2           NaN   2007-09-01        2016-02-01           2000-01-01   \n",
       "3           NaN   2007-09-01        2016-10-31           2000-01-01   \n",
       "4           NaN   2007-09-01        2012-12-20           2000-01-01   \n",
       "\n",
       "                                 descricao_abreviada enquadramento  \\\n",
       "0  Ultrapassar pela contramÃ£o linha de divisÃ£o ...         203 V   \n",
       "1  Deixar de indicar c/ antec, med gesto de braÃ§...           196   \n",
       "2  Conduzir motocicleta, motoneta e ciclomotor se...         244 I   \n",
       "3  Conduzir motocicleta, motoneta e ciclomotor tr...        244 II   \n",
       "4               Dirigir sob a influÃªncia de Ã¡lcool           165   \n",
       "\n",
       "      especie  exc_verificado hora ind_assinou_auto  ... med_considerada  \\\n",
       "0    TRAÃÃO             NaN  NaN              NaN  ...             NaN   \n",
       "1       CARGA             NaN  NaN                S  ...             NaN   \n",
       "2  PASSAGEIRO             NaN  NaN              NaN  ...             NaN   \n",
       "3  PASSAGEIRO             NaN  NaN              NaN  ...             NaN   \n",
       "4       MISTO            0.57  NaN                S  ...            0.86   \n",
       "\n",
       "  med_realizada  nom_modelo_veiculo  nom_municipio nome_veiculo_marca  \\\n",
       "0           NaN                 NaN      RIACHUELO              VOLVO   \n",
       "1           NaN                 NaN     PARNAMIRIM               FORD   \n",
       "2           NaN                 NaN   SERRA CAIADA              HONDA   \n",
       "3           NaN                 NaN   SERRA CAIADA              HONDA   \n",
       "4          0.94                 NaN        MOSSORO               FORD   \n",
       "\n",
       "  num_br_infracao num_km_infracao  tip_abordagem  uf_infracao uf_placa  \n",
       "0           304.0             230              S           RN       PB  \n",
       "1           101.0             100              C           RN       PB  \n",
       "2           226.0              69              S           RN       RN  \n",
       "3           226.0              69              S           RN       RN  \n",
       "4           304.0              35              C           RN       RN  \n",
       "\n",
       "[5 rows x 22 columns]"
      ]
     },
     "execution_count": 7,
     "metadata": {},
     "output_type": "execute_result"
    }
   ],
   "source": [
    "infracoes_df.head()"
   ]
  },
  {
   "cell_type": "code",
   "execution_count": 8,
   "metadata": {
    "colab": {
     "base_uri": "https://localhost:8080/",
     "height": 617
    },
    "colab_type": "code",
    "executionInfo": {
     "elapsed": 713,
     "status": "ok",
     "timestamp": 1566673248382,
     "user": {
      "displayName": "MAYRA DANTAS",
      "photoUrl": "https://lh3.googleusercontent.com/a-/AAuE7mC1Nk3Cdh9E0tWxPoHxnjsDZc7rkChaMFPbhtGo=s64",
      "userId": "09389505834223807513"
     },
     "user_tz": 180
    },
    "id": "Lun-SdUEfe9H",
    "outputId": "eccc5dc7-9968-49a6-ecf7-0b1fd7a433e3"
   },
   "outputs": [
    {
     "data": {
      "text/html": [
       "<div>\n",
       "<style scoped>\n",
       "    .dataframe tbody tr th:only-of-type {\n",
       "        vertical-align: middle;\n",
       "    }\n",
       "\n",
       "    .dataframe tbody tr th {\n",
       "        vertical-align: top;\n",
       "    }\n",
       "\n",
       "    .dataframe thead th {\n",
       "        text-align: right;\n",
       "    }\n",
       "</style>\n",
       "<table border=\"1\" class=\"dataframe\">\n",
       "  <thead>\n",
       "    <tr style=\"text-align: right;\">\n",
       "      <th></th>\n",
       "      <th>cod_infracao</th>\n",
       "      <th>dat_infracao</th>\n",
       "      <th>data_fim_vigencia</th>\n",
       "      <th>data_inicio_vigencia</th>\n",
       "      <th>descricao_abreviada</th>\n",
       "      <th>enquadramento</th>\n",
       "      <th>especie</th>\n",
       "      <th>exc_verificado</th>\n",
       "      <th>hora</th>\n",
       "      <th>ind_assinou_auto</th>\n",
       "      <th>...</th>\n",
       "      <th>med_considerada</th>\n",
       "      <th>med_realizada</th>\n",
       "      <th>nom_modelo_veiculo</th>\n",
       "      <th>nom_municipio</th>\n",
       "      <th>nome_veiculo_marca</th>\n",
       "      <th>num_br_infracao</th>\n",
       "      <th>num_km_infracao</th>\n",
       "      <th>tip_abordagem</th>\n",
       "      <th>uf_infracao</th>\n",
       "      <th>uf_placa</th>\n",
       "    </tr>\n",
       "  </thead>\n",
       "  <tbody>\n",
       "    <tr>\n",
       "      <th>3589</th>\n",
       "      <td>NaN</td>\n",
       "      <td>2007-10-19</td>\n",
       "      <td>2016-10-31</td>\n",
       "      <td>2000-01-01</td>\n",
       "      <td>Parar na pista de rolamento das rodovias</td>\n",
       "      <td>182-V</td>\n",
       "      <td>PASSAGEIRO</td>\n",
       "      <td>NaN</td>\n",
       "      <td>NaN</td>\n",
       "      <td>NaN</td>\n",
       "      <td>...</td>\n",
       "      <td>NaN</td>\n",
       "      <td>NaN</td>\n",
       "      <td>NaN</td>\n",
       "      <td>PARELHAS</td>\n",
       "      <td>GM</td>\n",
       "      <td>101.0</td>\n",
       "      <td>105</td>\n",
       "      <td>S</td>\n",
       "      <td>RN</td>\n",
       "      <td>RN</td>\n",
       "    </tr>\n",
       "    <tr>\n",
       "      <th>3590</th>\n",
       "      <td>NaN</td>\n",
       "      <td>2007-10-19</td>\n",
       "      <td>2016-10-31</td>\n",
       "      <td>2000-01-01</td>\n",
       "      <td>Executar operaÃ§Ã£o de retorno em locais proib...</td>\n",
       "      <td>206 I</td>\n",
       "      <td>PASSAGEIRO</td>\n",
       "      <td>NaN</td>\n",
       "      <td>NaN</td>\n",
       "      <td>NaN</td>\n",
       "      <td>...</td>\n",
       "      <td>NaN</td>\n",
       "      <td>NaN</td>\n",
       "      <td>NaN</td>\n",
       "      <td>PARELHAS</td>\n",
       "      <td>VW</td>\n",
       "      <td>101.0</td>\n",
       "      <td>105</td>\n",
       "      <td>S</td>\n",
       "      <td>RN</td>\n",
       "      <td>RN</td>\n",
       "    </tr>\n",
       "    <tr>\n",
       "      <th>3591</th>\n",
       "      <td>NaN</td>\n",
       "      <td>2007-10-19</td>\n",
       "      <td>2016-10-31</td>\n",
       "      <td>2000-01-01</td>\n",
       "      <td>Executar operaÃ§Ã£o de retorno em locais proib...</td>\n",
       "      <td>206 I</td>\n",
       "      <td>PASSAGEIRO</td>\n",
       "      <td>NaN</td>\n",
       "      <td>NaN</td>\n",
       "      <td>NaN</td>\n",
       "      <td>...</td>\n",
       "      <td>NaN</td>\n",
       "      <td>NaN</td>\n",
       "      <td>NaN</td>\n",
       "      <td>PARELHAS</td>\n",
       "      <td>FIAT</td>\n",
       "      <td>101.0</td>\n",
       "      <td>105</td>\n",
       "      <td>S</td>\n",
       "      <td>RN</td>\n",
       "      <td>RN</td>\n",
       "    </tr>\n",
       "    <tr>\n",
       "      <th>19335</th>\n",
       "      <td>NaN</td>\n",
       "      <td>2007-03-16</td>\n",
       "      <td>2016-10-31</td>\n",
       "      <td>2000-01-01</td>\n",
       "      <td>Conduzir veÃ­culo sem os documentos de porte o...</td>\n",
       "      <td>232</td>\n",
       "      <td>PASSAGEIRO</td>\n",
       "      <td>NaN</td>\n",
       "      <td>NaN</td>\n",
       "      <td>S</td>\n",
       "      <td>...</td>\n",
       "      <td>NaN</td>\n",
       "      <td>NaN</td>\n",
       "      <td>NaN</td>\n",
       "      <td>PARELHAS</td>\n",
       "      <td>HONDA</td>\n",
       "      <td>304.0</td>\n",
       "      <td>307</td>\n",
       "      <td>C</td>\n",
       "      <td>RN</td>\n",
       "      <td>RN</td>\n",
       "    </tr>\n",
       "    <tr>\n",
       "      <th>22199</th>\n",
       "      <td>NaN</td>\n",
       "      <td>2007-04-16</td>\n",
       "      <td>2016-10-31</td>\n",
       "      <td>2000-01-01</td>\n",
       "      <td>Deixar de dar passagem pela esquerda quando so...</td>\n",
       "      <td>198</td>\n",
       "      <td>PASSAGEIRO</td>\n",
       "      <td>NaN</td>\n",
       "      <td>NaN</td>\n",
       "      <td>S</td>\n",
       "      <td>...</td>\n",
       "      <td>NaN</td>\n",
       "      <td>NaN</td>\n",
       "      <td>NaN</td>\n",
       "      <td>PARELHAS</td>\n",
       "      <td>HONDA</td>\n",
       "      <td>101.0</td>\n",
       "      <td>105</td>\n",
       "      <td>C</td>\n",
       "      <td>RN</td>\n",
       "      <td>RN</td>\n",
       "    </tr>\n",
       "    <tr>\n",
       "      <th>26229</th>\n",
       "      <td>NaN</td>\n",
       "      <td>2007-01-26</td>\n",
       "      <td>2016-10-31</td>\n",
       "      <td>2000-01-01</td>\n",
       "      <td>Conduzir o veÃ­culo transportando passageiros ...</td>\n",
       "      <td>230 II</td>\n",
       "      <td>CARGA</td>\n",
       "      <td>NaN</td>\n",
       "      <td>NaN</td>\n",
       "      <td>S</td>\n",
       "      <td>...</td>\n",
       "      <td>NaN</td>\n",
       "      <td>NaN</td>\n",
       "      <td>NaN</td>\n",
       "      <td>PARELHAS</td>\n",
       "      <td>FORD</td>\n",
       "      <td>101.0</td>\n",
       "      <td>108</td>\n",
       "      <td>C</td>\n",
       "      <td>RN</td>\n",
       "      <td>PE</td>\n",
       "    </tr>\n",
       "    <tr>\n",
       "      <th>46792</th>\n",
       "      <td>NaN</td>\n",
       "      <td>2008-05-12</td>\n",
       "      <td>2012-12-31</td>\n",
       "      <td>2000-01-01</td>\n",
       "      <td>NÃ£o lanÃ§ar no documento fiscal, as informaÃ§...</td>\n",
       "      <td>46 I c</td>\n",
       "      <td>CARGA</td>\n",
       "      <td>NaN</td>\n",
       "      <td>NaN</td>\n",
       "      <td>S</td>\n",
       "      <td>...</td>\n",
       "      <td>NaN</td>\n",
       "      <td>NaN</td>\n",
       "      <td>23.220</td>\n",
       "      <td>PARELHAS</td>\n",
       "      <td>VW</td>\n",
       "      <td>101.0</td>\n",
       "      <td>105</td>\n",
       "      <td>C</td>\n",
       "      <td>RN</td>\n",
       "      <td>PE</td>\n",
       "    </tr>\n",
       "    <tr>\n",
       "      <th>68681</th>\n",
       "      <td>NaN</td>\n",
       "      <td>2009-09-08</td>\n",
       "      <td>2016-10-31</td>\n",
       "      <td>2000-01-01</td>\n",
       "      <td>Conduzir o veÃ­culo c/ equip do sistema de ilu...</td>\n",
       "      <td>230 XIII</td>\n",
       "      <td>CARGA</td>\n",
       "      <td>NaN</td>\n",
       "      <td>NaN</td>\n",
       "      <td>S</td>\n",
       "      <td>...</td>\n",
       "      <td>NaN</td>\n",
       "      <td>NaN</td>\n",
       "      <td>I/TOYOTA HILUX C</td>\n",
       "      <td>PARELHAS</td>\n",
       "      <td>TOYOTA</td>\n",
       "      <td>101.0</td>\n",
       "      <td>101</td>\n",
       "      <td>C</td>\n",
       "      <td>RN</td>\n",
       "      <td>RN</td>\n",
       "    </tr>\n",
       "    <tr>\n",
       "      <th>82938</th>\n",
       "      <td>NaN</td>\n",
       "      <td>2009-12-28</td>\n",
       "      <td>2016-10-31</td>\n",
       "      <td>2000-01-01</td>\n",
       "      <td>Conduzir o veÃ­culo com qualquer uma das placa...</td>\n",
       "      <td>230 VI</td>\n",
       "      <td>PASSAGEIRO</td>\n",
       "      <td>NaN</td>\n",
       "      <td>NaN</td>\n",
       "      <td>S</td>\n",
       "      <td>...</td>\n",
       "      <td>NaN</td>\n",
       "      <td>NaN</td>\n",
       "      <td>GM/ZAFIRA COMFOR</td>\n",
       "      <td>PARELHAS</td>\n",
       "      <td>GM</td>\n",
       "      <td>304.0</td>\n",
       "      <td>305</td>\n",
       "      <td>C</td>\n",
       "      <td>RN</td>\n",
       "      <td>RN</td>\n",
       "    </tr>\n",
       "    <tr>\n",
       "      <th>508596</th>\n",
       "      <td>50100.0</td>\n",
       "      <td>2017-11-24</td>\n",
       "      <td>NaN</td>\n",
       "      <td>2016-11-01</td>\n",
       "      <td>Dirigir veículo sem possuir CNH/PPD/ACC</td>\n",
       "      <td>162 I</td>\n",
       "      <td>PASSAGEIRO</td>\n",
       "      <td>0.0</td>\n",
       "      <td>15:32:00</td>\n",
       "      <td>NaN</td>\n",
       "      <td>...</td>\n",
       "      <td>0.0</td>\n",
       "      <td>0.0</td>\n",
       "      <td>CG 150 TITAN EX</td>\n",
       "      <td>PARELHAS</td>\n",
       "      <td>HONDA</td>\n",
       "      <td>427.0</td>\n",
       "      <td>38</td>\n",
       "      <td>C</td>\n",
       "      <td>RN</td>\n",
       "      <td>RN</td>\n",
       "    </tr>\n",
       "  </tbody>\n",
       "</table>\n",
       "<p>10 rows × 22 columns</p>\n",
       "</div>"
      ],
      "text/plain": [
       "        cod_infracao dat_infracao data_fim_vigencia data_inicio_vigencia  \\\n",
       "3589             NaN   2007-10-19        2016-10-31           2000-01-01   \n",
       "3590             NaN   2007-10-19        2016-10-31           2000-01-01   \n",
       "3591             NaN   2007-10-19        2016-10-31           2000-01-01   \n",
       "19335            NaN   2007-03-16        2016-10-31           2000-01-01   \n",
       "22199            NaN   2007-04-16        2016-10-31           2000-01-01   \n",
       "26229            NaN   2007-01-26        2016-10-31           2000-01-01   \n",
       "46792            NaN   2008-05-12        2012-12-31           2000-01-01   \n",
       "68681            NaN   2009-09-08        2016-10-31           2000-01-01   \n",
       "82938            NaN   2009-12-28        2016-10-31           2000-01-01   \n",
       "508596       50100.0   2017-11-24               NaN           2016-11-01   \n",
       "\n",
       "                                      descricao_abreviada enquadramento  \\\n",
       "3589             Parar na pista de rolamento das rodovias         182-V   \n",
       "3590    Executar operaÃ§Ã£o de retorno em locais proib...         206 I   \n",
       "3591    Executar operaÃ§Ã£o de retorno em locais proib...         206 I   \n",
       "19335   Conduzir veÃ­culo sem os documentos de porte o...           232   \n",
       "22199   Deixar de dar passagem pela esquerda quando so...           198   \n",
       "26229   Conduzir o veÃ­culo transportando passageiros ...        230 II   \n",
       "46792   NÃ£o lanÃ§ar no documento fiscal, as informaÃ§...        46 I c   \n",
       "68681   Conduzir o veÃ­culo c/ equip do sistema de ilu...      230 XIII   \n",
       "82938   Conduzir o veÃ­culo com qualquer uma das placa...        230 VI   \n",
       "508596            Dirigir veículo sem possuir CNH/PPD/ACC         162 I   \n",
       "\n",
       "           especie  exc_verificado      hora ind_assinou_auto  ...  \\\n",
       "3589    PASSAGEIRO             NaN       NaN              NaN  ...   \n",
       "3590    PASSAGEIRO             NaN       NaN              NaN  ...   \n",
       "3591    PASSAGEIRO             NaN       NaN              NaN  ...   \n",
       "19335   PASSAGEIRO             NaN       NaN                S  ...   \n",
       "22199   PASSAGEIRO             NaN       NaN                S  ...   \n",
       "26229        CARGA             NaN       NaN                S  ...   \n",
       "46792        CARGA             NaN       NaN                S  ...   \n",
       "68681        CARGA             NaN       NaN                S  ...   \n",
       "82938   PASSAGEIRO             NaN       NaN                S  ...   \n",
       "508596  PASSAGEIRO             0.0  15:32:00              NaN  ...   \n",
       "\n",
       "       med_considerada med_realizada  nom_modelo_veiculo  nom_municipio  \\\n",
       "3589               NaN           NaN                 NaN       PARELHAS   \n",
       "3590               NaN           NaN                 NaN       PARELHAS   \n",
       "3591               NaN           NaN                 NaN       PARELHAS   \n",
       "19335              NaN           NaN                 NaN       PARELHAS   \n",
       "22199              NaN           NaN                 NaN       PARELHAS   \n",
       "26229              NaN           NaN                 NaN       PARELHAS   \n",
       "46792              NaN           NaN              23.220       PARELHAS   \n",
       "68681              NaN           NaN    I/TOYOTA HILUX C       PARELHAS   \n",
       "82938              NaN           NaN    GM/ZAFIRA COMFOR       PARELHAS   \n",
       "508596             0.0           0.0     CG 150 TITAN EX       PARELHAS   \n",
       "\n",
       "       nome_veiculo_marca num_br_infracao num_km_infracao  tip_abordagem  \\\n",
       "3589                   GM           101.0             105              S   \n",
       "3590                   VW           101.0             105              S   \n",
       "3591                 FIAT           101.0             105              S   \n",
       "19335               HONDA           304.0             307              C   \n",
       "22199               HONDA           101.0             105              C   \n",
       "26229                FORD           101.0             108              C   \n",
       "46792                  VW           101.0             105              C   \n",
       "68681              TOYOTA           101.0             101              C   \n",
       "82938                  GM           304.0             305              C   \n",
       "508596              HONDA           427.0              38              C   \n",
       "\n",
       "        uf_infracao uf_placa  \n",
       "3589             RN       RN  \n",
       "3590             RN       RN  \n",
       "3591             RN       RN  \n",
       "19335            RN       RN  \n",
       "22199            RN       RN  \n",
       "26229            RN       PE  \n",
       "46792            RN       PE  \n",
       "68681            RN       RN  \n",
       "82938            RN       RN  \n",
       "508596           RN       RN  \n",
       "\n",
       "[10 rows x 22 columns]"
      ]
     },
     "execution_count": 8,
     "metadata": {},
     "output_type": "execute_result"
    }
   ],
   "source": [
    "infracoes_df.query('nom_municipio == \"PARELHAS\" ')"
   ]
  },
  {
   "cell_type": "markdown",
   "metadata": {
    "colab_type": "text",
    "id": "ArCV5Ahdg9Iy"
   },
   "source": [
    "## Treating the data\n",
    "\n",
    "The cleaning consists in correcting the notes made previously.\n"
   ]
  },
  {
   "cell_type": "code",
   "execution_count": 9,
   "metadata": {
    "colab": {},
    "colab_type": "code",
    "id": "QLCjtqUehIm1"
   },
   "outputs": [],
   "source": [
    "# Converte campos de data\n",
    "infracoes_df.dat_infracao = pd.to_datetime(infracoes_df.dat_infracao,\n",
    "                                           format='%Y-%m-%d')\n",
    "infracoes_df.data_fim_vigencia = pd.to_datetime(infracoes_df.data_fim_vigencia,\n",
    "                                                format='%Y-%m-%d')\n",
    "infracoes_df.data_inicio_vigencia = pd.to_datetime(infracoes_df.data_inicio_vigencia,\n",
    "                                                   format='%Y-%m-%d')\n"
   ]
  },
  {
   "cell_type": "code",
   "execution_count": 10,
   "metadata": {
    "colab": {
     "base_uri": "https://localhost:8080/",
     "height": 476
    },
    "colab_type": "code",
    "executionInfo": {
     "elapsed": 1294,
     "status": "ok",
     "timestamp": 1566673260015,
     "user": {
      "displayName": "MAYRA DANTAS",
      "photoUrl": "https://lh3.googleusercontent.com/a-/AAuE7mC1Nk3Cdh9E0tWxPoHxnjsDZc7rkChaMFPbhtGo=s64",
      "userId": "09389505834223807513"
     },
     "user_tz": 180
    },
    "id": "tJJAeeU8jOZl",
    "outputId": "a19b3e3a-4eb3-4d4d-b0d2-d3c853cf954b"
   },
   "outputs": [
    {
     "name": "stdout",
     "output_type": "stream",
     "text": [
      "<class 'pandas.core.frame.DataFrame'>\n",
      "RangeIndex: 641908 entries, 0 to 641907\n",
      "Data columns (total 22 columns):\n",
      "cod_infracao               141782 non-null float64\n",
      "dat_infracao               641908 non-null datetime64[ns]\n",
      "data_fim_vigencia          486313 non-null datetime64[ns]\n",
      "data_inicio_vigencia       641908 non-null datetime64[ns]\n",
      "descricao_abreviada        641908 non-null object\n",
      "enquadramento              641908 non-null object\n",
      "especie                    626005 non-null object\n",
      "exc_verificado             273502 non-null float64\n",
      "hora                       280798 non-null object\n",
      "ind_assinou_auto           129681 non-null object\n",
      "ind_sentido_trafego        513466 non-null object\n",
      "ind_veiculo_estrangeiro    641908 non-null object\n",
      "med_considerada            282002 non-null float64\n",
      "med_realizada              282003 non-null float64\n",
      "nom_modelo_veiculo         603485 non-null object\n",
      "nom_municipio              641907 non-null object\n",
      "nome_veiculo_marca         513460 non-null object\n",
      "num_br_infracao            641908 non-null float64\n",
      "num_km_infracao            641908 non-null int64\n",
      "tip_abordagem              641908 non-null object\n",
      "uf_infracao                641908 non-null object\n",
      "uf_placa                   641158 non-null object\n",
      "dtypes: datetime64[ns](3), float64(5), int64(1), object(13)\n",
      "memory usage: 107.7+ MB\n"
     ]
    }
   ],
   "source": [
    "infracoes_df.info()"
   ]
  },
  {
   "cell_type": "code",
   "execution_count": 11,
   "metadata": {
    "colab": {
     "base_uri": "https://localhost:8080/",
     "height": 119
    },
    "colab_type": "code",
    "executionInfo": {
     "elapsed": 866,
     "status": "ok",
     "timestamp": 1566673260016,
     "user": {
      "displayName": "MAYRA DANTAS",
      "photoUrl": "https://lh3.googleusercontent.com/a-/AAuE7mC1Nk3Cdh9E0tWxPoHxnjsDZc7rkChaMFPbhtGo=s64",
      "userId": "09389505834223807513"
     },
     "user_tz": 180
    },
    "id": "4i2EFAxWkIj2",
    "outputId": "7d7746c7-1c6a-48aa-d958-7da97a6abe45"
   },
   "outputs": [
    {
     "data": {
      "text/plain": [
       "0    Saturday\n",
       "1    Saturday\n",
       "2    Saturday\n",
       "3    Saturday\n",
       "4    Saturday\n",
       "Name: dat_infracao, dtype: object"
      ]
     },
     "execution_count": 11,
     "metadata": {},
     "output_type": "execute_result"
    }
   ],
   "source": [
    "# Testa a conversão para datas\n",
    "infracoes_df.dat_infracao.dt.weekday_name.head()"
   ]
  },
  {
   "cell_type": "markdown",
   "metadata": {
    "colab_type": "text",
    "id": "Xq-w2foZmiYb"
   },
   "source": [
    "Para lidar com os dados faltantes, serão removidos apenas as linhas que não possuem informação em algum dos atributos que foram tidos como os mais relevantes."
   ]
  },
  {
   "cell_type": "code",
   "execution_count": 12,
   "metadata": {
    "colab": {
     "base_uri": "https://localhost:8080/",
     "height": 34
    },
    "colab_type": "code",
    "executionInfo": {
     "elapsed": 1208,
     "status": "ok",
     "timestamp": 1566673261499,
     "user": {
      "displayName": "MAYRA DANTAS",
      "photoUrl": "https://lh3.googleusercontent.com/a-/AAuE7mC1Nk3Cdh9E0tWxPoHxnjsDZc7rkChaMFPbhtGo=s64",
      "userId": "09389505834223807513"
     },
     "user_tz": 180
    },
    "id": "ETXi2-1tnopv",
    "outputId": "e94f7c87-c79b-4878-98fa-8675e1d529df"
   },
   "outputs": [
    {
     "data": {
      "text/plain": [
       "(212843, 22)"
      ]
     },
     "execution_count": 12,
     "metadata": {},
     "output_type": "execute_result"
    }
   ],
   "source": [
    "# Remove linhas\n",
    "infracoes_df.dropna(axis=0, subset=['hora', 'ind_sentido_trafego', 'uf_placa', \n",
    "                                    'nom_modelo_veiculo'], how='any', inplace=True)\n",
    "\n",
    "# Visualiza novo tamanho do dataset\n",
    "infracoes_df.shape"
   ]
  },
  {
   "cell_type": "markdown",
   "metadata": {
    "colab_type": "text",
    "id": "UksUy_nGyvK5"
   },
   "source": [
    "Outro tratamento importante é categorizar o horário do dia. Dividiremos em:\n",
    "- Manhã\n",
    "- Tarde\n",
    "- Noite\n",
    "- Madrugada"
   ]
  },
  {
   "cell_type": "code",
   "execution_count": 13,
   "metadata": {
    "colab": {},
    "colab_type": "code",
    "id": "hB00CfDByuGh"
   },
   "outputs": [],
   "source": [
    "def categoriza_horario(row):\n",
    "  hora = row['hora']\n",
    "  if hora >= '05:00' and hora < '12:00':\n",
    "    return 'MANHÃ'\n",
    "  elif hora >= '12:00' and hora < '17:59':\n",
    "    return 'TARDE'\n",
    "  elif hora >= '18:00' and hora < '23:59':\n",
    "    return 'NOITE'\n",
    "  else:\n",
    "    return 'MADRUGADA'\n",
    "\n",
    "infracoes_df['horario'] = infracoes_df.apply(categoriza_horario, axis=1)"
   ]
  },
  {
   "cell_type": "code",
   "execution_count": 14,
   "metadata": {
    "colab": {
     "base_uri": "https://localhost:8080/",
     "height": 69
    },
    "colab_type": "code",
    "executionInfo": {
     "elapsed": 945,
     "status": "ok",
     "timestamp": 1566676772501,
     "user": {
      "displayName": "MAYRA DANTAS",
      "photoUrl": "https://lh3.googleusercontent.com/a-/AAuE7mC1Nk3Cdh9E0tWxPoHxnjsDZc7rkChaMFPbhtGo=s64",
      "userId": "09389505834223807513"
     },
     "user_tz": 180
    },
    "id": "YcHZ2qTrNhPk",
    "outputId": "100a6e70-b46e-49fe-dd30-2e1c6b1b0667"
   },
   "outputs": [
    {
     "data": {
      "text/html": [
       "<div>\n",
       "<style scoped>\n",
       "    .dataframe tbody tr th:only-of-type {\n",
       "        vertical-align: middle;\n",
       "    }\n",
       "\n",
       "    .dataframe tbody tr th {\n",
       "        vertical-align: top;\n",
       "    }\n",
       "\n",
       "    .dataframe thead th {\n",
       "        text-align: right;\n",
       "    }\n",
       "</style>\n",
       "<table border=\"1\" class=\"dataframe\">\n",
       "  <thead>\n",
       "    <tr style=\"text-align: right;\">\n",
       "      <th></th>\n",
       "      <th>cod_infracao</th>\n",
       "      <th>dat_infracao</th>\n",
       "      <th>data_fim_vigencia</th>\n",
       "      <th>data_inicio_vigencia</th>\n",
       "      <th>descricao_abreviada</th>\n",
       "      <th>enquadramento</th>\n",
       "      <th>especie</th>\n",
       "      <th>exc_verificado</th>\n",
       "      <th>hora</th>\n",
       "      <th>ind_assinou_auto</th>\n",
       "      <th>...</th>\n",
       "      <th>med_realizada</th>\n",
       "      <th>nom_modelo_veiculo</th>\n",
       "      <th>nom_municipio</th>\n",
       "      <th>nome_veiculo_marca</th>\n",
       "      <th>num_br_infracao</th>\n",
       "      <th>num_km_infracao</th>\n",
       "      <th>tip_abordagem</th>\n",
       "      <th>uf_infracao</th>\n",
       "      <th>uf_placa</th>\n",
       "      <th>horario</th>\n",
       "    </tr>\n",
       "  </thead>\n",
       "  <tbody>\n",
       "  </tbody>\n",
       "</table>\n",
       "<p>0 rows × 23 columns</p>\n",
       "</div>"
      ],
      "text/plain": [
       "Empty DataFrame\n",
       "Columns: [cod_infracao, dat_infracao, data_fim_vigencia, data_inicio_vigencia, descricao_abreviada, enquadramento, especie, exc_verificado, hora, ind_assinou_auto, ind_sentido_trafego, ind_veiculo_estrangeiro, med_considerada, med_realizada, nom_modelo_veiculo, nom_municipio, nome_veiculo_marca, num_br_infracao, num_km_infracao, tip_abordagem, uf_infracao, uf_placa, horario]\n",
       "Index: []\n",
       "\n",
       "[0 rows x 23 columns]"
      ]
     },
     "execution_count": 14,
     "metadata": {},
     "output_type": "execute_result"
    }
   ],
   "source": [
    "infracoes_df.query(\"enquadramento == ''\")"
   ]
  },
  {
   "cell_type": "code",
   "execution_count": 15,
   "metadata": {},
   "outputs": [],
   "source": [
    "# save the data \n",
    "infracoes_df.to_csv('../data/processed/violations.csv', sep=';')"
   ]
  },
  {
   "cell_type": "markdown",
   "metadata": {
    "colab_type": "text",
    "id": "6fgJvUrirMUK"
   },
   "source": [
    "## Exploring\n",
    "\n",
    "This section brings a visual analysis, guided by some questions:\n",
    " - In which week days the most infractions occur? And in which hour of the day?\n",
    " - Which are the most common violations?\n",
    " - How many violations are committed in infrações feitas em estados diferentes dos da placa?\n",
    " - Em feriados são mais frequentes?"
   ]
  },
  {
   "cell_type": "code",
   "execution_count": 16,
   "metadata": {
    "colab": {},
    "colab_type": "code",
    "id": "s70tMOAIrBEX"
   },
   "outputs": [],
   "source": [
    "# Importando bibliotecas\n",
    "import seaborn as sns"
   ]
  },
  {
   "cell_type": "code",
   "execution_count": 17,
   "metadata": {
    "colab": {
     "base_uri": "https://localhost:8080/",
     "height": 301
    },
    "colab_type": "code",
    "executionInfo": {
     "elapsed": 1248,
     "status": "ok",
     "timestamp": 1566673271735,
     "user": {
      "displayName": "MAYRA DANTAS",
      "photoUrl": "https://lh3.googleusercontent.com/a-/AAuE7mC1Nk3Cdh9E0tWxPoHxnjsDZc7rkChaMFPbhtGo=s64",
      "userId": "09389505834223807513"
     },
     "user_tz": 180
    },
    "id": "KLGMm_pIv9DI",
    "outputId": "5e18cc41-a58d-470c-9687-1faab1c5cd7d"
   },
   "outputs": [
    {
     "data": {
      "text/plain": [
       "<matplotlib.axes._subplots.AxesSubplot at 0x7fc8ba3f3208>"
      ]
     },
     "execution_count": 17,
     "metadata": {},
     "output_type": "execute_result"
    },
    {
     "data": {
      "image/png": "[encoded data removed]",
      "text/plain": [
       "<Figure size 432x288 with 1 Axes>"
      ]
     },
     "metadata": {
      "needs_background": "light"
     },
     "output_type": "display_data"
    }
   ],
   "source": [
    "infracoes_df['dia_semana'] = infracoes_df.dat_infracao.dt.weekday_name\n",
    "sns.countplot(x='dia_semana', data=infracoes_df, palette='RdYlBu')"
   ]
  },
  {
   "cell_type": "markdown",
   "metadata": {
    "colab_type": "text",
    "id": "8sc8Wc_R3Vsf"
   },
   "source": [
    "Answering the first questions, the days when the most violations are committed are friday and thurday. On the other hand, sunday is when less violations occur."
   ]
  },
  {
   "cell_type": "code",
   "execution_count": 18,
   "metadata": {
    "colab": {
     "base_uri": "https://localhost:8080/",
     "height": 301
    },
    "colab_type": "code",
    "executionInfo": {
     "elapsed": 988,
     "status": "ok",
     "timestamp": 1566673274306,
     "user": {
      "displayName": "MAYRA DANTAS",
      "photoUrl": "https://lh3.googleusercontent.com/a-/AAuE7mC1Nk3Cdh9E0tWxPoHxnjsDZc7rkChaMFPbhtGo=s64",
      "userId": "09389505834223807513"
     },
     "user_tz": 180
    },
    "id": "tuVIj2lTxkoD",
    "outputId": "01e1cd71-c175-4a51-c0de-01120ee08014"
   },
   "outputs": [
    {
     "data": {
      "text/plain": [
       "<matplotlib.axes._subplots.AxesSubplot at 0x7fc8b83d9908>"
      ]
     },
     "execution_count": 18,
     "metadata": {},
     "output_type": "execute_result"
    },
    {
     "data": {
      "image/png": "[encoded data removed]",
      "text/plain": [
       "<Figure size 432x288 with 1 Axes>"
      ]
     },
     "metadata": {
      "needs_background": "light"
     },
     "output_type": "display_data"
    }
   ],
   "source": [
    "sns.countplot(x='dia_semana', hue='horario', data=infracoes_df, palette='RdYlBu')"
   ]
  },
  {
   "cell_type": "markdown",
   "metadata": {
    "colab_type": "text",
    "id": "8E5uVUb83xLw"
   },
   "source": [
    "Every week day, most violations ocurr during the afternoon and the morning, respectively. Between midnight and early dawn, a driving violation is more rare."
   ]
  },
  {
   "cell_type": "code",
   "execution_count": 19,
   "metadata": {
    "colab": {
     "base_uri": "https://localhost:8080/",
     "height": 119
    },
    "colab_type": "code",
    "executionInfo": {
     "elapsed": 719,
     "status": "ok",
     "timestamp": 1566676927296,
     "user": {
      "displayName": "MAYRA DANTAS",
      "photoUrl": "https://lh3.googleusercontent.com/a-/AAuE7mC1Nk3Cdh9E0tWxPoHxnjsDZc7rkChaMFPbhtGo=s64",
      "userId": "09389505834223807513"
     },
     "user_tz": 180
    },
    "id": "_E4sBFd-5Glt",
    "outputId": "05c2deb2-c578-4692-f5e8-2565c67ad41c"
   },
   "outputs": [
    {
     "data": {
      "text/plain": [
       "250 I b    0.104744\n",
       "162 I      0.092730\n",
       "230 * V    0.084259\n",
       "203 V      0.073947\n",
       "167        0.051503\n",
       "Name: enquadramento, dtype: float64"
      ]
     },
     "execution_count": 19,
     "metadata": {},
     "output_type": "execute_result"
    }
   ],
   "source": [
    "# Recupera as 5 infracoes mais comuns\n",
    "most_common_violations = infracoes_df.enquadramento.value_counts(normalize=True).head()\n",
    "\n",
    "most_common_violations"
   ]
  },
  {
   "cell_type": "code",
   "execution_count": 20,
   "metadata": {
    "colab": {
     "base_uri": "https://localhost:8080/",
     "height": 102
    },
    "colab_type": "code",
    "executionInfo": {
     "elapsed": 705,
     "status": "ok",
     "timestamp": 1566677027537,
     "user": {
      "displayName": "MAYRA DANTAS",
      "photoUrl": "https://lh3.googleusercontent.com/a-/AAuE7mC1Nk3Cdh9E0tWxPoHxnjsDZc7rkChaMFPbhtGo=s64",
      "userId": "09389505834223807513"
     },
     "user_tz": 180
    },
    "id": "XK75BEFU9C9U",
    "outputId": "901199b2-a85a-4534-fe26-5b2ae4166e56"
   },
   "outputs": [
    {
     "name": "stdout",
     "output_type": "stream",
     "text": [
      "['Em movimento de dia, deixar de manter acesa luz baixa nas rodovias.']\n",
      "['Dirigir veículo sem possuir CNH/PPD/ACC']\n",
      "['Conduzir o veículo registrado que não esteja devidamente licenciado']\n",
      "['Ultrapassar pela contramão linha de divisão de fluxos opostos, contínua amarela']\n",
      "['Deixar o passageiro de usar o cinto segurança']\n"
     ]
    }
   ],
   "source": [
    "for violation in most_common_violations.index:\n",
    "  description = infracoes_df.query(\"enquadramento == '\" + violation+ \"'\").tail(1).descricao_abreviada.values\n",
    "  print(description)"
   ]
  },
  {
   "cell_type": "markdown",
   "metadata": {
    "colab_type": "text",
    "id": "iH6aF2-M6QE0"
   },
   "source": [
    "The most common violation commited between 2007 and 2018 is the one in which the driver don't keep the lights on in the road during the day, which could be explained by the fact that is a somewhat new restriction and easily to forget.\n",
    "\n",
    "The second and third place are more severe and dangerous, since either the driver isn't qualified or the vehicle is irregular. Therefore, considering that this situations happen in a national road, people in all country could be in danger.\n",
    "\n",
    "The fourth place is also a serious violation, that presents a risk for everyone on the roads."
   ]
  }
 ],
 "metadata": {
  "colab": {
   "name": "1.1 - driving violations analysis.ipynb",
   "provenance": [],
   "version": "0.3.2"
  },
  "kernelspec": {
   "display_name": "Python 3",
   "language": "python",
   "name": "python3"
  },
  "language_info": {
   "codemirror_mode": {
    "name": "ipython",
    "version": 3
   },
   "file_extension": ".py",
   "mimetype": "text/x-python",
   "name": "python",
   "nbconvert_exporter": "python",
   "pygments_lexer": "ipython3",
   "version": "3.6.8"
  }
 },
 "nbformat": 4,
 "nbformat_minor": 4
}
