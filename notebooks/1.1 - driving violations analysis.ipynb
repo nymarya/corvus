{
 "cells": [
  {
   "cell_type": "code",
   "execution_count": null,
   "metadata": {
    "colab": {},
    "colab_type": "code",
    "id": "vmkF2G9IwO5K"
   },
   "outputs": [],
   "source": [
    "from prf_api.prf_api import PRFApi\n",
    "\n",
    "import pandas as pd\n",
    "import numpy as np"
   ]
  },
  {
   "cell_type": "markdown",
   "metadata": {
    "colab_type": "text",
    "id": "4Fx0A7v5wlyw"
   },
   "source": [
    "## Getting the data"
   ]
  },
  {
   "cell_type": "code",
   "execution_count": null,
   "metadata": {
    "colab": {},
    "colab_type": "code",
    "id": "FWobNnDpwi1X"
   },
   "outputs": [],
   "source": [
    "data = PRFApi()"
   ]
  },
  {
   "cell_type": "code",
   "execution_count": null,
   "metadata": {
    "colab": {
     "base_uri": "https://localhost:8080/",
     "height": 445
    },
    "colab_type": "code",
    "executionInfo": {
     "elapsed": 311062,
     "status": "ok",
     "timestamp": 1566673058465,
     "user": {
      "displayName": "MAYRA DANTAS",
      "photoUrl": "https://lh3.googleusercontent.com/a-/AAuE7mC1Nk3Cdh9E0tWxPoHxnjsDZc7rkChaMFPbhtGo=s64",
      "userId": "09389505834223807513"
     },
     "user_tz": 180
    },
    "id": "ntktEwlMwk-Z",
    "outputId": "479d36d1-8f8f-4724-efe9-1fa776025533"
   },
   "outputs": [
    {
     "name": "stdout",
     "output_type": "stream",
     "text": [
      ">>> Criando dataframe com ano 2007...\n",
      ">>> Criando dataframe com ano 2008...\n",
      ">>> Criando dataframe com ano 2009...\n",
      ">>> Criando dataframe com ano 2010...\n",
      ">>> Criando dataframe com ano 2011...\n",
      ">>> Criando dataframe com ano 2012...\n",
      ">>> Criando dataframe com ano 2013...\n",
      ">>> Criando dataframe com ano 2014...\n",
      ">>> Criando dataframe com ano 2015...\n"
     ]
    },
    {
     "name": "stderr",
     "output_type": "stream",
     "text": [
      "/usr/local/lib/python3.6/dist-packages/pandas/core/frame.py:6692: FutureWarning: Sorting because non-concatenation axis is not aligned. A future version\n",
      "of pandas will change to not sort by default.\n",
      "\n",
      "To accept the future behavior, pass 'sort=False'.\n",
      "\n",
      "To retain the current behavior and silence the warning, pass 'sort=True'.\n",
      "\n",
      "  sort=sort)\n"
     ]
    },
    {
     "name": "stdout",
     "output_type": "stream",
     "text": [
      ">>> Criando dataframe com ano 2016...\n"
     ]
    },
    {
     "name": "stderr",
     "output_type": "stream",
     "text": [
      "/usr/local/lib/python3.6/dist-packages/IPython/core/interactiveshell.py:2822: DtypeWarning: Columns (13) have mixed types. Specify dtype option on import or set low_memory=False.\n",
      "  if self.run_code(code, result):\n"
     ]
    },
    {
     "name": "stdout",
     "output_type": "stream",
     "text": [
      ">>> Criando dataframe com ano 2017...\n",
      ">>> Criando dataframe com ano 2018...\n"
     ]
    },
    {
     "name": "stderr",
     "output_type": "stream",
     "text": [
      "/usr/local/lib/python3.6/dist-packages/IPython/core/interactiveshell.py:2822: DtypeWarning: Columns (14) have mixed types. Specify dtype option on import or set low_memory=False.\n",
      "  if self.run_code(code, result):\n"
     ]
    }
   ],
   "source": [
    "infracoes_df = data.dataframe('infracoes', estado='RN', anos=list(range(2007, 2019)))"
   ]
  },
  {
   "cell_type": "markdown",
   "metadata": {
    "colab_type": "text",
    "id": "DlsJe98eKpzW"
   },
   "source": [
    "### Analisando o dataset\n",
    "\n",
    "Nesta seção, são feitas observações mais superficiais do dataset, buscando pontos de melhoria e inconsistências"
   ]
  },
  {
   "cell_type": "code",
   "execution_count": null,
   "metadata": {
    "colab": {
     "base_uri": "https://localhost:8080/",
     "height": 476
    },
    "colab_type": "code",
    "executionInfo": {
     "elapsed": 1363,
     "status": "ok",
     "timestamp": 1566673222787,
     "user": {
      "displayName": "MAYRA DANTAS",
      "photoUrl": "https://lh3.googleusercontent.com/a-/AAuE7mC1Nk3Cdh9E0tWxPoHxnjsDZc7rkChaMFPbhtGo=s64",
      "userId": "09389505834223807513"
     },
     "user_tz": 180
    },
    "id": "7ORSJE3bw1PI",
    "outputId": "d2f74345-7ac2-4317-b4b3-d8acb3daf910"
   },
   "outputs": [
    {
     "name": "stdout",
     "output_type": "stream",
     "text": [
      "<class 'pandas.core.frame.DataFrame'>\n",
      "RangeIndex: 641908 entries, 0 to 641907\n",
      "Data columns (total 22 columns):\n",
      "cod_infracao               141782 non-null float64\n",
      "dat_infracao               641908 non-null object\n",
      "data_fim_vigencia          486313 non-null object\n",
      "data_inicio_vigencia       641908 non-null object\n",
      "descricao_abreviada        641908 non-null object\n",
      "enquadramento              641908 non-null object\n",
      "especie                    626005 non-null object\n",
      "exc_verificado             273502 non-null float64\n",
      "hora                       280798 non-null object\n",
      "ind_assinou_auto           129681 non-null object\n",
      "ind_sentido_trafego        513466 non-null object\n",
      "ind_veiculo_estrangeiro    641908 non-null object\n",
      "med_considerada            282002 non-null float64\n",
      "med_realizada              282003 non-null float64\n",
      "nom_modelo_veiculo         603485 non-null object\n",
      "nom_municipio              641907 non-null object\n",
      "nome_veiculo_marca         513460 non-null object\n",
      "num_br_infracao            641908 non-null float64\n",
      "num_km_infracao            641908 non-null int64\n",
      "tip_abordagem              641908 non-null object\n",
      "uf_infracao                641908 non-null object\n",
      "uf_placa                   641158 non-null object\n",
      "dtypes: float64(5), int64(1), object(16)\n",
      "memory usage: 107.7+ MB\n"
     ]
    }
   ],
   "source": [
    "infracoes_df.info()"
   ]
  },
  {
   "cell_type": "markdown",
   "metadata": {
    "colab_type": "text",
    "id": "nWOBCSAQK5Xa"
   },
   "source": [
    "Alguns pontos foram observados:\n",
    "\n",
    "- O campo `dat_infracao`, `data_inicio_vigencia` e `data_fim_vigencia` devem ser campos datetime\n",
    "- Campos importantes como `hora`, `uf_infracao`, `cod_infracao`,  `tip_abordagem`, entre outros, apresentam poucos dados faltantes (which is nice)\n",
    "- `ind_assinou_auto`, `uf_placa`, `ind_sentido_trafego`, `especie` podem ser características relevantes , mas possuem uma porcentagem de dados faltantes\n",
    "- `hora` deveria ser timestamp"
   ]
  },
  {
   "cell_type": "code",
   "execution_count": null,
   "metadata": {
    "colab": {
     "base_uri": "https://localhost:8080/",
     "height": 297
    },
    "colab_type": "code",
    "executionInfo": {
     "elapsed": 728,
     "status": "ok",
     "timestamp": 1566673224603,
     "user": {
      "displayName": "MAYRA DANTAS",
      "photoUrl": "https://lh3.googleusercontent.com/a-/AAuE7mC1Nk3Cdh9E0tWxPoHxnjsDZc7rkChaMFPbhtGo=s64",
      "userId": "09389505834223807513"
     },
     "user_tz": 180
    },
    "id": "hvTku8GCO2GV",
    "outputId": "e162a0ae-0ee6-4fe3-8991-d05ff316e5ad"
   },
   "outputs": [
    {
     "data": {
      "text/html": [
       "<div>\n",
       "<style scoped>\n",
       "    .dataframe tbody tr th:only-of-type {\n",
       "        vertical-align: middle;\n",
       "    }\n",
       "\n",
       "    .dataframe tbody tr th {\n",
       "        vertical-align: top;\n",
       "    }\n",
       "\n",
       "    .dataframe thead th {\n",
       "        text-align: right;\n",
       "    }\n",
       "</style>\n",
       "<table border=\"1\" class=\"dataframe\">\n",
       "  <thead>\n",
       "    <tr style=\"text-align: right;\">\n",
       "      <th></th>\n",
       "      <th>cod_infracao</th>\n",
       "      <th>exc_verificado</th>\n",
       "      <th>med_considerada</th>\n",
       "      <th>med_realizada</th>\n",
       "      <th>num_br_infracao</th>\n",
       "      <th>num_km_infracao</th>\n",
       "    </tr>\n",
       "  </thead>\n",
       "  <tbody>\n",
       "    <tr>\n",
       "      <th>count</th>\n",
       "      <td>141782.000000</td>\n",
       "      <td>273502.000000</td>\n",
       "      <td>2.820020e+05</td>\n",
       "      <td>2.820030e+05</td>\n",
       "      <td>641908.000000</td>\n",
       "      <td>641908.000000</td>\n",
       "    </tr>\n",
       "    <tr>\n",
       "      <th>mean</th>\n",
       "      <td>64196.989688</td>\n",
       "      <td>73.902882</td>\n",
       "      <td>5.644966e+02</td>\n",
       "      <td>5.740050e+02</td>\n",
       "      <td>245.313684</td>\n",
       "      <td>115.780006</td>\n",
       "    </tr>\n",
       "    <tr>\n",
       "      <th>std</th>\n",
       "      <td>8695.124776</td>\n",
       "      <td>1797.338828</td>\n",
       "      <td>7.598502e+03</td>\n",
       "      <td>8.095999e+03</td>\n",
       "      <td>116.999887</td>\n",
       "      <td>78.430009</td>\n",
       "    </tr>\n",
       "    <tr>\n",
       "      <th>min</th>\n",
       "      <td>50100.000000</td>\n",
       "      <td>-11000.000000</td>\n",
       "      <td>-3.000000e-02</td>\n",
       "      <td>0.000000e+00</td>\n",
       "      <td>0.000000</td>\n",
       "      <td>0.000000</td>\n",
       "    </tr>\n",
       "    <tr>\n",
       "      <th>25%</th>\n",
       "      <td>57970.000000</td>\n",
       "      <td>0.000000</td>\n",
       "      <td>0.000000e+00</td>\n",
       "      <td>0.000000e+00</td>\n",
       "      <td>101.000000</td>\n",
       "      <td>66.000000</td>\n",
       "    </tr>\n",
       "    <tr>\n",
       "      <th>50%</th>\n",
       "      <td>66102.000000</td>\n",
       "      <td>0.000000</td>\n",
       "      <td>2.750000e-01</td>\n",
       "      <td>3.200000e-01</td>\n",
       "      <td>304.000000</td>\n",
       "      <td>102.000000</td>\n",
       "    </tr>\n",
       "    <tr>\n",
       "      <th>75%</th>\n",
       "      <td>72422.000000</td>\n",
       "      <td>8.000000</td>\n",
       "      <td>8.900000e+01</td>\n",
       "      <td>9.600000e+01</td>\n",
       "      <td>304.000000</td>\n",
       "      <td>146.000000</td>\n",
       "    </tr>\n",
       "    <tr>\n",
       "      <th>max</th>\n",
       "      <td>76332.000000</td>\n",
       "      <td>815910.000000</td>\n",
       "      <td>3.065910e+06</td>\n",
       "      <td>3.065910e+06</td>\n",
       "      <td>427.000000</td>\n",
       "      <td>3205.000000</td>\n",
       "    </tr>\n",
       "  </tbody>\n",
       "</table>\n",
       "</div>"
      ],
      "text/plain": [
       "        cod_infracao  exc_verificado  ...  num_br_infracao  num_km_infracao\n",
       "count  141782.000000   273502.000000  ...    641908.000000    641908.000000\n",
       "mean    64196.989688       73.902882  ...       245.313684       115.780006\n",
       "std      8695.124776     1797.338828  ...       116.999887        78.430009\n",
       "min     50100.000000   -11000.000000  ...         0.000000         0.000000\n",
       "25%     57970.000000        0.000000  ...       101.000000        66.000000\n",
       "50%     66102.000000        0.000000  ...       304.000000       102.000000\n",
       "75%     72422.000000        8.000000  ...       304.000000       146.000000\n",
       "max     76332.000000   815910.000000  ...       427.000000      3205.000000\n",
       "\n",
       "[8 rows x 6 columns]"
      ]
     },
     "execution_count": 13,
     "metadata": {
      "tags": []
     },
     "output_type": "execute_result"
    }
   ],
   "source": [
    "infracoes_df.describe()"
   ]
  },
  {
   "cell_type": "markdown",
   "metadata": {
    "colab_type": "text",
    "id": "GIe5iaSDPpDz"
   },
   "source": [
    "O único campo que gerou estranheza foi o `num_br_infracao`, visto que o maior número possível de BR é 610 e a menor é 010, mas no dataset aparecem apenas aqueles entre 101 e 427."
   ]
  },
  {
   "cell_type": "code",
   "execution_count": null,
   "metadata": {
    "colab": {
     "base_uri": "https://localhost:8080/",
     "height": 360
    },
    "colab_type": "code",
    "executionInfo": {
     "elapsed": 715,
     "status": "ok",
     "timestamp": 1566673228447,
     "user": {
      "displayName": "MAYRA DANTAS",
      "photoUrl": "https://lh3.googleusercontent.com/a-/AAuE7mC1Nk3Cdh9E0tWxPoHxnjsDZc7rkChaMFPbhtGo=s64",
      "userId": "09389505834223807513"
     },
     "user_tz": 180
    },
    "id": "BAQgUkO4O7Ud",
    "outputId": "93e896c2-5a5d-479e-80e5-36f0ceff8266"
   },
   "outputs": [
    {
     "data": {
      "text/html": [
       "<div>\n",
       "<style scoped>\n",
       "    .dataframe tbody tr th:only-of-type {\n",
       "        vertical-align: middle;\n",
       "    }\n",
       "\n",
       "    .dataframe tbody tr th {\n",
       "        vertical-align: top;\n",
       "    }\n",
       "\n",
       "    .dataframe thead th {\n",
       "        text-align: right;\n",
       "    }\n",
       "</style>\n",
       "<table border=\"1\" class=\"dataframe\">\n",
       "  <thead>\n",
       "    <tr style=\"text-align: right;\">\n",
       "      <th></th>\n",
       "      <th>cod_infracao</th>\n",
       "      <th>dat_infracao</th>\n",
       "      <th>data_fim_vigencia</th>\n",
       "      <th>data_inicio_vigencia</th>\n",
       "      <th>descricao_abreviada</th>\n",
       "      <th>enquadramento</th>\n",
       "      <th>especie</th>\n",
       "      <th>exc_verificado</th>\n",
       "      <th>hora</th>\n",
       "      <th>ind_assinou_auto</th>\n",
       "      <th>ind_sentido_trafego</th>\n",
       "      <th>ind_veiculo_estrangeiro</th>\n",
       "      <th>med_considerada</th>\n",
       "      <th>med_realizada</th>\n",
       "      <th>nom_modelo_veiculo</th>\n",
       "      <th>nom_municipio</th>\n",
       "      <th>nome_veiculo_marca</th>\n",
       "      <th>num_br_infracao</th>\n",
       "      <th>num_km_infracao</th>\n",
       "      <th>tip_abordagem</th>\n",
       "      <th>uf_infracao</th>\n",
       "      <th>uf_placa</th>\n",
       "    </tr>\n",
       "  </thead>\n",
       "  <tbody>\n",
       "    <tr>\n",
       "      <th>0</th>\n",
       "      <td>NaN</td>\n",
       "      <td>2007-05-01</td>\n",
       "      <td>2016-10-31</td>\n",
       "      <td>2000-01-01</td>\n",
       "      <td>Deixar de dar preferÃªncia nas interseÃ§Ãµes c...</td>\n",
       "      <td>215 II</td>\n",
       "      <td>PASSAGEIRO</td>\n",
       "      <td>NaN</td>\n",
       "      <td>NaN</td>\n",
       "      <td>S</td>\n",
       "      <td>C</td>\n",
       "      <td>N</td>\n",
       "      <td>NaN</td>\n",
       "      <td>NaN</td>\n",
       "      <td>NaN</td>\n",
       "      <td>CEARA-MIRIM</td>\n",
       "      <td>GM</td>\n",
       "      <td>406.0</td>\n",
       "      <td>151</td>\n",
       "      <td>C</td>\n",
       "      <td>RN</td>\n",
       "      <td>RN</td>\n",
       "    </tr>\n",
       "    <tr>\n",
       "      <th>1</th>\n",
       "      <td>NaN</td>\n",
       "      <td>2007-05-01</td>\n",
       "      <td>2016-10-31</td>\n",
       "      <td>2000-01-01</td>\n",
       "      <td>Conduzir o veÃ­culo com equipamento obrigatÃ³r...</td>\n",
       "      <td>230 IX</td>\n",
       "      <td>PASSAGEIRO</td>\n",
       "      <td>NaN</td>\n",
       "      <td>NaN</td>\n",
       "      <td>S</td>\n",
       "      <td>D</td>\n",
       "      <td>N</td>\n",
       "      <td>NaN</td>\n",
       "      <td>NaN</td>\n",
       "      <td>NaN</td>\n",
       "      <td>MACAIBA</td>\n",
       "      <td>MERCEDES BENZ</td>\n",
       "      <td>304.0</td>\n",
       "      <td>294</td>\n",
       "      <td>C</td>\n",
       "      <td>RN</td>\n",
       "      <td>RN</td>\n",
       "    </tr>\n",
       "    <tr>\n",
       "      <th>2</th>\n",
       "      <td>NaN</td>\n",
       "      <td>2007-05-01</td>\n",
       "      <td>2012-12-31</td>\n",
       "      <td>2000-01-01</td>\n",
       "      <td>Executar operaÃ§Ã£o de conversÃ£o Ã  esquerda ...</td>\n",
       "      <td>207</td>\n",
       "      <td>PASSAGEIRO</td>\n",
       "      <td>NaN</td>\n",
       "      <td>NaN</td>\n",
       "      <td>S</td>\n",
       "      <td>D</td>\n",
       "      <td>N</td>\n",
       "      <td>NaN</td>\n",
       "      <td>NaN</td>\n",
       "      <td>NaN</td>\n",
       "      <td>PARNAMIRIM</td>\n",
       "      <td>HONDA</td>\n",
       "      <td>101.0</td>\n",
       "      <td>107</td>\n",
       "      <td>C</td>\n",
       "      <td>RN</td>\n",
       "      <td>RN</td>\n",
       "    </tr>\n",
       "    <tr>\n",
       "      <th>3</th>\n",
       "      <td>NaN</td>\n",
       "      <td>2007-05-01</td>\n",
       "      <td>2008-02-15</td>\n",
       "      <td>2000-01-01</td>\n",
       "      <td>Conduzir o veÃ­culo que nÃ£o esteja registrado...</td>\n",
       "      <td>230 V</td>\n",
       "      <td>PASSAGEIRO</td>\n",
       "      <td>NaN</td>\n",
       "      <td>NaN</td>\n",
       "      <td>S</td>\n",
       "      <td>D</td>\n",
       "      <td>N</td>\n",
       "      <td>NaN</td>\n",
       "      <td>NaN</td>\n",
       "      <td>NaN</td>\n",
       "      <td>MACAIBA</td>\n",
       "      <td>GM</td>\n",
       "      <td>304.0</td>\n",
       "      <td>294</td>\n",
       "      <td>C</td>\n",
       "      <td>RN</td>\n",
       "      <td>RN</td>\n",
       "    </tr>\n",
       "    <tr>\n",
       "      <th>4</th>\n",
       "      <td>NaN</td>\n",
       "      <td>2007-05-01</td>\n",
       "      <td>2016-10-31</td>\n",
       "      <td>2000-01-01</td>\n",
       "      <td>Dirigir veÃ­culo sem possuir CNH ou PermissÃ£o...</td>\n",
       "      <td>162 I</td>\n",
       "      <td>CARGA</td>\n",
       "      <td>NaN</td>\n",
       "      <td>NaN</td>\n",
       "      <td>S</td>\n",
       "      <td>D</td>\n",
       "      <td>N</td>\n",
       "      <td>NaN</td>\n",
       "      <td>NaN</td>\n",
       "      <td>NaN</td>\n",
       "      <td>CURRAIS NOVOS</td>\n",
       "      <td>MERCEDES BENZ</td>\n",
       "      <td>226.0</td>\n",
       "      <td>161</td>\n",
       "      <td>C</td>\n",
       "      <td>RN</td>\n",
       "      <td>RN</td>\n",
       "    </tr>\n",
       "  </tbody>\n",
       "</table>\n",
       "</div>"
      ],
      "text/plain": [
       "   cod_infracao dat_infracao  ... uf_infracao uf_placa\n",
       "0           NaN   2007-05-01  ...          RN       RN\n",
       "1           NaN   2007-05-01  ...          RN       RN\n",
       "2           NaN   2007-05-01  ...          RN       RN\n",
       "3           NaN   2007-05-01  ...          RN       RN\n",
       "4           NaN   2007-05-01  ...          RN       RN\n",
       "\n",
       "[5 rows x 22 columns]"
      ]
     },
     "execution_count": 14,
     "metadata": {
      "tags": []
     },
     "output_type": "execute_result"
    }
   ],
   "source": [
    "infracoes_df.head()"
   ]
  },
  {
   "cell_type": "code",
   "execution_count": null,
   "metadata": {
    "colab": {
     "base_uri": "https://localhost:8080/",
     "height": 617
    },
    "colab_type": "code",
    "executionInfo": {
     "elapsed": 713,
     "status": "ok",
     "timestamp": 1566673248382,
     "user": {
      "displayName": "MAYRA DANTAS",
      "photoUrl": "https://lh3.googleusercontent.com/a-/AAuE7mC1Nk3Cdh9E0tWxPoHxnjsDZc7rkChaMFPbhtGo=s64",
      "userId": "09389505834223807513"
     },
     "user_tz": 180
    },
    "id": "Lun-SdUEfe9H",
    "outputId": "eccc5dc7-9968-49a6-ecf7-0b1fd7a433e3"
   },
   "outputs": [
    {
     "data": {
      "text/html": [
       "<div>\n",
       "<style scoped>\n",
       "    .dataframe tbody tr th:only-of-type {\n",
       "        vertical-align: middle;\n",
       "    }\n",
       "\n",
       "    .dataframe tbody tr th {\n",
       "        vertical-align: top;\n",
       "    }\n",
       "\n",
       "    .dataframe thead th {\n",
       "        text-align: right;\n",
       "    }\n",
       "</style>\n",
       "<table border=\"1\" class=\"dataframe\">\n",
       "  <thead>\n",
       "    <tr style=\"text-align: right;\">\n",
       "      <th></th>\n",
       "      <th>cod_infracao</th>\n",
       "      <th>dat_infracao</th>\n",
       "      <th>data_fim_vigencia</th>\n",
       "      <th>data_inicio_vigencia</th>\n",
       "      <th>descricao_abreviada</th>\n",
       "      <th>enquadramento</th>\n",
       "      <th>especie</th>\n",
       "      <th>exc_verificado</th>\n",
       "      <th>hora</th>\n",
       "      <th>ind_assinou_auto</th>\n",
       "      <th>ind_sentido_trafego</th>\n",
       "      <th>ind_veiculo_estrangeiro</th>\n",
       "      <th>med_considerada</th>\n",
       "      <th>med_realizada</th>\n",
       "      <th>nom_modelo_veiculo</th>\n",
       "      <th>nom_municipio</th>\n",
       "      <th>nome_veiculo_marca</th>\n",
       "      <th>num_br_infracao</th>\n",
       "      <th>num_km_infracao</th>\n",
       "      <th>tip_abordagem</th>\n",
       "      <th>uf_infracao</th>\n",
       "      <th>uf_placa</th>\n",
       "    </tr>\n",
       "  </thead>\n",
       "  <tbody>\n",
       "    <tr>\n",
       "      <th>7974</th>\n",
       "      <td>NaN</td>\n",
       "      <td>2007-10-19</td>\n",
       "      <td>2016-10-31</td>\n",
       "      <td>2000-01-01</td>\n",
       "      <td>Parar na pista de rolamento das rodovias</td>\n",
       "      <td>182-V</td>\n",
       "      <td>PASSAGEIRO</td>\n",
       "      <td>NaN</td>\n",
       "      <td>NaN</td>\n",
       "      <td>NaN</td>\n",
       "      <td>C</td>\n",
       "      <td>N</td>\n",
       "      <td>NaN</td>\n",
       "      <td>NaN</td>\n",
       "      <td>NaN</td>\n",
       "      <td>PARELHAS</td>\n",
       "      <td>GM</td>\n",
       "      <td>101.0</td>\n",
       "      <td>105</td>\n",
       "      <td>S</td>\n",
       "      <td>RN</td>\n",
       "      <td>RN</td>\n",
       "    </tr>\n",
       "    <tr>\n",
       "      <th>7975</th>\n",
       "      <td>NaN</td>\n",
       "      <td>2007-10-19</td>\n",
       "      <td>2016-10-31</td>\n",
       "      <td>2000-01-01</td>\n",
       "      <td>Executar operaÃ§Ã£o de retorno em locais proib...</td>\n",
       "      <td>206 I</td>\n",
       "      <td>PASSAGEIRO</td>\n",
       "      <td>NaN</td>\n",
       "      <td>NaN</td>\n",
       "      <td>NaN</td>\n",
       "      <td>C</td>\n",
       "      <td>N</td>\n",
       "      <td>NaN</td>\n",
       "      <td>NaN</td>\n",
       "      <td>NaN</td>\n",
       "      <td>PARELHAS</td>\n",
       "      <td>VW</td>\n",
       "      <td>101.0</td>\n",
       "      <td>105</td>\n",
       "      <td>S</td>\n",
       "      <td>RN</td>\n",
       "      <td>RN</td>\n",
       "    </tr>\n",
       "    <tr>\n",
       "      <th>7976</th>\n",
       "      <td>NaN</td>\n",
       "      <td>2007-10-19</td>\n",
       "      <td>2016-10-31</td>\n",
       "      <td>2000-01-01</td>\n",
       "      <td>Executar operaÃ§Ã£o de retorno em locais proib...</td>\n",
       "      <td>206 I</td>\n",
       "      <td>PASSAGEIRO</td>\n",
       "      <td>NaN</td>\n",
       "      <td>NaN</td>\n",
       "      <td>NaN</td>\n",
       "      <td>C</td>\n",
       "      <td>N</td>\n",
       "      <td>NaN</td>\n",
       "      <td>NaN</td>\n",
       "      <td>NaN</td>\n",
       "      <td>PARELHAS</td>\n",
       "      <td>FIAT</td>\n",
       "      <td>101.0</td>\n",
       "      <td>105</td>\n",
       "      <td>S</td>\n",
       "      <td>RN</td>\n",
       "      <td>RN</td>\n",
       "    </tr>\n",
       "    <tr>\n",
       "      <th>16813</th>\n",
       "      <td>NaN</td>\n",
       "      <td>2007-01-26</td>\n",
       "      <td>2016-10-31</td>\n",
       "      <td>2000-01-01</td>\n",
       "      <td>Conduzir o veÃ­culo transportando passageiros ...</td>\n",
       "      <td>230 II</td>\n",
       "      <td>CARGA</td>\n",
       "      <td>NaN</td>\n",
       "      <td>NaN</td>\n",
       "      <td>S</td>\n",
       "      <td>C</td>\n",
       "      <td>N</td>\n",
       "      <td>NaN</td>\n",
       "      <td>NaN</td>\n",
       "      <td>NaN</td>\n",
       "      <td>PARELHAS</td>\n",
       "      <td>FORD</td>\n",
       "      <td>101.0</td>\n",
       "      <td>108</td>\n",
       "      <td>C</td>\n",
       "      <td>RN</td>\n",
       "      <td>PE</td>\n",
       "    </tr>\n",
       "    <tr>\n",
       "      <th>23493</th>\n",
       "      <td>NaN</td>\n",
       "      <td>2007-03-16</td>\n",
       "      <td>2016-10-31</td>\n",
       "      <td>2000-01-01</td>\n",
       "      <td>Conduzir veÃ­culo sem os documentos de porte o...</td>\n",
       "      <td>232</td>\n",
       "      <td>PASSAGEIRO</td>\n",
       "      <td>NaN</td>\n",
       "      <td>NaN</td>\n",
       "      <td>S</td>\n",
       "      <td>D</td>\n",
       "      <td>N</td>\n",
       "      <td>NaN</td>\n",
       "      <td>NaN</td>\n",
       "      <td>NaN</td>\n",
       "      <td>PARELHAS</td>\n",
       "      <td>HONDA</td>\n",
       "      <td>304.0</td>\n",
       "      <td>307</td>\n",
       "      <td>C</td>\n",
       "      <td>RN</td>\n",
       "      <td>RN</td>\n",
       "    </tr>\n",
       "    <tr>\n",
       "      <th>26357</th>\n",
       "      <td>NaN</td>\n",
       "      <td>2007-04-16</td>\n",
       "      <td>2016-10-31</td>\n",
       "      <td>2000-01-01</td>\n",
       "      <td>Deixar de dar passagem pela esquerda quando so...</td>\n",
       "      <td>198</td>\n",
       "      <td>PASSAGEIRO</td>\n",
       "      <td>NaN</td>\n",
       "      <td>NaN</td>\n",
       "      <td>S</td>\n",
       "      <td>D</td>\n",
       "      <td>N</td>\n",
       "      <td>NaN</td>\n",
       "      <td>NaN</td>\n",
       "      <td>NaN</td>\n",
       "      <td>PARELHAS</td>\n",
       "      <td>HONDA</td>\n",
       "      <td>101.0</td>\n",
       "      <td>105</td>\n",
       "      <td>C</td>\n",
       "      <td>RN</td>\n",
       "      <td>RN</td>\n",
       "    </tr>\n",
       "    <tr>\n",
       "      <th>32384</th>\n",
       "      <td>NaN</td>\n",
       "      <td>2008-05-12</td>\n",
       "      <td>2012-12-31</td>\n",
       "      <td>2000-01-01</td>\n",
       "      <td>NÃ£o lanÃ§ar no documento fiscal, as informaÃ§...</td>\n",
       "      <td>46 I c</td>\n",
       "      <td>CARGA</td>\n",
       "      <td>NaN</td>\n",
       "      <td>NaN</td>\n",
       "      <td>S</td>\n",
       "      <td>C</td>\n",
       "      <td>N</td>\n",
       "      <td>NaN</td>\n",
       "      <td>NaN</td>\n",
       "      <td>23.220</td>\n",
       "      <td>PARELHAS</td>\n",
       "      <td>VW</td>\n",
       "      <td>101.0</td>\n",
       "      <td>105</td>\n",
       "      <td>C</td>\n",
       "      <td>RN</td>\n",
       "      <td>PE</td>\n",
       "    </tr>\n",
       "    <tr>\n",
       "      <th>76726</th>\n",
       "      <td>NaN</td>\n",
       "      <td>2009-09-08</td>\n",
       "      <td>2016-10-31</td>\n",
       "      <td>2000-01-01</td>\n",
       "      <td>Conduzir o veÃ­culo c/ equip do sistema de ilu...</td>\n",
       "      <td>230 XIII</td>\n",
       "      <td>CARGA</td>\n",
       "      <td>NaN</td>\n",
       "      <td>NaN</td>\n",
       "      <td>S</td>\n",
       "      <td>C</td>\n",
       "      <td>N</td>\n",
       "      <td>NaN</td>\n",
       "      <td>NaN</td>\n",
       "      <td>I/TOYOTA HILUX C</td>\n",
       "      <td>PARELHAS</td>\n",
       "      <td>TOYOTA</td>\n",
       "      <td>101.0</td>\n",
       "      <td>101</td>\n",
       "      <td>C</td>\n",
       "      <td>RN</td>\n",
       "      <td>RN</td>\n",
       "    </tr>\n",
       "    <tr>\n",
       "      <th>121159</th>\n",
       "      <td>NaN</td>\n",
       "      <td>2009-12-28</td>\n",
       "      <td>2016-10-31</td>\n",
       "      <td>2000-01-01</td>\n",
       "      <td>Conduzir o veÃ­culo com qualquer uma das placa...</td>\n",
       "      <td>230 VI</td>\n",
       "      <td>PASSAGEIRO</td>\n",
       "      <td>NaN</td>\n",
       "      <td>NaN</td>\n",
       "      <td>S</td>\n",
       "      <td>D</td>\n",
       "      <td>N</td>\n",
       "      <td>NaN</td>\n",
       "      <td>NaN</td>\n",
       "      <td>GM/ZAFIRA COMFOR</td>\n",
       "      <td>PARELHAS</td>\n",
       "      <td>GM</td>\n",
       "      <td>304.0</td>\n",
       "      <td>305</td>\n",
       "      <td>C</td>\n",
       "      <td>RN</td>\n",
       "      <td>RN</td>\n",
       "    </tr>\n",
       "    <tr>\n",
       "      <th>559236</th>\n",
       "      <td>50100.0</td>\n",
       "      <td>2017-11-24</td>\n",
       "      <td>NaN</td>\n",
       "      <td>2016-11-01</td>\n",
       "      <td>Dirigir veículo sem possuir CNH/PPD/ACC</td>\n",
       "      <td>162 I</td>\n",
       "      <td>PASSAGEIRO</td>\n",
       "      <td>0.0</td>\n",
       "      <td>15:32:00</td>\n",
       "      <td>NaN</td>\n",
       "      <td>C</td>\n",
       "      <td>N</td>\n",
       "      <td>0.0</td>\n",
       "      <td>0.0</td>\n",
       "      <td>CG 150 TITAN EX</td>\n",
       "      <td>PARELHAS</td>\n",
       "      <td>HONDA</td>\n",
       "      <td>427.0</td>\n",
       "      <td>38</td>\n",
       "      <td>C</td>\n",
       "      <td>RN</td>\n",
       "      <td>RN</td>\n",
       "    </tr>\n",
       "  </tbody>\n",
       "</table>\n",
       "</div>"
      ],
      "text/plain": [
       "        cod_infracao dat_infracao  ... uf_infracao uf_placa\n",
       "7974             NaN   2007-10-19  ...          RN       RN\n",
       "7975             NaN   2007-10-19  ...          RN       RN\n",
       "7976             NaN   2007-10-19  ...          RN       RN\n",
       "16813            NaN   2007-01-26  ...          RN       PE\n",
       "23493            NaN   2007-03-16  ...          RN       RN\n",
       "26357            NaN   2007-04-16  ...          RN       RN\n",
       "32384            NaN   2008-05-12  ...          RN       PE\n",
       "76726            NaN   2009-09-08  ...          RN       RN\n",
       "121159           NaN   2009-12-28  ...          RN       RN\n",
       "559236       50100.0   2017-11-24  ...          RN       RN\n",
       "\n",
       "[10 rows x 22 columns]"
      ]
     },
     "execution_count": 15,
     "metadata": {
      "tags": []
     },
     "output_type": "execute_result"
    }
   ],
   "source": [
    "infracoes_df.query('nom_municipio == \"PARELHAS\" ')"
   ]
  },
  {
   "cell_type": "markdown",
   "metadata": {
    "colab_type": "text",
    "id": "ArCV5Ahdg9Iy"
   },
   "source": [
    "## Tratando os dados\n",
    "\n",
    "O tratamento dos dados consistirá da correção dos  pontos vistos anteriormente\n"
   ]
  },
  {
   "cell_type": "code",
   "execution_count": null,
   "metadata": {
    "colab": {},
    "colab_type": "code",
    "id": "QLCjtqUehIm1"
   },
   "outputs": [],
   "source": [
    "# Converte campos de data\n",
    "infracoes_df.dat_infracao = pd.to_datetime(infracoes_df.dat_infracao,\n",
    "                                           format='%Y-%m-%d')\n",
    "infracoes_df.data_fim_vigencia = pd.to_datetime(infracoes_df.data_fim_vigencia,\n",
    "                                                format='%Y-%m-%d')\n",
    "infracoes_df.data_inicio_vigencia = pd.to_datetime(infracoes_df.data_inicio_vigencia,\n",
    "                                                   format='%Y-%m-%d')\n"
   ]
  },
  {
   "cell_type": "code",
   "execution_count": null,
   "metadata": {
    "colab": {
     "base_uri": "https://localhost:8080/",
     "height": 476
    },
    "colab_type": "code",
    "executionInfo": {
     "elapsed": 1294,
     "status": "ok",
     "timestamp": 1566673260015,
     "user": {
      "displayName": "MAYRA DANTAS",
      "photoUrl": "https://lh3.googleusercontent.com/a-/AAuE7mC1Nk3Cdh9E0tWxPoHxnjsDZc7rkChaMFPbhtGo=s64",
      "userId": "09389505834223807513"
     },
     "user_tz": 180
    },
    "id": "tJJAeeU8jOZl",
    "outputId": "a19b3e3a-4eb3-4d4d-b0d2-d3c853cf954b"
   },
   "outputs": [
    {
     "name": "stdout",
     "output_type": "stream",
     "text": [
      "<class 'pandas.core.frame.DataFrame'>\n",
      "RangeIndex: 641908 entries, 0 to 641907\n",
      "Data columns (total 22 columns):\n",
      "cod_infracao               141782 non-null float64\n",
      "dat_infracao               641908 non-null datetime64[ns]\n",
      "data_fim_vigencia          486313 non-null datetime64[ns]\n",
      "data_inicio_vigencia       641908 non-null datetime64[ns]\n",
      "descricao_abreviada        641908 non-null object\n",
      "enquadramento              641908 non-null object\n",
      "especie                    626005 non-null object\n",
      "exc_verificado             273502 non-null float64\n",
      "hora                       280798 non-null object\n",
      "ind_assinou_auto           129681 non-null object\n",
      "ind_sentido_trafego        513466 non-null object\n",
      "ind_veiculo_estrangeiro    641908 non-null object\n",
      "med_considerada            282002 non-null float64\n",
      "med_realizada              282003 non-null float64\n",
      "nom_modelo_veiculo         603485 non-null object\n",
      "nom_municipio              641907 non-null object\n",
      "nome_veiculo_marca         513460 non-null object\n",
      "num_br_infracao            641908 non-null float64\n",
      "num_km_infracao            641908 non-null int64\n",
      "tip_abordagem              641908 non-null object\n",
      "uf_infracao                641908 non-null object\n",
      "uf_placa                   641158 non-null object\n",
      "dtypes: datetime64[ns](3), float64(5), int64(1), object(13)\n",
      "memory usage: 107.7+ MB\n"
     ]
    }
   ],
   "source": [
    "infracoes_df.info()"
   ]
  },
  {
   "cell_type": "code",
   "execution_count": null,
   "metadata": {
    "colab": {
     "base_uri": "https://localhost:8080/",
     "height": 119
    },
    "colab_type": "code",
    "executionInfo": {
     "elapsed": 866,
     "status": "ok",
     "timestamp": 1566673260016,
     "user": {
      "displayName": "MAYRA DANTAS",
      "photoUrl": "https://lh3.googleusercontent.com/a-/AAuE7mC1Nk3Cdh9E0tWxPoHxnjsDZc7rkChaMFPbhtGo=s64",
      "userId": "09389505834223807513"
     },
     "user_tz": 180
    },
    "id": "4i2EFAxWkIj2",
    "outputId": "7d7746c7-1c6a-48aa-d958-7da97a6abe45"
   },
   "outputs": [
    {
     "data": {
      "text/plain": [
       "0    Tuesday\n",
       "1    Tuesday\n",
       "2    Tuesday\n",
       "3    Tuesday\n",
       "4    Tuesday\n",
       "Name: dat_infracao, dtype: object"
      ]
     },
     "execution_count": 18,
     "metadata": {
      "tags": []
     },
     "output_type": "execute_result"
    }
   ],
   "source": [
    "# Testa a conversão para datas\n",
    "infracoes_df.dat_infracao.dt.weekday_name.head()"
   ]
  },
  {
   "cell_type": "markdown",
   "metadata": {
    "colab_type": "text",
    "id": "Xq-w2foZmiYb"
   },
   "source": [
    "Para lidar com os dados faltantes, serão removidos apenas as linhas que não possuem informação em algum dos atributos que foram tidos como os mais relevantes."
   ]
  },
  {
   "cell_type": "code",
   "execution_count": null,
   "metadata": {
    "colab": {
     "base_uri": "https://localhost:8080/",
     "height": 34
    },
    "colab_type": "code",
    "executionInfo": {
     "elapsed": 1208,
     "status": "ok",
     "timestamp": 1566673261499,
     "user": {
      "displayName": "MAYRA DANTAS",
      "photoUrl": "https://lh3.googleusercontent.com/a-/AAuE7mC1Nk3Cdh9E0tWxPoHxnjsDZc7rkChaMFPbhtGo=s64",
      "userId": "09389505834223807513"
     },
     "user_tz": 180
    },
    "id": "ETXi2-1tnopv",
    "outputId": "e94f7c87-c79b-4878-98fa-8675e1d529df"
   },
   "outputs": [
    {
     "data": {
      "text/plain": [
       "(212843, 22)"
      ]
     },
     "execution_count": 19,
     "metadata": {
      "tags": []
     },
     "output_type": "execute_result"
    }
   ],
   "source": [
    "# Remove linhas\n",
    "infracoes_df.dropna(axis=0, subset=['hora', 'ind_sentido_trafego', 'uf_placa', \n",
    "                                    'nom_modelo_veiculo'], how='any', inplace=True)\n",
    "\n",
    "# Visualiza novo tamanho do dataset\n",
    "infracoes_df.shape"
   ]
  },
  {
   "cell_type": "markdown",
   "metadata": {
    "colab_type": "text",
    "id": "UksUy_nGyvK5"
   },
   "source": [
    "Outro tratamento importante é categorizar o horário do dia. Dividiremos em:\n",
    "- Manhã\n",
    "- Tarde\n",
    "- Noite\n",
    "- Madrugada"
   ]
  },
  {
   "cell_type": "code",
   "execution_count": null,
   "metadata": {
    "colab": {},
    "colab_type": "code",
    "id": "hB00CfDByuGh"
   },
   "outputs": [],
   "source": [
    "def categoriza_horario(row):\n",
    "  hora = row['hora']\n",
    "  if hora >= '05:00' and hora < '12:00':\n",
    "    return 'MANHÃ'\n",
    "  elif hora >= '12:00' and hora < '17:59':\n",
    "    return 'TARDE'\n",
    "  elif hora >= '18:00' and hora < '23:59':\n",
    "    return 'NOITE'\n",
    "  else:\n",
    "    return 'MADRUGADA'\n",
    "\n",
    "infracoes_df['horario'] = infracoes_df.apply(categoriza_horario, axis=1)"
   ]
  },
  {
   "cell_type": "code",
   "execution_count": null,
   "metadata": {
    "colab": {
     "base_uri": "https://localhost:8080/",
     "height": 69
    },
    "colab_type": "code",
    "executionInfo": {
     "elapsed": 945,
     "status": "ok",
     "timestamp": 1566676772501,
     "user": {
      "displayName": "MAYRA DANTAS",
      "photoUrl": "https://lh3.googleusercontent.com/a-/AAuE7mC1Nk3Cdh9E0tWxPoHxnjsDZc7rkChaMFPbhtGo=s64",
      "userId": "09389505834223807513"
     },
     "user_tz": 180
    },
    "id": "YcHZ2qTrNhPk",
    "outputId": "100a6e70-b46e-49fe-dd30-2e1c6b1b0667"
   },
   "outputs": [
    {
     "data": {
      "text/html": [
       "<div>\n",
       "<style scoped>\n",
       "    .dataframe tbody tr th:only-of-type {\n",
       "        vertical-align: middle;\n",
       "    }\n",
       "\n",
       "    .dataframe tbody tr th {\n",
       "        vertical-align: top;\n",
       "    }\n",
       "\n",
       "    .dataframe thead th {\n",
       "        text-align: right;\n",
       "    }\n",
       "</style>\n",
       "<table border=\"1\" class=\"dataframe\">\n",
       "  <thead>\n",
       "    <tr style=\"text-align: right;\">\n",
       "      <th></th>\n",
       "      <th>cod_infracao</th>\n",
       "      <th>dat_infracao</th>\n",
       "      <th>data_fim_vigencia</th>\n",
       "      <th>data_inicio_vigencia</th>\n",
       "      <th>descricao_abreviada</th>\n",
       "      <th>enquadramento</th>\n",
       "      <th>especie</th>\n",
       "      <th>exc_verificado</th>\n",
       "      <th>hora</th>\n",
       "      <th>ind_assinou_auto</th>\n",
       "      <th>ind_sentido_trafego</th>\n",
       "      <th>ind_veiculo_estrangeiro</th>\n",
       "      <th>med_considerada</th>\n",
       "      <th>med_realizada</th>\n",
       "      <th>nom_modelo_veiculo</th>\n",
       "      <th>nom_municipio</th>\n",
       "      <th>nome_veiculo_marca</th>\n",
       "      <th>num_br_infracao</th>\n",
       "      <th>num_km_infracao</th>\n",
       "      <th>tip_abordagem</th>\n",
       "      <th>uf_infracao</th>\n",
       "      <th>uf_placa</th>\n",
       "      <th>horario</th>\n",
       "      <th>dia_semana</th>\n",
       "    </tr>\n",
       "  </thead>\n",
       "  <tbody>\n",
       "  </tbody>\n",
       "</table>\n",
       "</div>"
      ],
      "text/plain": [
       "Empty DataFrame\n",
       "Columns: [cod_infracao, dat_infracao, data_fim_vigencia, data_inicio_vigencia, descricao_abreviada, enquadramento, especie, exc_verificado, hora, ind_assinou_auto, ind_sentido_trafego, ind_veiculo_estrangeiro, med_considerada, med_realizada, nom_modelo_veiculo, nom_municipio, nome_veiculo_marca, num_br_infracao, num_km_infracao, tip_abordagem, uf_infracao, uf_placa, horario, dia_semana]\n",
       "Index: []"
      ]
     },
     "execution_count": 44,
     "metadata": {
      "tags": []
     },
     "output_type": "execute_result"
    }
   ],
   "source": [
    "infracoes_df.query(\"enquadramento == ''\")"
   ]
  },
  {
   "cell_type": "markdown",
   "metadata": {
    "colab_type": "text",
    "id": "6fgJvUrirMUK"
   },
   "source": [
    "## Explorando os dados\n",
    "\n",
    "Análise visual dos dados, guiada por algumas perguntas:\n",
    " - Em quais dias da semanas ocorrem mais infrações? E em quais horários?\n",
    " - Quais infrações são mais comuns?\n",
    " - Quantas infrações feitas em estados diferentes dos da placa?\n",
    " - Em feriados são mais frequentes?"
   ]
  },
  {
   "cell_type": "code",
   "execution_count": null,
   "metadata": {
    "colab": {},
    "colab_type": "code",
    "id": "s70tMOAIrBEX"
   },
   "outputs": [],
   "source": [
    "# Importando bibliotecas\n",
    "import seaborn as sns"
   ]
  },
  {
   "cell_type": "code",
   "execution_count": null,
   "metadata": {
    "colab": {
     "base_uri": "https://localhost:8080/",
     "height": 301
    },
    "colab_type": "code",
    "executionInfo": {
     "elapsed": 1248,
     "status": "ok",
     "timestamp": 1566673271735,
     "user": {
      "displayName": "MAYRA DANTAS",
      "photoUrl": "https://lh3.googleusercontent.com/a-/AAuE7mC1Nk3Cdh9E0tWxPoHxnjsDZc7rkChaMFPbhtGo=s64",
      "userId": "09389505834223807513"
     },
     "user_tz": 180
    },
    "id": "KLGMm_pIv9DI",
    "outputId": "5e18cc41-a58d-470c-9687-1faab1c5cd7d"
   },
   "outputs": [
    {
     "data": {
      "text/plain": [
       "<matplotlib.axes._subplots.AxesSubplot at 0x7ff7bedbea20>"
      ]
     },
     "execution_count": 22,
     "metadata": {
      "tags": []
     },
     "output_type": "execute_result"
    },
    {
     "data": {
      "image/png": "[encoded data removed]",
      "text/plain": [
       "<Figure size 432x288 with 1 Axes>"
      ]
     },
     "metadata": {
      "tags": []
     },
     "output_type": "display_data"
    }
   ],
   "source": [
    "infracoes_df['dia_semana'] = infracoes_df.dat_infracao.dt.weekday_name\n",
    "sns.countplot(x='dia_semana', data=infracoes_df, palette='RdYlBu')"
   ]
  },
  {
   "cell_type": "markdown",
   "metadata": {
    "colab_type": "text",
    "id": "8sc8Wc_R3Vsf"
   },
   "source": [
    "Para responder a primeira pergunta, vemos que os dias em que mais acontecem infrações são na quinta-feira e na sexta-feira. Domingo é o dias em que menos infrações são feitas."
   ]
  },
  {
   "cell_type": "code",
   "execution_count": null,
   "metadata": {
    "colab": {
     "base_uri": "https://localhost:8080/",
     "height": 301
    },
    "colab_type": "code",
    "executionInfo": {
     "elapsed": 988,
     "status": "ok",
     "timestamp": 1566673274306,
     "user": {
      "displayName": "MAYRA DANTAS",
      "photoUrl": "https://lh3.googleusercontent.com/a-/AAuE7mC1Nk3Cdh9E0tWxPoHxnjsDZc7rkChaMFPbhtGo=s64",
      "userId": "09389505834223807513"
     },
     "user_tz": 180
    },
    "id": "tuVIj2lTxkoD",
    "outputId": "01e1cd71-c175-4a51-c0de-01120ee08014"
   },
   "outputs": [
    {
     "data": {
      "text/plain": [
       "<matplotlib.axes._subplots.AxesSubplot at 0x7ff7bed7ff98>"
      ]
     },
     "execution_count": 23,
     "metadata": {
      "tags": []
     },
     "output_type": "execute_result"
    },
    {
     "data": {
      "image/png": "[encoded data removed]",
      "text/plain": [
       "<Figure size 432x288 with 1 Axes>"
      ]
     },
     "metadata": {
      "tags": []
     },
     "output_type": "display_data"
    }
   ],
   "source": [
    "sns.countplot(x='dia_semana', hue='horario', data=infracoes_df, palette='RdYlBu')"
   ]
  },
  {
   "cell_type": "markdown",
   "metadata": {
    "colab_type": "text",
    "id": "8E5uVUb83xLw"
   },
   "source": [
    "Em todos os dias da semana, a grande maioria das infrações ocorre durante a tarde e a manhã, respectivamente. A madrugada é o período no qual menos infrações são notificadas.\n",
    "\n",
    "A maior diferença é encontrada na terça, enquanto no domingo são feitas quase o memsmo numero de infrações durante a manhã e a tarde."
   ]
  },
  {
   "cell_type": "code",
   "execution_count": null,
   "metadata": {
    "colab": {
     "base_uri": "https://localhost:8080/",
     "height": 119
    },
    "colab_type": "code",
    "executionInfo": {
     "elapsed": 719,
     "status": "ok",
     "timestamp": 1566676927296,
     "user": {
      "displayName": "MAYRA DANTAS",
      "photoUrl": "https://lh3.googleusercontent.com/a-/AAuE7mC1Nk3Cdh9E0tWxPoHxnjsDZc7rkChaMFPbhtGo=s64",
      "userId": "09389505834223807513"
     },
     "user_tz": 180
    },
    "id": "_E4sBFd-5Glt",
    "outputId": "05c2deb2-c578-4692-f5e8-2565c67ad41c"
   },
   "outputs": [
    {
     "data": {
      "text/plain": [
       "250 I b    0.104744\n",
       "162 I      0.092730\n",
       "230 * V    0.084259\n",
       "203 V      0.073947\n",
       "167        0.051503\n",
       "Name: enquadramento, dtype: float64"
      ]
     },
     "execution_count": 49,
     "metadata": {
      "tags": []
     },
     "output_type": "execute_result"
    }
   ],
   "source": [
    "# Recupera as 5 infracoes mais comuns\n",
    "most_common_violations = infracoes_df.enquadramento.value_counts(normalize=True).head()\n",
    "\n",
    "most_common_violations"
   ]
  },
  {
   "cell_type": "code",
   "execution_count": null,
   "metadata": {
    "colab": {
     "base_uri": "https://localhost:8080/",
     "height": 102
    },
    "colab_type": "code",
    "executionInfo": {
     "elapsed": 705,
     "status": "ok",
     "timestamp": 1566677027537,
     "user": {
      "displayName": "MAYRA DANTAS",
      "photoUrl": "https://lh3.googleusercontent.com/a-/AAuE7mC1Nk3Cdh9E0tWxPoHxnjsDZc7rkChaMFPbhtGo=s64",
      "userId": "09389505834223807513"
     },
     "user_tz": 180
    },
    "id": "XK75BEFU9C9U",
    "outputId": "901199b2-a85a-4534-fe26-5b2ae4166e56"
   },
   "outputs": [
    {
     "name": "stdout",
     "output_type": "stream",
     "text": [
      "['Em movimento de dia, deixar de manter acesa luz baixa nas rodovias.']\n",
      "['Dirigir veículo sem possuir CNH/PPD/ACC']\n",
      "['Conduzir o veículo registrado que não esteja devidamente licenciado']\n",
      "['Ultrapassar pela contramão linha de divisão de fluxos opostos, contínua amarela']\n",
      "['Deixar o passageiro de usar o cinto segurança']\n"
     ]
    }
   ],
   "source": [
    "for violation in most_common_violations.index:\n",
    "  description = infracoes_df.query(\"enquadramento == '\" + violation+ \"'\").tail(1).descricao_abreviada.values\n",
    "  print(description)"
   ]
  },
  {
   "cell_type": "markdown",
   "metadata": {
    "colab_type": "text",
    "id": "iH6aF2-M6QE0"
   },
   "source": [
    "A infração mais comum entre 2017 e 2018 é aquela cometida ao deixar os faróis apagados durante as BRs, o que poderia ser explicado por ser uma medida relativamente nova e algo que pode ser facilmente esquecido pelo condutor.\n",
    "\n",
    "Os motivos de multas que seguem em segundo e terceiro lugar são violações mais graves e chegam a ser mais preocupantes, visto que o fato do veículo estar em rodovia federal apresenta um enorme perigo para todos, sendo ou motorista desqualificado ou o veículo irregular.\n",
    "\n",
    "O quarto lugar também é uma infração grave e que compromete a segurança de todos."
   ]
  }
 ],
 "metadata": {
  "colab": {
   "name": "1.1 - driving violations analysis.ipynb",
   "provenance": [],
   "version": "0.3.2"
  },
  "kernelspec": {
   "display_name": "Python 3",
   "language": "python",
   "name": "python3"
  },
  "language_info": {
   "codemirror_mode": {
    "name": "ipython",
    "version": 3
   },
   "file_extension": ".py",
   "mimetype": "text/x-python",
   "name": "python",
   "nbconvert_exporter": "python",
   "pygments_lexer": "ipython3",
   "version": "3.6.8"
  }
 },
 "nbformat": 4,
 "nbformat_minor": 2
}
