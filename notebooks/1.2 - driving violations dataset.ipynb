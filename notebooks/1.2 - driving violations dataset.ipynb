{
 "cells": [
  {
   "cell_type": "code",
   "execution_count": null,
   "metadata": {
    "colab": {},
    "colab_type": "code",
    "id": "AT9kuWxpsI9I"
   },
   "outputs": [],
   "source": [
    "from prf_api.prf_api import PRFApi\n",
    "import pandas as pd"
   ]
  },
  {
   "cell_type": "markdown",
   "metadata": {
    "colab_type": "text",
    "id": "LlQ7ZjXFsl2o"
   },
   "source": [
    "## Getting the data"
   ]
  },
  {
   "cell_type": "code",
   "execution_count": 3,
   "metadata": {
    "colab": {
     "base_uri": "https://localhost:8080/",
     "height": 1000
    },
    "colab_type": "code",
    "executionInfo": {
     "elapsed": 813662,
     "status": "ok",
     "timestamp": 1566765282487,
     "user": {
      "displayName": "MAYRA DANTAS",
      "photoUrl": "https://lh3.googleusercontent.com/a-/AAuE7mC1Nk3Cdh9E0tWxPoHxnjsDZc7rkChaMFPbhtGo=s64",
      "userId": "09389505834223807513"
     },
     "user_tz": 180
    },
    "id": "n4X5mzV9sk4e",
    "outputId": "14b7651b-455d-4a5e-e10b-eb403c4e8ec8"
   },
   "outputs": [
    {
     "name": "stdout",
     "output_type": "stream",
     "text": [
      "Buscando datasets de infracoes para o ano 2007...\n",
      "\u001b[94m>> Baixando 2007/jan_fev.csv\u001b[0m\n",
      "\u001b[94m>> Baixando 2007/jul_ago.csv\u001b[0m\n",
      "\u001b[94m>> Baixando 2007/mai_jun.csv\u001b[0m\n",
      "\u001b[94m>> Baixando 2007/mar_abr.csv\u001b[0m\n",
      "\u001b[94m>> Baixando 2007/nov_dez.csv\u001b[0m\n",
      "\u001b[94m>> Baixando 2007/set_out.csv\u001b[0m\n",
      "Buscando datasets de infracoes para o ano 2008...\n",
      "\u001b[94m>> Baixando 2008/jan_fev.csv\u001b[0m\n",
      "\u001b[94m>> Baixando 2008/jul_ago.csv\u001b[0m\n",
      "\u001b[94m>> Baixando 2008/mai_jun.csv\u001b[0m\n",
      "\u001b[94m>> Baixando 2008/mar_abr.csv\u001b[0m\n",
      "\u001b[94m>> Baixando 2008/nov_dez.csv\u001b[0m\n",
      "\u001b[94m>> Baixando 2008/set_out.csv\u001b[0m\n",
      "Buscando datasets de infracoes para o ano 2009...\n",
      "\u001b[94m>> Baixando 2009/jan_fev.csv\u001b[0m\n",
      "\u001b[94m>> Baixando 2009/jul_ago.csv\u001b[0m\n",
      "\u001b[94m>> Baixando 2009/mai_jun.csv\u001b[0m\n",
      "\u001b[94m>> Baixando 2009/mar_abr.csv\u001b[0m\n",
      "\u001b[94m>> Baixando 2009/nov_dez.csv\u001b[0m\n",
      "\u001b[94m>> Baixando 2009/set_out.csv\u001b[0m\n",
      "Buscando datasets de infracoes para o ano 2010...\n",
      "\u001b[94m>> Baixando 2010/jan_fev.csv\u001b[0m\n",
      "\u001b[94m>> Baixando 2010/jul_ago.csv\u001b[0m\n",
      "\u001b[94m>> Baixando 2010/mai_jun.csv\u001b[0m\n",
      "\u001b[94m>> Baixando 2010/mar_abr.csv\u001b[0m\n",
      "\u001b[94m>> Baixando 2010/nov_dez.csv\u001b[0m\n",
      "\u001b[94m>> Baixando 2010/set_out.csv\u001b[0m\n",
      "Buscando datasets de infracoes para o ano 2011...\n",
      "\u001b[94m>> Baixando 2011/jan_fev.csv\u001b[0m\n",
      "\u001b[94m>> Baixando 2011/jul_ago.csv\u001b[0m\n",
      "\u001b[94m>> Baixando 2011/mai_jun.csv\u001b[0m\n",
      "\u001b[94m>> Baixando 2011/mar_abr.csv\u001b[0m\n",
      "\u001b[94m>> Baixando 2011/nov_dez.csv\u001b[0m\n",
      "\u001b[94m>> Baixando 2011/set_out.csv\u001b[0m\n",
      "Buscando datasets de infracoes para o ano 2012...\n",
      "\u001b[94m>> Baixando 2012/jan_fev.csv\u001b[0m\n",
      "\u001b[94m>> Baixando 2012/jul_ago.csv\u001b[0m\n",
      "\u001b[94m>> Baixando 2012/mai_jun.csv\u001b[0m\n",
      "\u001b[94m>> Baixando 2012/mar_abr.csv\u001b[0m\n",
      "\u001b[94m>> Baixando 2012/nov_dez.csv\u001b[0m\n",
      "\u001b[94m>> Baixando 2012/set_out.csv\u001b[0m\n",
      "Buscando datasets de infracoes para o ano 2013...\n",
      "\u001b[94m>> Baixando 2013/jan_fev.csv\u001b[0m\n",
      "\u001b[94m>> Baixando 2013/jul_ago.csv\u001b[0m\n",
      "\u001b[94m>> Baixando 2013/mai_jun.csv\u001b[0m\n",
      "\u001b[94m>> Baixando 2013/mar_abr.csv\u001b[0m\n",
      "\u001b[94m>> Baixando 2013/nov_dez.csv\u001b[0m\n",
      "\u001b[94m>> Baixando 2013/set_out.csv\u001b[0m\n",
      "Buscando datasets de infracoes para o ano 2014...\n",
      "\u001b[94m>> Baixando 2014/jan_fev.csv\u001b[0m\n",
      "\u001b[94m>> Baixando 2014/jul_ago.csv\u001b[0m\n",
      "\u001b[94m>> Baixando 2014/mai_jun.csv\u001b[0m\n",
      "\u001b[94m>> Baixando 2014/mar_abr.csv\u001b[0m\n",
      "\u001b[94m>> Baixando 2014/nov_dez.csv\u001b[0m\n",
      "\u001b[94m>> Baixando 2014/set_out.csv\u001b[0m\n",
      "Buscando datasets de infracoes para o ano 2015...\n",
      "\u001b[94m>> Baixando 2015/fev.csv\u001b[0m\n",
      "\u001b[94m>> Baixando 2015/jan.csv\u001b[0m\n",
      "\u001b[94m>> Baixando 2015/jul.csv\u001b[0m\n",
      "\u001b[94m>> Baixando 2015/jun.csv\u001b[0m\n",
      "\u001b[94m>> Baixando 2015/mai.csv\u001b[0m\n",
      "\u001b[94m>> Baixando 2015/mar.csv\u001b[0m\n",
      "\u001b[94m>> Baixando 2015/nov.csv\u001b[0m\n",
      "\u001b[94m>> Baixando 2015/out.csv\u001b[0m\n",
      "\u001b[94m>> Baixando 2015/set.csv\u001b[0m\n",
      "\u001b[94m>> Baixando 2015/abr.csv\u001b[0m\n",
      "\u001b[94m>> Baixando 2015/ago.csv\u001b[0m\n",
      "\u001b[94m>> Baixando 2015/dez.csv\u001b[0m\n",
      "Buscando datasets de infracoes para o ano 2016...\n",
      "\u001b[94m>> Baixando 2016/jun.csv\u001b[0m\n",
      "\u001b[94m>> Baixando 2016/mai.csv\u001b[0m\n",
      "\u001b[94m>> Baixando 2016/mar.csv\u001b[0m\n",
      "\u001b[94m>> Baixando 2016/nov.csv\u001b[0m\n",
      "\u001b[94m>> Baixando 2016/out.csv\u001b[0m\n",
      "\u001b[94m>> Baixando 2016/set.csv\u001b[0m\n",
      "\u001b[94m>> Baixando 2016/abr.csv\u001b[0m\n",
      "\u001b[94m>> Baixando 2016/ago.csv\u001b[0m\n",
      "\u001b[94m>> Baixando 2016/dez.csv\u001b[0m\n",
      "\u001b[94m>> Baixando 2016/fev.csv\u001b[0m\n",
      "\u001b[94m>> Baixando 2016/jan.csv\u001b[0m\n",
      "\u001b[94m>> Baixando 2016/jul.csv\u001b[0m\n",
      "Buscando datasets de infracoes para o ano 2017...\n",
      "\u001b[94m>> Baixando 2017/ago.csv\u001b[0m\n",
      "\u001b[94m>> Baixando 2017/dez.csv\u001b[0m\n",
      "\u001b[94m>> Baixando 2017/fev.csv\u001b[0m\n",
      "\u001b[94m>> Baixando 2017/jan.csv\u001b[0m\n",
      "\u001b[94m>> Baixando 2017/jul.csv\u001b[0m\n",
      "\u001b[94m>> Baixando 2017/jun.csv\u001b[0m\n",
      "\u001b[94m>> Baixando 2017/mai.csv\u001b[0m\n",
      "\u001b[94m>> Baixando 2017/mar.csv\u001b[0m\n",
      "\u001b[94m>> Baixando 2017/nov.csv\u001b[0m\n",
      "\u001b[94m>> Baixando 2017/out.csv\u001b[0m\n",
      "\u001b[94m>> Baixando 2017/set.csv\u001b[0m\n",
      "\u001b[94m>> Baixando 2017/abr.csv\u001b[0m\n",
      "Buscando datasets de infracoes para o ano 2018...\n",
      "\u001b[94m>> Baixando 2018/abr.csv\u001b[0m\n",
      "\u001b[94m>> Baixando 2018/ago.csv\u001b[0m\n",
      "\u001b[94m>> Baixando 2018/dez.csv\u001b[0m\n",
      "\u001b[94m>> Baixando 2018/fev.csv\u001b[0m\n",
      "\u001b[94m>> Baixando 2018/jan.csv\u001b[0m\n",
      "\u001b[94m>> Baixando 2018/jul.csv\u001b[0m\n",
      "\u001b[94m>> Baixando 2018/jun.csv\u001b[0m\n",
      "\u001b[94m>> Baixando 2018/mai.csv\u001b[0m\n",
      "\u001b[94m>> Baixando 2018/mar.csv\u001b[0m\n",
      "\u001b[94m>> Baixando 2018/nov.csv\u001b[0m\n",
      "\u001b[94m>> Baixando 2018/out.csv\u001b[0m\n",
      "\u001b[94m>> Baixando 2018/set.csv\u001b[0m\n",
      ">>> Criando dataframe com ano 2007...\n",
      ">>> Criando dataframe com ano 2008...\n",
      ">>> Criando dataframe com ano 2009...\n",
      ">>> Criando dataframe com ano 2010...\n",
      ">>> Criando dataframe com ano 2011...\n",
      ">>> Criando dataframe com ano 2012...\n",
      ">>> Criando dataframe com ano 2013...\n",
      ">>> Criando dataframe com ano 2014...\n",
      ">>> Criando dataframe com ano 2015...\n"
     ]
    },
    {
     "name": "stderr",
     "output_type": "stream",
     "text": [
      "/usr/local/lib/python3.6/dist-packages/pandas/core/frame.py:6692: FutureWarning: Sorting because non-concatenation axis is not aligned. A future version\n",
      "of pandas will change to not sort by default.\n",
      "\n",
      "To accept the future behavior, pass 'sort=False'.\n",
      "\n",
      "To retain the current behavior and silence the warning, pass 'sort=True'.\n",
      "\n",
      "  sort=sort)\n"
     ]
    },
    {
     "name": "stdout",
     "output_type": "stream",
     "text": [
      ">>> Criando dataframe com ano 2016...\n"
     ]
    },
    {
     "name": "stderr",
     "output_type": "stream",
     "text": [
      "/usr/local/lib/python3.6/dist-packages/IPython/core/interactiveshell.py:2822: DtypeWarning: Columns (13) have mixed types. Specify dtype option on import or set low_memory=False.\n",
      "  if self.run_code(code, result):\n"
     ]
    },
    {
     "name": "stdout",
     "output_type": "stream",
     "text": [
      ">>> Criando dataframe com ano 2017...\n",
      ">>> Criando dataframe com ano 2018...\n"
     ]
    },
    {
     "name": "stderr",
     "output_type": "stream",
     "text": [
      "/usr/local/lib/python3.6/dist-packages/IPython/core/interactiveshell.py:2822: DtypeWarning: Columns (14) have mixed types. Specify dtype option on import or set low_memory=False.\n",
      "  if self.run_code(code, result):\n"
     ]
    }
   ],
   "source": [
    "prf_api = PRFApi()\n",
    "\n",
    "violations_df = prf_api.dataframe('infracoes', anos=list(range(2007, 2019)), estado='RN')"
   ]
  },
  {
   "cell_type": "markdown",
   "metadata": {
    "colab_type": "text",
    "id": "2UFPRKU74Qa4"
   },
   "source": [
    "## Counting the violations\n",
    "\n",
    "In order to aggregate the information to the accidents dataset, we must count the number of the most commons violations commited in each km of the road.\n",
    "\n",
    "The most commited violations are 250 I b, 162 I, 230 * V, 203 V, 167."
   ]
  },
  {
   "cell_type": "code",
   "execution_count": null,
   "metadata": {
    "colab": {},
    "colab_type": "code",
    "id": "CNrIGrtX4Zvm"
   },
   "outputs": [],
   "source": [
    "violations = ['250 I b', '162 I', '230 * V', '203 V', '167']\n",
    "groupped = violations_df.query(\"enquadramento in ['250 I b', '162 I', '230 * V',\\\n",
    "                               '203 V', '167']\").groupby(['dat_infracao','num_km_infracao', \n",
    "                                                         'num_br_infracao'])['cod_infracao'].agg('count')"
   ]
  },
  {
   "cell_type": "code",
   "execution_count": 5,
   "metadata": {
    "colab": {
     "base_uri": "https://localhost:8080/",
     "height": 1000
    },
    "colab_type": "code",
    "executionInfo": {
     "elapsed": 814046,
     "status": "ok",
     "timestamp": 1566765282883,
     "user": {
      "displayName": "MAYRA DANTAS",
      "photoUrl": "https://lh3.googleusercontent.com/a-/AAuE7mC1Nk3Cdh9E0tWxPoHxnjsDZc7rkChaMFPbhtGo=s64",
      "userId": "09389505834223807513"
     },
     "user_tz": 180
    },
    "id": "516X9oZo6vns",
    "outputId": "bb4ab3d5-288c-4c86-83d2-f7491ae8c2e7"
   },
   "outputs": [
    {
     "data": {
      "text/plain": [
       "dat_infracao  num_km_infracao  num_br_infracao\n",
       "2007-01-01    0                427.0               0\n",
       "              1                427.0               0\n",
       "              5                427.0               0\n",
       "              9                427.0               0\n",
       "              25               304.0               0\n",
       "              38               304.0               0\n",
       "              111              101.0               0\n",
       "              117              226.0               0\n",
       "              1759             304.0               0\n",
       "2007-01-02    1                427.0               0\n",
       "              30               304.0               0\n",
       "              47               110.0               0\n",
       "              59               304.0               0\n",
       "              159              406.0               0\n",
       "              193              304.0               0\n",
       "              296              304.0               0\n",
       "2007-01-03    35               304.0               0\n",
       "              40               304.0               0\n",
       "              144              101.0               0\n",
       "              146              226.0               0\n",
       "              149              226.0               0\n",
       "              161              406.0               0\n",
       "2007-01-04    3                405.0               0\n",
       "              25               304.0               0\n",
       "              39               304.0               0\n",
       "              45               304.0               0\n",
       "              104              304.0               0\n",
       "              174              226.0               0\n",
       "              175              405.0               0\n",
       "              187              304.0               0\n",
       "                                                  ..\n",
       "2018-12-31    25               304.0               7\n",
       "              26               110.0              19\n",
       "              37               304.0               3\n",
       "              46               110.0               1\n",
       "              47               304.0               2\n",
       "              56               304.0               1\n",
       "              57               101.0               1\n",
       "              71               101.0              11\n",
       "              75               101.0               1\n",
       "              84               304.0               1\n",
       "              96               101.0               9\n",
       "              97               101.0               2\n",
       "                               427.0               3\n",
       "              98               427.0               1\n",
       "              99               427.0               7\n",
       "              100              226.0               5\n",
       "                               427.0               2\n",
       "              101              101.0              44\n",
       "                               226.0               6\n",
       "              106              101.0               1\n",
       "                               427.0               2\n",
       "              107              226.0               4\n",
       "              109              226.0               5\n",
       "              110              226.0               2\n",
       "              111              226.0               9\n",
       "              118              101.0               1\n",
       "                               226.0               1\n",
       "              168              406.0              37\n",
       "              174              226.0               2\n",
       "              295              304.0               3\n",
       "Name: cod_infracao, Length: 79410, dtype: int64"
      ]
     },
     "execution_count": 5,
     "metadata": {
      "tags": []
     },
     "output_type": "execute_result"
    }
   ],
   "source": [
    "groupped"
   ]
  },
  {
   "cell_type": "code",
   "execution_count": 6,
   "metadata": {
    "colab": {
     "base_uri": "https://localhost:8080/",
     "height": 71
    },
    "colab_type": "code",
    "executionInfo": {
     "elapsed": 814381,
     "status": "ok",
     "timestamp": 1566765283227,
     "user": {
      "displayName": "MAYRA DANTAS",
      "photoUrl": "https://lh3.googleusercontent.com/a-/AAuE7mC1Nk3Cdh9E0tWxPoHxnjsDZc7rkChaMFPbhtGo=s64",
      "userId": "09389505834223807513"
     },
     "user_tz": 180
    },
    "id": "qBKxoizHBZ1o",
    "outputId": "07656f49-69b0-4c7f-a45b-126336affc8e"
   },
   "outputs": [
    {
     "name": "stderr",
     "output_type": "stream",
     "text": [
      "/usr/local/lib/python3.6/dist-packages/ipykernel_launcher.py:1: FutureWarning: The signature of `Series.to_csv` was aligned to that of `DataFrame.to_csv`, and argument 'header' will change its default value from False to True: please pass an explicit value to suppress this warning.\n",
      "  \"\"\"Entry point for launching an IPython kernel.\n"
     ]
    }
   ],
   "source": [
    "groupped.to_csv('violations_count.csv', sep=';')"
   ]
  }
 ],
 "metadata": {
  "colab": {
   "name": "1.2 - driving violations dataset.ipynb",
   "provenance": [],
   "toc_visible": true,
   "version": "0.3.2"
  },
  "kernelspec": {
   "display_name": "Python 3",
   "language": "python",
   "name": "python3"
  },
  "language_info": {
   "codemirror_mode": {
    "name": "ipython",
    "version": 3
   },
   "file_extension": ".py",
   "mimetype": "text/x-python",
   "name": "python",
   "nbconvert_exporter": "python",
   "pygments_lexer": "ipython3",
   "version": "3.6.8"
  }
 },
 "nbformat": 4,
 "nbformat_minor": 2
}
